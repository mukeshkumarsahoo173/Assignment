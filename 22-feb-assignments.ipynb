{
 "cells": [
  {
   "cell_type": "markdown",
   "id": "55308133-7fac-4c66-84ae-88b271e6a797",
   "metadata": {},
   "source": [
    "# Q1. Create a Pandas Series that contains the following data: 4, 8, 15, 16, 23, and 42. Then, print the series.\n",
    "Ans"
   ]
  },
  {
   "cell_type": "code",
   "execution_count": 1,
   "id": "da378db7-b5a1-4abd-8564-3458f1fa424f",
   "metadata": {},
   "outputs": [
    {
     "name": "stdout",
     "output_type": "stream",
     "text": [
      "s1 is a <class 'pandas.core.series.Series'>\n",
      "\n",
      "0     4\n",
      "1     8\n",
      "2    15\n",
      "3    16\n",
      "4    23\n",
      "5    42\n",
      "dtype: int64\n"
     ]
    }
   ],
   "source": [
    "import pandas as pd\n",
    "s1=pd.Series([4, 8, 15, 16, 23,42]) #creating the panda series s1\n",
    "#printing s1\n",
    "print(f's1 is a {type(s1)}')\n",
    "print()\n",
    "print(s1)"
   ]
  },
  {
   "cell_type": "markdown",
   "id": "f8b67881-c2d6-4da1-acfc-dadf40ef1476",
   "metadata": {},
   "source": [
    "# Q2. Create a variable of list type containing 10 elements in it, and apply pandas.Series function on the variable print it.\n",
    "Ans"
   ]
  },
  {
   "cell_type": "code",
   "execution_count": 4,
   "id": "c5b90a87-8b01-42e2-91fd-349103863000",
   "metadata": {},
   "outputs": [
    {
     "data": {
      "text/plain": [
       "0     1\n",
       "1     2\n",
       "2     3\n",
       "3     4\n",
       "4     5\n",
       "5     6\n",
       "6     7\n",
       "7     8\n",
       "8     9\n",
       "9    10\n",
       "dtype: int64"
      ]
     },
     "execution_count": 4,
     "metadata": {},
     "output_type": "execute_result"
    }
   ],
   "source": [
    "l=[i for i in range(1,11)]\n",
    "\n",
    "series=pd.Series(l)\n",
    "series"
   ]
  },
  {
   "attachments": {
    "54f39314-7c3e-47c8-9d58-6c4c2764190d.png": {
     "image/png": "[encoded data removed]"
    }
   },
   "cell_type": "markdown",
   "id": "a7261907-9fde-456d-9f0d-e2e6143e105d",
   "metadata": {},
   "source": [
    "# Q3. Create a Pandas DataFrame that contains the following data:\n",
    "![download.png](attachment:54f39314-7c3e-47c8-9d58-6c4c2764190d.png)\n",
    "ANS"
   ]
  },
  {
   "cell_type": "code",
   "execution_count": 7,
   "id": "56179626-eeb4-47d6-836d-bb37ecc2c0e3",
   "metadata": {},
   "outputs": [],
   "source": [
    "df=pd.DataFrame({\"Name\":[\"Alice\",\"Bob\",\"Claire\"],\n",
    "                 \"Age\":[25,30,27],\n",
    "                 \"gender\":[\"Female\",\"Male\",\"Female\"] })"
   ]
  },
  {
   "cell_type": "code",
   "execution_count": 8,
   "id": "db8af3c8-5bac-4052-b0bd-a46ac91e2fd3",
   "metadata": {},
   "outputs": [
    {
     "data": {
      "text/html": [
       "<div>\n",
       "<style scoped>\n",
       "    .dataframe tbody tr th:only-of-type {\n",
       "        vertical-align: middle;\n",
       "    }\n",
       "\n",
       "    .dataframe tbody tr th {\n",
       "        vertical-align: top;\n",
       "    }\n",
       "\n",
       "    .dataframe thead th {\n",
       "        text-align: right;\n",
       "    }\n",
       "</style>\n",
       "<table border=\"1\" class=\"dataframe\">\n",
       "  <thead>\n",
       "    <tr style=\"text-align: right;\">\n",
       "      <th></th>\n",
       "      <th>Name</th>\n",
       "      <th>Age</th>\n",
       "      <th>gender</th>\n",
       "    </tr>\n",
       "  </thead>\n",
       "  <tbody>\n",
       "    <tr>\n",
       "      <th>0</th>\n",
       "      <td>Alice</td>\n",
       "      <td>25</td>\n",
       "      <td>Female</td>\n",
       "    </tr>\n",
       "    <tr>\n",
       "      <th>1</th>\n",
       "      <td>Bob</td>\n",
       "      <td>30</td>\n",
       "      <td>Male</td>\n",
       "    </tr>\n",
       "    <tr>\n",
       "      <th>2</th>\n",
       "      <td>Claire</td>\n",
       "      <td>27</td>\n",
       "      <td>Female</td>\n",
       "    </tr>\n",
       "  </tbody>\n",
       "</table>\n",
       "</div>"
      ],
      "text/plain": [
       "     Name  Age  gender\n",
       "0   Alice   25  Female\n",
       "1     Bob   30    Male\n",
       "2  Claire   27  Female"
      ]
     },
     "execution_count": 8,
     "metadata": {},
     "output_type": "execute_result"
    }
   ],
   "source": [
    "df"
   ]
  },
  {
   "cell_type": "markdown",
   "id": "7f535188-fbb6-4163-9b77-f9c01bf5133b",
   "metadata": {},
   "source": [
    "# Q4. What is ‘DataFrame’ in pandas and how is it different from pandas.series? Explain with an example.\n",
    "Ans"
   ]
  },
  {
   "cell_type": "markdown",
   "id": "57480c02-8094-4ee9-b23e-cf41d567ee38",
   "metadata": {},
   "source": [
    "## DataFrame:\n",
    "* Dataframe is a table kind of structure which stores data in tabuler manner. It is a collection of series\n",
    "## Diffrence b/w DataFrame and Series\n",
    "* The Series is the data structure for a single column of a DataFrame\n",
    "* DataFrame is actually stored in memory as a collection of Series."
   ]
  },
  {
   "cell_type": "markdown",
   "id": "6e34974e-bf84-42c5-9020-0ad86ec7c7a5",
   "metadata": {},
   "source": [
    "# Q5. What are some common functions you can use to manipulate data in a Pandas DataFrame? Can you give an example of when you might use one of these functions?\n",
    "Ans"
   ]
  },
  {
   "cell_type": "markdown",
   "id": "0a50f742-dfb2-48fc-8d49-c16a163bfa0d",
   "metadata": {},
   "source": [
    "## Data manupulation in pandas can be done through multiple functionalities\n",
    "\n",
    "* addition (+) or substraction (-) or multiplication (*) or division (/) of 2 or more cols\n",
    "\n",
    "* getting average through -- df.col_name.mean()\n",
    "\n",
    "* getting median through -- df.col_name.median()\n",
    "\n",
    "* df.col_name.mode() to get the most frequesnt elements\n",
    "\n",
    "* df.col_name.quantile(.90) to get the quantile\n",
    "\n",
    "* df.describe() to get mean, media, std, 25%, 50% 75% min and max data\n",
    "\n",
    "* df.shape\n",
    "\n",
    "* df.info()\n",
    "\n",
    "* df.dtype\n",
    "\n",
    "* df.drop_duplicates()\n",
    "\n",
    "* df.fillna(0)"
   ]
  },
  {
   "cell_type": "code",
   "execution_count": 9,
   "id": "b680bcda-d957-4bd4-98a0-e7b182af1442",
   "metadata": {},
   "outputs": [
    {
     "data": {
      "text/html": [
       "<div>\n",
       "<style scoped>\n",
       "    .dataframe tbody tr th:only-of-type {\n",
       "        vertical-align: middle;\n",
       "    }\n",
       "\n",
       "    .dataframe tbody tr th {\n",
       "        vertical-align: top;\n",
       "    }\n",
       "\n",
       "    .dataframe thead th {\n",
       "        text-align: right;\n",
       "    }\n",
       "</style>\n",
       "<table border=\"1\" class=\"dataframe\">\n",
       "  <thead>\n",
       "    <tr style=\"text-align: right;\">\n",
       "      <th></th>\n",
       "      <th>name</th>\n",
       "      <th>dob</th>\n",
       "      <th>purchase_date</th>\n",
       "      <th>Age</th>\n",
       "    </tr>\n",
       "  </thead>\n",
       "  <tbody>\n",
       "    <tr>\n",
       "      <th>0</th>\n",
       "      <td>ram</td>\n",
       "      <td>1990</td>\n",
       "      <td>2023</td>\n",
       "      <td>33.0</td>\n",
       "    </tr>\n",
       "    <tr>\n",
       "      <th>1</th>\n",
       "      <td>shyam</td>\n",
       "      <td>2001</td>\n",
       "      <td>2023</td>\n",
       "      <td>22.0</td>\n",
       "    </tr>\n",
       "    <tr>\n",
       "      <th>2</th>\n",
       "      <td>mohan</td>\n",
       "      <td>2014</td>\n",
       "      <td>2023</td>\n",
       "      <td>9.0</td>\n",
       "    </tr>\n",
       "  </tbody>\n",
       "</table>\n",
       "</div>"
      ],
      "text/plain": [
       "    name   dob purchase_date   Age\n",
       "0    ram  1990          2023  33.0\n",
       "1  shyam  2001          2023  22.0\n",
       "2  mohan  2014          2023   9.0"
      ]
     },
     "execution_count": 9,
     "metadata": {},
     "output_type": "execute_result"
    }
   ],
   "source": [
    "dx={\"name\":[\"ram\", 'shyam', 'mohan'], \"dob\":[\"11-02-1990\", \"12-3-2001\", \"04-04-2014\"],\\\n",
    " \"purchase_date\": [\"11-01-2023\", \"12-05-2023\", \"04-01-2023\"]}\n",
    "dx=pd.DataFrame(dx) #creation of the dataframe\n",
    "\n",
    "\n",
    "dx.purchase_date=pd.to_datetime(dx[\"purchase_date\"]).dt.strftime(\"%Y\") # getting the years from the columns\n",
    "dx.dob=pd.to_datetime(dx[\"dob\"]).dt.strftime(\"%Y\")\n",
    "dx['Age']=dx[\"purchase_date\"].astype('float')- dx[\"dob\"].astype('float') # getting the age and save the age in new col age\n",
    "# print the dx\n",
    "dx"
   ]
  },
  {
   "cell_type": "markdown",
   "id": "111dc290-cd97-45c7-89ca-e7bf78296d24",
   "metadata": {},
   "source": [
    "# Q6. Which of the following is mutable in nature Series, DataFrame, Panel?\n",
    "Ans"
   ]
  },
  {
   "cell_type": "markdown",
   "id": "436f2f1c-c6e9-4145-aacc-1d53cfb7497a",
   "metadata": {},
   "source": [
    "* All pandas data structures are value-mutable (the values they contain can be altered) but not always size-mutable.\n",
    "* The length of a Series cannot be changed, but, for example, columns can be inserted into a DataFrame.\n",
    "* However, the vast majority of methods produce new objects and leave the input data untouched."
   ]
  },
  {
   "cell_type": "markdown",
   "id": "187d6c92-3aa8-4d96-980b-fe5d71487c65",
   "metadata": {},
   "source": [
    "# Q7. Create a DataFrame using multiple Series. Explain with an example.\n",
    "Ans"
   ]
  },
  {
   "cell_type": "code",
   "execution_count": null,
   "id": "7f7d00b2-3281-4d18-8b35-515953de74b9",
   "metadata": {},
   "outputs": [],
   "source": [
    "courses = pd.Series([\"Spark\",\"PySpark\",\"Hadoop\"]) #series1\n",
    "fees = pd.Series([22000,25000,23000]) # series 2\n",
    "discount  = pd.Series([1000,2300,1000]) #series 3\n",
    "\n",
    "\n",
    "# combine multiple series.\n",
    "df1=pd.concat([courses,fees,discount],axis=1, ) #concat\n",
    "df1.columns=[\"name_of_course\", \"cost\", \"discount\"] #rename the columns\n",
    "df1"
   ]
  }
 ],
 "metadata": {
  "kernelspec": {
   "display_name": "Python 3 (ipykernel)",
   "language": "python",
   "name": "python3"
  },
  "language_info": {
   "codemirror_mode": {
    "name": "ipython",
    "version": 3
   },
   "file_extension": ".py",
   "mimetype": "text/x-python",
   "name": "python",
   "nbconvert_exporter": "python",
   "pygments_lexer": "ipython3",
   "version": "3.10.8"
  }
 },
 "nbformat": 4,
 "nbformat_minor": 5
}
