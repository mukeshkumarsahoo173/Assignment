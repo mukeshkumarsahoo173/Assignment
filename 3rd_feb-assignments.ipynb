{
 "cells": [
  {
   "cell_type": "markdown",
   "id": "4e7e6d83-e06b-4b64-9a3f-af01233905dc",
   "metadata": {},
   "source": [
    "# Q1. Which keyword is used to create a function? Create a function to return a list of odd numbers in the range of 1 to 25."
   ]
  },
  {
   "cell_type": "markdown",
   "id": "201f1e52-c971-48ed-a243-f0175d41bb3a",
   "metadata": {},
   "source": [
    "Ans:"
   ]
  },
  {
   "cell_type": "markdown",
   "id": "8d6b102f-4311-4d88-ac20-1c2b8204c672",
   "metadata": {},
   "source": [
    "def keyword is used to create a function."
   ]
  },
  {
   "cell_type": "code",
   "execution_count": 1,
   "id": "14a3d8e6-db25-4ce7-82e0-f9a28d0cc4bf",
   "metadata": {},
   "outputs": [],
   "source": [
    "l=[]\n",
    "def odd():\n",
    "    for i in range(1,26):\n",
    "        if i%2!=0:\n",
    "            l.append(i)\n",
    "    return l"
   ]
  },
  {
   "cell_type": "code",
   "execution_count": 2,
   "id": "c363252f-c51c-40de-b211-41bb502d24bf",
   "metadata": {},
   "outputs": [
    {
     "data": {
      "text/plain": [
       "[1, 3, 5, 7, 9, 11, 13, 15, 17, 19, 21, 23, 25]"
      ]
     },
     "execution_count": 2,
     "metadata": {},
     "output_type": "execute_result"
    }
   ],
   "source": [
    "odd()"
   ]
  },
  {
   "cell_type": "markdown",
   "id": "92a740b9-6812-404f-9f1b-42d9e12d6f9f",
   "metadata": {},
   "source": [
    "# Q2. Why *args and **kwargs is used in some functions? Create a function each for *args and **kwargs to demonstrate their use."
   ]
  },
  {
   "cell_type": "markdown",
   "id": "e82fda2e-5863-469a-94ea-417f034ff117",
   "metadata": {},
   "source": [
    "Ans:"
   ]
  },
  {
   "cell_type": "markdown",
   "id": "6f603d7e-929c-48c1-ac01-1a21cb175cbf",
   "metadata": {},
   "source": [
    "*args:\n",
    "The special syntax *args in function definitions in python is used to pass a variable number of arguments to a function.\n",
    "\n",
    "**kwargs:\n",
    "The special syntax **kwargs in function definitions in python is used to pass a keyworded, variable-length argument list.\n"
   ]
  },
  {
   "cell_type": "code",
   "execution_count": 1,
   "id": "8c83b237-35aa-41e3-a303-fd4d592f94a4",
   "metadata": {},
   "outputs": [],
   "source": [
    "## args\n",
    "def test(*args):\n",
    "    print(args)"
   ]
  },
  {
   "cell_type": "code",
   "execution_count": 7,
   "id": "21913514-d062-446c-b28a-881f8a1af2b9",
   "metadata": {},
   "outputs": [
    {
     "data": {
      "text/plain": [
       "(12, 4, 2, 'mukesh', 12.2)"
      ]
     },
     "execution_count": 7,
     "metadata": {},
     "output_type": "execute_result"
    }
   ],
   "source": [
    "test(12,4,2,\"mukesh\",12.2)"
   ]
  },
  {
   "cell_type": "code",
   "execution_count": 15,
   "id": "9a56935b-0861-4aeb-bb2c-b6f9a3ddd423",
   "metadata": {},
   "outputs": [],
   "source": [
    "##kwargs\n",
    "def test1(**kwargs):\n",
    "    return kwargs"
   ]
  },
  {
   "cell_type": "code",
   "execution_count": 18,
   "id": "1b637be2-5e46-46b7-8643-d82252c11303",
   "metadata": {},
   "outputs": [
    {
     "data": {
      "text/plain": [
       "{'a': 'mukesh', 'b': 5343, 'c': 43234}"
      ]
     },
     "execution_count": 18,
     "metadata": {},
     "output_type": "execute_result"
    }
   ],
   "source": [
    "test1(a=\"mukesh\",b=5343,c=43234)"
   ]
  },
  {
   "cell_type": "markdown",
   "id": "f251ce9b-5d04-4263-b3f7-dce400bd62c9",
   "metadata": {},
   "source": [
    "## Q3. What is an iterator in python? Name the method used to initialise the iterator object and the method used for iteration. Use these methods to print the first five elements of the given list [2, 4, 6, 8, 10, 12, 14,\n",
    "16, 18, 20]."
   ]
  },
  {
   "cell_type": "markdown",
   "id": "b707cc9e-7d91-41a8-8c42-08f657a5bf24",
   "metadata": {},
   "source": [
    "Ans:"
   ]
  },
  {
   "cell_type": "markdown",
   "id": "c25f9a5e-a366-48d4-8f8d-5490c13cd551",
   "metadata": {},
   "source": [
    "An iterator is a keyword in python which goes to each items or element of an assinged data structure like list, tuple, set, dictonary one by one and push for specefic function of one or multiple manupulation through code it has been created for.\n",
    "\n",
    "The iterator object is initialized using the iter() method. It uses the next() method for iteration."
   ]
  },
  {
   "cell_type": "code",
   "execution_count": 28,
   "id": "90654a6f-9777-4761-bdfb-1919504bf5ba",
   "metadata": {},
   "outputs": [
    {
     "name": "stdout",
     "output_type": "stream",
     "text": [
      "2\n",
      "4\n",
      "6\n",
      "8\n",
      "10\n"
     ]
    }
   ],
   "source": [
    "l=[2,4,6,8,10,12,14,16,18,20]\n",
    "x=iter(l)\n",
    "print(next(x))\n",
    "print(next(x))\n",
    "print(next(x))\n",
    "print(next(x))\n",
    "print(next(x))"
   ]
  },
  {
   "cell_type": "markdown",
   "id": "0b6cf3a2-2ccc-44cd-b181-bbafcd1d47f5",
   "metadata": {},
   "source": [
    "## Q4. What is a generator function in python? Why yield keyword is used? Give an example of a generator function."
   ]
  },
  {
   "cell_type": "markdown",
   "id": "76c0cf83-6b41-49bf-9042-0f8239b0cc0f",
   "metadata": {},
   "source": [
    "Ans:"
   ]
  },
  {
   "cell_type": "markdown",
   "id": "09fae54f-8024-45d0-9d47-3302e9cd6882",
   "metadata": {},
   "source": [
    "-A generator is a function that returns an iterator that produces a sequence of values when iterated over."
   ]
  },
  {
   "cell_type": "markdown",
   "id": "344b4cda-2df6-4952-a8f0-94f67b08fb3d",
   "metadata": {},
   "source": [
    "-Yield keyword is used to create a generator function.\n",
    "-The yield keyword will turn any expression that is given with it into a generator object and return it to the caller."
   ]
  },
  {
   "cell_type": "code",
   "execution_count": 3,
   "id": "d08f786c-3539-4ed9-8f46-c0fc0583d5d7",
   "metadata": {},
   "outputs": [],
   "source": [
    "def test(n):\n",
    "    a,b=0,1\n",
    "    for i in range(n):\n",
    "        yield a\n",
    "        a,b=b,a+b"
   ]
  },
  {
   "cell_type": "code",
   "execution_count": 4,
   "id": "6cd49106-b1b7-470a-8e20-64ff563f2496",
   "metadata": {},
   "outputs": [
    {
     "data": {
      "text/plain": [
       "<generator object test at 0x7fc15f2ddf50>"
      ]
     },
     "execution_count": 4,
     "metadata": {},
     "output_type": "execute_result"
    }
   ],
   "source": [
    "a=test(10)"
   ]
  },
  {
   "cell_type": "code",
   "execution_count": 8,
   "id": "559336a6-5ba1-40e2-a4aa-202800a61ba9",
   "metadata": {},
   "outputs": [
    {
     "name": "stdout",
     "output_type": "stream",
     "text": [
      "0\n",
      "1\n",
      "1\n",
      "2\n",
      "3\n",
      "5\n",
      "8\n",
      "13\n",
      "21\n",
      "34\n"
     ]
    }
   ],
   "source": [
    "for i in test(10):\n",
    "    print(i)"
   ]
  },
  {
   "cell_type": "markdown",
   "id": "fb70af5e-03c4-4907-948c-35b257c9d6f6",
   "metadata": {},
   "source": [
    "## Q5. Create a generator function for prime numbers less than 1000. Use the next() method to print the first 20 prime numbers."
   ]
  },
  {
   "cell_type": "markdown",
   "id": "ead4b2d7-c10e-4c1e-b262-fa069357add4",
   "metadata": {},
   "source": [
    "Ans"
   ]
  },
  {
   "cell_type": "code",
   "execution_count": 49,
   "id": "170a3ba7-a78d-40c6-83a6-7f41bce95286",
   "metadata": {},
   "outputs": [],
   "source": [
    "n=1000\n",
    "def prime(n):\n",
    "    for i in range(2,n):\n",
    "        for j in range(2,i):\n",
    "                if i%j==0:\n",
    "                    break\n",
    "        else:\n",
    "            yield i"
   ]
  },
  {
   "cell_type": "code",
   "execution_count": 50,
   "id": "c450970a-0732-4a46-85de-378d1000d0f7",
   "metadata": {},
   "outputs": [],
   "source": [
    "m=prime(1000)"
   ]
  },
  {
   "cell_type": "code",
   "execution_count": 51,
   "id": "21365be5-9773-4959-8446-bc0cac2cf5d2",
   "metadata": {},
   "outputs": [
    {
     "name": "stdout",
     "output_type": "stream",
     "text": [
      "2\n",
      "3\n",
      "5\n",
      "7\n",
      "11\n",
      "13\n",
      "17\n",
      "19\n",
      "23\n",
      "29\n",
      "31\n",
      "37\n",
      "41\n",
      "43\n",
      "47\n",
      "53\n",
      "59\n",
      "61\n",
      "67\n",
      "71\n"
     ]
    }
   ],
   "source": [
    "print(next(m))\n",
    "print(next(m))\n",
    "print(next(m))\n",
    "print(next(m))\n",
    "print(next(m))\n",
    "print(next(m))\n",
    "print(next(m))\n",
    "print(next(m))\n",
    "print(next(m))\n",
    "print(next(m))\n",
    "print(next(m))\n",
    "print(next(m))\n",
    "print(next(m))\n",
    "print(next(m))\n",
    "print(next(m))\n",
    "print(next(m))\n",
    "print(next(m))\n",
    "print(next(m))\n",
    "print(next(m))\n",
    "print(next(m))"
   ]
  },
  {
   "cell_type": "markdown",
   "id": "f2af4451-40f0-4c1f-a877-68167085f2b9",
   "metadata": {},
   "source": [
    "# Q6. Write a python program to print the first 10 Fibonacci numbers using a while loop."
   ]
  },
  {
   "cell_type": "markdown",
   "id": "762b0f73-fd98-45cd-b758-151779b832a3",
   "metadata": {},
   "source": [
    "Ans:"
   ]
  },
  {
   "cell_type": "code",
   "execution_count": 53,
   "id": "025c0403-0215-45e0-af74-0e2e46104b24",
   "metadata": {},
   "outputs": [
    {
     "name": "stdout",
     "output_type": "stream",
     "text": [
      "0\n",
      "1\n",
      "1\n",
      "2\n",
      "3\n",
      "5\n",
      "8\n",
      "13\n",
      "21\n",
      "34\n"
     ]
    }
   ],
   "source": [
    "number = 10\n",
    "a , b  = 0 , 1 \n",
    "counter = 0 \n",
    "while counter < number : \n",
    "    print(a)\n",
    "    c = a+ b\n",
    "    a = b \n",
    "    b = c \n",
    "    counter= counter+ 1"
   ]
  },
  {
   "cell_type": "markdown",
   "id": "4edcb1fb-f3f9-4a7e-ad12-5f558553bbc7",
   "metadata": {},
   "source": [
    "# Q7. Write a List Comprehension to iterate through the given string: ‘pwskills’. Expected output: ['p', 'w', 's', 'k', 'i', 'l', 'l', 's']"
   ]
  },
  {
   "cell_type": "code",
   "execution_count": 54,
   "id": "2bb655ee-bc7b-442d-88c6-4474d8054065",
   "metadata": {},
   "outputs": [
    {
     "data": {
      "text/plain": [
       "['p', 'w', 's', 'k', 'i', 'l', 'l', 's']"
      ]
     },
     "execution_count": 54,
     "metadata": {},
     "output_type": "execute_result"
    }
   ],
   "source": [
    "p=\"pwskills\"\n",
    "\n",
    "[i for i in p]"
   ]
  },
  {
   "cell_type": "markdown",
   "id": "77efc7e6-2105-4367-9e46-5176d8eb466b",
   "metadata": {},
   "source": [
    "# Q8. Write a python program to check whether a given number is Palindrome or not using a while loop."
   ]
  },
  {
   "cell_type": "markdown",
   "id": "db5f7ad5-e694-401d-8759-0ea7e1a446c1",
   "metadata": {},
   "source": [
    "Ans"
   ]
  },
  {
   "cell_type": "code",
   "execution_count": 55,
   "id": "da515925-f0a2-48a7-a000-de1976b924ee",
   "metadata": {},
   "outputs": [
    {
     "data": {
      "text/plain": [
       "3"
      ]
     },
     "execution_count": 55,
     "metadata": {},
     "output_type": "execute_result"
    }
   ],
   "source": [
    "123%10"
   ]
  },
  {
   "cell_type": "code",
   "execution_count": 56,
   "id": "5fad87fa-e4de-4b8b-b9cd-911f60a0285c",
   "metadata": {},
   "outputs": [
    {
     "data": {
      "text/plain": [
       "13"
      ]
     },
     "execution_count": 56,
     "metadata": {},
     "output_type": "execute_result"
    }
   ],
   "source": [
    "213%100"
   ]
  },
  {
   "cell_type": "code",
   "execution_count": 57,
   "id": "a7873ad3-20fd-4c53-ad04-a8415e799e40",
   "metadata": {},
   "outputs": [
    {
     "data": {
      "text/plain": [
       "12.3"
      ]
     },
     "execution_count": 57,
     "metadata": {},
     "output_type": "execute_result"
    }
   ],
   "source": [
    "123/10"
   ]
  },
  {
   "cell_type": "code",
   "execution_count": 58,
   "id": "57f39350-1f3c-413e-9f1c-dd4474305a21",
   "metadata": {},
   "outputs": [
    {
     "data": {
      "text/plain": [
       "12"
      ]
     },
     "execution_count": 58,
     "metadata": {},
     "output_type": "execute_result"
    }
   ],
   "source": [
    "123//10"
   ]
  },
  {
   "cell_type": "code",
   "execution_count": null,
   "id": "ab240dbf-b952-4a50-b2bb-03c228caac9e",
   "metadata": {},
   "outputs": [],
   "source": []
  }
 ],
 "metadata": {
  "kernelspec": {
   "display_name": "Python 3 (ipykernel)",
   "language": "python",
   "name": "python3"
  },
  "language_info": {
   "codemirror_mode": {
    "name": "ipython",
    "version": 3
   },
   "file_extension": ".py",
   "mimetype": "text/x-python",
   "name": "python",
   "nbconvert_exporter": "python",
   "pygments_lexer": "ipython3",
   "version": "3.10.8"
  }
 },
 "nbformat": 4,
 "nbformat_minor": 5
}
