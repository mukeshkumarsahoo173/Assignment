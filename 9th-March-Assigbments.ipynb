{
 "cells": [
  {
   "cell_type": "markdown",
   "id": "0aeaf8e6-c10e-4ab1-a796-3f901bc546b2",
   "metadata": {},
   "source": [
    "# Q1: What are the Probability Mass Function (PMF) and Probability Density Function (PDF)? Explain with an example\n",
    "ANS\n",
    "* Probability Mass Function (PMF) and Probability Density Function (PDF) are two concepts in probability theory used to describe the probability distribution of a random variable.\n",
    "#### A Probability Mass Function (PMF) is a function that gives the probability of a discrete random variable taking on each possible value. In other words, it assigns probabilities to each possible outcome of a discrete random variable.\n",
    "* For example, let's say we are rolling a fair six-sided die. The possible outcomes are 1, 2, 3, 4, 5, or 6. The PMF would be a function that assigns a probability to each of these outcomes. Since the die is fair, the probability of rolling any one of these outcomes is 1/6. So the PMF would be:\n",
    "P(X=1) = 1/6\n",
    "P(X=2) = 1/6\n",
    "P(X=3) = 1/6\n",
    "P(X=4) = 1/6\n",
    "P(X=5) = 1/6\n",
    "P(X=6) = 1/6\n",
    "\n",
    "#### A Probability Density Function (PDF), on the other hand, is a function that describes the probability distribution of a continuous random variable. It gives the relative likelihood of the random variable taking on a particular value.\n",
    "* For example, let's say we are measuring the height of a group of people. The heights are continuous and can take on any value within a certain range. The PDF would be a function that describes the relative likelihood of measuring a particular height.\n",
    "\n",
    "* The PDF of a continuous random variable is defined such that the area under the curve between any two points gives the probability that the random variable takes on a value within that range. For example, if the PDF is a normal distribution with a mean of 5 feet and a standard deviation of 1 foot, the probability of measuring a height between 4 feet and 6 feet would be the area under the curve between those two points.\n",
    "\n",
    "* PDFs are often used in conjunction with integrals to calculate probabilities for continuous random variables."
   ]
  },
  {
   "cell_type": "markdown",
   "id": "6ae30484-ee5b-4e43-9bbe-a9f06f00539a",
   "metadata": {},
   "source": [
    "# Q2: What is Cumulative Density Function (CDF)? Explain with an example. Why CDF is used?\n",
    "ANS*\n",
    "#### The Cumulative Density Function (CDF) is a function that describes the probability that a continuous random variable X takes on a value less than or equal to x. It is denoted by F(x).\n",
    "* In other words, the CDF is the integral of the Probability Density Function (PDF) of X from negative infinity to x. Mathematically, it is defined as:\n",
    "$ F(x) = P(X <= x) = ∫(-∞,x) f(t) dt$\n",
    "\n",
    "* where f(t) is the PDF of X.\n",
    "\n",
    "* The CDF is a non-decreasing function, meaning that as x increases, the probability that X takes on a value less than or equal to x also increases. Additionally, the CDF is a continuous function, except at points where the PDF has a discontinuity.\n",
    "\n",
    "* For example, let's say we have a random variable X that is uniformly distributed between 0 and 1. The PDF of X is a constant 1 between 0 and 1, and 0 elsewhere. The CDF of X would be:\n",
    "\n",
    "$F(x) = P(X <= x) = ∫(0,x) 1 dt = x, for 0 <= x <= 1$<br> $F(x) = 0, for x < 0$<br> $F(x) = 1, for x > 1$<br>\n",
    "\n",
    "* We can use the CDF to find probabilities for X. For example, the probability that X is between 0.2 and 0.8 is:\n",
    "$P(0.2 < X < 0.8) = F(0.8) - F(0.2) = 0.8 - 0.2 = 0.6$\n",
    "The CDF is useful because it allows us to calculate probabilities for continuous random variables without having to integrate the PDF. Additionally, it provides a convenient way to compare the distributions of different random variables. By comparing the CDFs of two random variables, we can see which one has a greater probability of taking on a certain value, or which one has a greater spread of values."
   ]
  },
  {
   "cell_type": "markdown",
   "id": "21316444-510f-4a98-8d2b-899e31b3c61f",
   "metadata": {},
   "source": [
    "Q3: What are some examples of situations where the normal distribution might be used as a model? Explain how the parameters of the normal distribution relate to the shape of the distribution.\n",
    "ANS\n",
    "#### The normal distribution is a probability distribution that is often used as a model for random variables that are continuous and have a symmetric bell-shaped distribution. Some examples of situations where the normal distribution might be used as a model are:\n",
    "* Heights and weights of people in a population\n",
    "* IQ scores\n",
    "* Errors in measurement or experimental data\n",
    "* Scores on standardized tests like the SAT or ACT\n",
    "* Response times in a task\n",
    "#### The normal distribution is characterized by two parameters: the mean (µ) and the standard deviation (σ). The mean determines the center of the distribution, while the standard deviation determines the spread of the distribution. The larger the value of σ, the more spread out the distribution is, while the smaller the value of σ, the more tightly clustered the distribution is around the mean.\n",
    "* The shape of the normal distribution is symmetric around the mean, meaning that the probability of a random variable taking on a value that is k standard deviations away from the mean is the same as the probability of it taking on a value that is -k standard deviations away from the mean. This property is known as the \"68-95-99.7 rule\", which states that approximately 68% of the values lie within one standard deviation of the mean, 95% of the values lie within two standard deviations of the mean, and 99.7% of the values lie within three standard deviations of the mean.\n"
   ]
  },
  {
   "cell_type": "markdown",
   "id": "4ffe4b29-2437-4d4e-9e47-8b6a66d1b1d8",
   "metadata": {},
   "source": [
    "# Q4: Explain the importance of Normal Distribution. Give a few real-life examples of Normal Distribution.\n",
    "ANS\n",
    "* The Normal Distribution is one of the most important probability distributions in statistics. It is used widely in various fields of science, engineering, finance, and social sciences. The importance of Normal Distribution arises from the Central Limit Theorem, which states that the sum of a large number of independent and identically distributed random variables, regardless of their underlying distribution, tends to follow a Normal Distribution.\n",
    "### The Normal Distribution is important for several reasons:\n",
    "* It provides a framework for modeling and analyzing data with a symmetric bell-shaped distribution.\n",
    "* It is widely used for statistical inference, hypothesis testing, and confidence interval estimation.\n",
    "* Many statistical techniques assume that the underlying data follows a Normal Distribution.\n",
    "* Normal Distribution allows us to use Z-scores to standardize data, which can be helpful in comparing data from different sources.\n",
    "* Here are a few real-life examples of Normal Distribution:\n",
    "Heights and weights of people in a population: These two characteristics typically follow a Normal Distribution. The average height and weight of a population can be described by the Normal Distribution with a certain mean and standard deviation.\n",
    "\n",
    "Scores on standardized tests: Standardized tests such as the SAT, ACT, or GRE are designed to have a Normal Distribution of scores. The test developers use a large sample of test-takers to create a reference distribution, and then score each test-taker's performance relative to that distribution.\n",
    "\n",
    "Errors in measurements: When we measure something, we inevitably make some errors due to limitations of the measuring instruments, human error, or other factors. These errors typically follow a Normal Distribution, and understanding their distribution is crucial in determining the precision and accuracy of the measurements.\n",
    "\n",
    "Stock prices: The daily changes in stock prices also follow a Normal Distribution. This is useful for investors who use statistical models to estimate the probability of a certain stock price movement.\n",
    "\n",
    "In summary, the Normal Distribution is an important probability distribution in statistics that has a wide range of applications in various fields. Understanding the Normal Distribution and its properties is essential for making statistical inferences and modeling real-world phenomena."
   ]
  },
  {
   "cell_type": "markdown",
   "id": "cd9e844e-ba62-4890-b58e-2cadec397eba",
   "metadata": {},
   "source": [
    "# Q5: What is Bernaulli Distribution? Give an Example. What is the difference between Bernoulli Distribution and Binomial Distribution?\n",
    "ANS\n",
    "* Bernoulli distribution is a discrete probability distribution that describes the outcomes of a single binary experiment that can result in either success (probability p) or failure (probability 1-p), where p is a fixed parameter. The Bernoulli distribution is named after the Swiss mathematician Jacob Bernoulli.\n",
    "\n",
    "* An example of the Bernoulli distribution is flipping a coin. The coin can either come up heads (success) or tails (failure), with the probability of getting heads being p and the probability of getting tails being 1-p.\n",
    "\n",
    "* The Bernoulli distribution is the simplest probability distribution for a binary outcome. However, it is often useful to model situations where we have a series of binary outcomes, such as the number of heads obtained in multiple coin flips or the number of successes in a sequence of independent trials. This leads us to the binomial distribution.\n",
    "\n",
    "* The main difference between the Bernoulli distribution and the binomial distribution is that the Bernoulli distribution models a single binary outcome, while the binomial distribution models the number of successes in a fixed number of independent Bernoulli trials. Specifically, the binomial distribution is the probability distribution of the number of successes in n independent Bernoulli trials, each with probability p of success.\n",
    "\n",
    "* An example of the binomial distribution is rolling a die 10 times and counting the number of times it comes up with a 6. Each roll of the die is a Bernoulli trial with probability of success 1/6 (the probability of getting a 6), and the number of 6's obtained in 10 rolls follows a binomial distribution with parameters n=10 and p=1/6.\n",
    "\n",
    "* In summary, the Bernoulli distribution models a single binary outcome, while the binomial distribution models the number of successes in a fixed number of independent Bernoulli trials. The Bernoulli distribution can be thought of as a special case of the binomial distribution with n=1.\n",
    "\n"
   ]
  },
  {
   "cell_type": "markdown",
   "id": "ff46a4e2-34b4-48c4-87a9-c4b99dc22977",
   "metadata": {},
   "source": [
    "# Q6. Consider a dataset with a mean of 50 and a standard deviation of 10. If we assume that the dataset is normally distributed, what is the probability that a randomly selected observation will be greater than 60? Use the appropriate formula and show your calculations.\n",
    "ANS\n",
    "Given: Mean (μ) = 50, Standard deviation (σ) = 10, and we want to find the probability of a randomly selected observation being greater than 60.\n",
    "\n",
    "To solve this problem, we need to standardize the value of 60 using the standard normal distribution formula:\n",
    "\n",
    "$Z = (X - μ) / σ$\n",
    "\n",
    "where X is the value of interest, μ is the mean, σ is the standard deviation, and Z is the corresponding standard score (also known as a Z-score).\n",
    "\n",
    "Substituting the values, we get:\n",
    "\n",
    "$Z = (60 - 50) / 10 = 1$\n",
    "\n",
    "Now, we can use a standard normal distribution table or calculator to find the probability that a Z-score is greater than 1. In a standard normal distribution table, the area to the right of Z = 1 is 0.1587.\n",
    "\n",
    "Therefore, the probability that a randomly selected observation from this dataset will be greater than 60 is 0.1587 or approximately 15.87%.\n",
    "\n",
    "Alternatively, we could use the cumulative distribution function (CDF) of the standard normal distribution to find the probability:\n",
    "\n",
    "$P(Z > 1) = 1 - P(Z ≤ 1)$\n",
    "\n",
    "From the standard normal distribution table, we know that P(Z ≤ 1) = 0.8413.\n",
    "\n",
    "Therefore,\n",
    "\n",
    "$P(Z > 1) = 1 - P(Z ≤ 1)$ = $1 - 0.8413 = 0.1587$\n",
    "\n",
    "which is the same result we obtained earlier.\n",
    "\n",
    "#### Below the calculation done using python"
   ]
  },
  {
   "cell_type": "code",
   "execution_count": 1,
   "id": "2cde573c-0664-499e-9c4c-38882ba532ed",
   "metadata": {},
   "outputs": [
    {
     "name": "stdout",
     "output_type": "stream",
     "text": [
      "The probability of a randomly selected observation being greater than 60 is 0.1587\n"
     ]
    }
   ],
   "source": [
    "from scipy.stats import norm\n",
    "\n",
    "# Set the mean and standard deviation\n",
    "mu = 50\n",
    "sigma = 10\n",
    "\n",
    "# Find the Z-score for X = 60\n",
    "x = 60\n",
    "z = (x - mu) / sigma\n",
    "\n",
    "# Calculate the probability using the cumulative distribution function (CDF)\n",
    "p = 1 - norm.cdf(z)\n",
    "\n",
    "print(f\"The probability of a randomly selected observation being greater than 60 is {p:.4f}\")"
   ]
  },
  {
   "cell_type": "markdown",
   "id": "d44743e2-3257-445f-aa30-63d9583b0a84",
   "metadata": {},
   "source": [
    "# Q7: Explain uniform Distribution with an example.\n",
    "ANS\n",
    "Uniform distribution is a continuous probability distribution in which all values within a given interval have an equal probability of occurring. In other words, every value within the interval is equally likely to be observed.\n",
    "\n",
    "An example of a uniform distribution is rolling a fair six-sided die. Each of the numbers from 1 to 6 has an equal probability of occurring, which is 1/6. Another example is choosing a random number between 0 and 1, where each value between 0 and 1 has an equal probability of being selected.\n",
    "\n",
    "The probability density function (PDF) of a uniform distribution is given by:\n",
    "\n",
    "$f(x) = 1 / (b-a)$\n",
    "\n",
    "where a and b are the lower and upper limits of the interval.\n",
    "\n",
    "The cumulative distribution function (CDF) of a uniform distribution is given by:\n",
    "\n",
    "F(x)=1/(b-a) for a ≤ x ≤ b\n",
    "0 for x < a\n",
    "1 for x > b\n",
    "\n",
    "The mean of a uniform distribution is given by:\n",
    "µ=(a+b)/2\n",
    "\n",
    "and the variance is given by:\n",
    "\tσ^2=(b-a)^2/12"
   ]
  },
  {
   "cell_type": "markdown",
   "id": "2e0f7386-211f-411f-8b30-6d334ffae664",
   "metadata": {},
   "source": [
    "# Q8: What is the z score? State the importance of the z score.\n",
    "ANS\n",
    "* The z-score (also known as the standard score) is a measure of how many standard deviations a data point is from the mean of its distribution. It is calculated by subtracting the mean from the data point and dividing the result by the standard deviation:\n",
    "z=(x-µ)/σ\n",
    "* where x is the observed value, μ is the mean of the distribution, and σ is the standard deviation of the distribution.\n",
    "\n",
    "* The z-score is important because it allows us to compare values from different normal distributions on the same scale. By converting values to z-scores, we can easily determine how unusual or extreme a particular value is relative to the rest of the distribution. A positive z-score means that the value is above the mean, while a negative z-score means that the value is below the mean.\n",
    "\n",
    "* The z-score is also used to calculate probabilities for normal distributions. If we know the mean and standard deviation of a normal distribution, we can use the z-score formula to convert any value to a standard normal distribution, which has a mean of 0 and a standard deviation of 1. Then, we can use a standard normal distribution table or calculator to find the probability of observing a value at or below the z-score.\n",
    "\n",
    "* Overall, the z-score is a powerful statistical tool that allows us to standardize values, compare data from different distributions, and calculate probabilities for normal distributions."
   ]
  },
  {
   "cell_type": "markdown",
   "id": "73aca275-0227-4c68-9014-1b64c973f7df",
   "metadata": {},
   "source": [
    "# Q9: What is Central Limit Theorem? Statethe significance of the Central Limit Theorem.\n",
    "ANS\n",
    "* The Central Limit Theorem (CLT) is a fundamental concept in statistics that states that the sampling distribution of the means of a sufficiently large number of independent random samples drawn from any population with a finite mean and variance will be approximately normal, regardless of the shape of the population distribution.\n",
    "\n",
    "* In other words, if we repeatedly sample from a population and calculate the means of those samples, then the distribution of those sample means will be approximately normal, regardless of the shape of the original population distribution. The mean of the sample means will be equal to the population mean, and the standard deviation of the sample means (also known as the standard error) will be equal to the standard deviation of the population divided by the square root of the sample size.\n",
    "\n",
    "* The significance of the Central Limit Theorem is that it allows us to make inferences about the population mean using sample means, even when the population distribution is unknown or non-normal. This is because the sample mean distribution will be approximately normal, which allows us to use the properties of the normal distribution to calculate probabilities and construct confidence intervals.\n",
    "\n",
    "* The Central Limit Theorem has many practical applications in statistics and data analysis. For example, it is used in hypothesis testing, where we compare sample means to a hypothesized population mean, and in confidence interval estimation, where we use sample means to estimate the range of values that the population mean is likely to fall within. It is also used in survey research and quality control to assess the accuracy and precision of measurements.\n",
    "\n",
    "# Q10: State the assumptions of the Central Limit Theorem.\n",
    "ANS\n",
    "* The Central Limit Theorem (CLT) relies on several assumptions to hold true. These assumptions are:\n",
    "\n",
    "* Random sampling: The samples must be selected randomly from the population without any bias.\n",
    "\n",
    "* Independence: The observations within each sample must be independent of each other. This means that the value of one observation should not influence the value of any other observation in the sample.\n",
    "\n",
    "* Sample size: The sample size should be sufficiently large. While there is no hard and fast rule for what constitutes a \"sufficiently large\" sample size, a general rule of thumb is that the sample size should be at least 30.\n",
    "\n",
    "* Finite variance: The population variance (or standard deviation) must be finite. This assumption ensures that the sample means will have a well-defined distribution.\n",
    "\n",
    "* Identical distribution: The samples should be drawn from the same population, or from populations that have the same distribution. This ensures that the sample means will have a common mean and variance."
   ]
  },
  {
   "cell_type": "code",
   "execution_count": null,
   "id": "8d87af3c-0529-4037-b9d8-5e77df3728dd",
   "metadata": {},
   "outputs": [],
   "source": []
  }
 ],
 "metadata": {
  "kernelspec": {
   "display_name": "Python 3 (ipykernel)",
   "language": "python",
   "name": "python3"
  },
  "language_info": {
   "codemirror_mode": {
    "name": "ipython",
    "version": 3
   },
   "file_extension": ".py",
   "mimetype": "text/x-python",
   "name": "python",
   "nbconvert_exporter": "python",
   "pygments_lexer": "ipython3",
   "version": "3.10.8"
  }
 },
 "nbformat": 4,
 "nbformat_minor": 5
}
