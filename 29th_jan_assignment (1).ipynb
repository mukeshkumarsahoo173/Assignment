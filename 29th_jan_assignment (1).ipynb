{
 "cells": [
  {
   "cell_type": "raw",
   "id": "a9fc0afc-5647-4059-abc9-c48d99a98759",
   "metadata": {},
   "source": [
    "1. Who developed Python Language ?"
   ]
  },
  {
   "cell_type": "raw",
   "id": "4d085585-e2b5-46e9-8def-c5b59c4c74eb",
   "metadata": {
    "tags": []
   },
   "source": [
    "ANS"
   ]
  },
  {
   "cell_type": "raw",
   "id": "cb960c28-509a-49b6-aabd-0a2fce41dd71",
   "metadata": {},
   "source": [
    "Guido van Rossum in the year of 1991"
   ]
  },
  {
   "cell_type": "raw",
   "id": "473d780b-9b8f-40a0-8b96-421e44124202",
   "metadata": {},
   "source": []
  },
  {
   "cell_type": "raw",
   "id": "aca81754-6441-47a6-b1b9-acb627a3cf38",
   "metadata": {},
   "source": []
  },
  {
   "cell_type": "raw",
   "id": "e20d00fa-6a5b-45d7-9cc0-2df76ff93400",
   "metadata": {},
   "source": []
  },
  {
   "cell_type": "raw",
   "id": "f30a3248-8a65-4951-842a-8ce5e0e5c727",
   "metadata": {},
   "source": []
  },
  {
   "cell_type": "raw",
   "id": "f1559df3-537f-4ab7-91c0-e6a0b26a50f7",
   "metadata": {},
   "source": []
  },
  {
   "cell_type": "raw",
   "id": "50609f93-b515-4374-961c-0c1248eb9b5b",
   "metadata": {},
   "source": []
  },
  {
   "cell_type": "code",
   "execution_count": null,
   "id": "b6a130cc-416c-4d03-8822-cce3be0e8432",
   "metadata": {
    "tags": []
   },
   "outputs": [],
   "source": []
  },
  {
   "cell_type": "raw",
   "id": "691edb84-da73-4269-9a2b-7d151fd211c5",
   "metadata": {
    "tags": []
   },
   "source": []
  },
  {
   "cell_type": "code",
   "execution_count": null,
   "id": "1b6ea287-822f-4761-8245-7de079f44a90",
   "metadata": {},
   "outputs": [],
   "source": []
  }
 ],
 "metadata": {
  "kernelspec": {
   "display_name": "Python 3 (ipykernel)",
   "language": "python",
   "name": "python3"
  },
  "language_info": {
   "codemirror_mode": {
    "name": "ipython",
    "version": 3
   },
   "file_extension": ".py",
   "mimetype": "text/x-python",
   "name": "python",
   "nbconvert_exporter": "python",
   "pygments_lexer": "ipython3",
   "version": "3.10.8"
  }
 },
 "nbformat": 4,
 "nbformat_minor": 5
}
