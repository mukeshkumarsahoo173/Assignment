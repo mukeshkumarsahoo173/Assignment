{
 "cells": [
  {
   "cell_type": "markdown",
   "id": "6567a17e-8d25-4c80-a7a3-d5171ac1be7b",
   "metadata": {},
   "source": [
    "# Q1. Which function is used to open a file? What are the different modes of opening a file? Explain each mode of file opening."
   ]
  },
  {
   "cell_type": "markdown",
   "id": "3e6e4c1c-fbff-4abd-a4e3-fe47bb24cf43",
   "metadata": {},
   "source": [
    "Ans"
   ]
  },
  {
   "cell_type": "markdown",
   "id": "72fdc9bb-d78f-425d-911e-7784cf7b51c1",
   "metadata": {},
   "source": [
    "open() function is used to open a file\n",
    "\n",
    "# Different Mode\n",
    "\n",
    "'r' open for reading (default)\n",
    "\n",
    "'w' open for writing, truncating the file first\n",
    "\n",
    "'x' create a new file and open it for writing\n",
    "\n",
    "'a' open for writing, appending to the end of the file if it exists\n",
    "\n",
    "'b' binary mode\n",
    "\n",
    "'t' text mode (default)\n",
    "\n",
    "'+' open a disk file for updating (reading and writing)\n",
    "\n",
    "'U' universal newline mode (deprecated)"
   ]
  },
  {
   "cell_type": "markdown",
   "id": "0f575417-4b4a-4369-b428-3be2a946a030",
   "metadata": {},
   "source": [
    "# Q2. Why close() function is used? Why is it important to close a file?"
   ]
  },
  {
   "cell_type": "markdown",
   "id": "111d7426-bcf1-4ea0-8362-0c0c06555e17",
   "metadata": {},
   "source": [
    "Ans"
   ]
  },
  {
   "cell_type": "markdown",
   "id": "8c43c6d2-ea41-46c9-b901-4ef3028fbf1c",
   "metadata": {},
   "source": [
    "close() is used to tell python compiler that the file is completed with writing now you can save it and show\n",
    "\n",
    "close() function is important as if we don't close after writing into the file it will not be saved and can't be displayed"
   ]
  },
  {
   "cell_type": "markdown",
   "id": "1ef3de1c-a37f-4e0d-8749-90711ad3750e",
   "metadata": {},
   "source": [
    "# Q3. Write a python program to create a text file. Write ‘I want to become a Data Scientist’ in that file. Then close the file. Open this file and read the content of the file."
   ]
  },
  {
   "cell_type": "markdown",
   "id": "5ac4fa2e-af45-4f0d-b0b5-2dddcb49b264",
   "metadata": {},
   "source": [
    "Ans"
   ]
  },
  {
   "cell_type": "code",
   "execution_count": 2,
   "id": "8c1c4a34-c234-4121-90a5-01f0c0a867e9",
   "metadata": {},
   "outputs": [],
   "source": [
    "f=open(\"mukesh.txt\",\"w\")"
   ]
  },
  {
   "cell_type": "code",
   "execution_count": 3,
   "id": "7ff3777a-77b1-43c1-8129-a985a643206c",
   "metadata": {},
   "outputs": [
    {
     "data": {
      "text/plain": [
       "33"
      ]
     },
     "execution_count": 3,
     "metadata": {},
     "output_type": "execute_result"
    }
   ],
   "source": [
    "f.write(\"I Want to become a Data Scientist\")"
   ]
  },
  {
   "cell_type": "code",
   "execution_count": 4,
   "id": "82173fb7-887a-481a-b307-b86990aae6fe",
   "metadata": {},
   "outputs": [],
   "source": [
    "f.close()"
   ]
  },
  {
   "cell_type": "code",
   "execution_count": 5,
   "id": "7651a032-7b79-452c-a3c6-3fed51c42efc",
   "metadata": {},
   "outputs": [],
   "source": [
    "f=open(\"mukesh.txt\",\"r\")"
   ]
  },
  {
   "cell_type": "code",
   "execution_count": 6,
   "id": "6d38a772-af70-4152-add9-2c1bcf1720ea",
   "metadata": {},
   "outputs": [
    {
     "data": {
      "text/plain": [
       "'I Want to become a Data Scientist'"
      ]
     },
     "execution_count": 6,
     "metadata": {},
     "output_type": "execute_result"
    }
   ],
   "source": [
    "f.read()"
   ]
  },
  {
   "cell_type": "markdown",
   "id": "5eb7eb1c-7129-4e54-b092-50d95dc5e97b",
   "metadata": {},
   "source": [
    "# Q4. Explain the following with python code: read(), readline() and readlines()."
   ]
  },
  {
   "cell_type": "markdown",
   "id": "91abf04e-4547-4e44-94a6-c447fbd54cfc",
   "metadata": {},
   "source": [
    "Ans"
   ]
  },
  {
   "cell_type": "markdown",
   "id": "c8d0e94b-00c0-4fcc-ba1f-f796b5c8d0dc",
   "metadata": {},
   "source": [
    "read() function will simply return the text inside the text file"
   ]
  },
  {
   "cell_type": "code",
   "execution_count": 8,
   "id": "af52f5b7-86e1-48ff-be9a-11a24e07fdbb",
   "metadata": {},
   "outputs": [
    {
     "data": {
      "text/plain": [
       "'I Want to become a Data Scientist'"
      ]
     },
     "execution_count": 8,
     "metadata": {},
     "output_type": "execute_result"
    }
   ],
   "source": [
    "f=open(\"mukesh.txt\",\"r\")\n",
    "f.read()"
   ]
  },
  {
   "cell_type": "markdown",
   "id": "7177e54c-d0bf-418a-b885-0c94466129b8",
   "metadata": {},
   "source": [
    "readline() function allows toRead the first line of the file "
   ]
  },
  {
   "cell_type": "code",
   "execution_count": 12,
   "id": "338e87bd-1057-449c-b08d-5884d4e2e1db",
   "metadata": {},
   "outputs": [
    {
     "data": {
      "text/plain": [
       "'I Want to become a Data Scientist'"
      ]
     },
     "execution_count": 12,
     "metadata": {},
     "output_type": "execute_result"
    }
   ],
   "source": [
    "f.seek(0)\n",
    "f.readline()"
   ]
  },
  {
   "cell_type": "markdown",
   "id": "0e8f0a13-82c1-4c76-847a-5c5b3fa550f1",
   "metadata": {},
   "source": [
    "readlines() function will can take the data from specific index and return in a string of lsit form "
   ]
  },
  {
   "cell_type": "code",
   "execution_count": 14,
   "id": "e30272a9-720b-4e98-8467-9b16d6ab9dab",
   "metadata": {},
   "outputs": [
    {
     "name": "stdout",
     "output_type": "stream",
     "text": [
      "['me is mukesh kumar sahoo']\n"
     ]
    }
   ],
   "source": [
    "f=open(\"mukesh.txt\",\"w\")\n",
    "f.write(\"my name is mukesh kumar sahoo\")\n",
    "f.close()\n",
    "with open(\"mukesh.txt\",\"r\") as fx:\n",
    "    fx.seek(5)\n",
    "    print(fx.readlines())"
   ]
  },
  {
   "cell_type": "markdown",
   "id": "7d2ab948-376e-4784-ae9d-9f3ee25b5e39",
   "metadata": {},
   "source": [
    "# Q5. Explain why with statement is used with open(). What is the advantage of using with statement and open() together?"
   ]
  },
  {
   "cell_type": "markdown",
   "id": "64e313a1-7793-46da-8b2a-cf243f3ce26c",
   "metadata": {},
   "source": [
    "Ans"
   ]
  },
  {
   "cell_type": "markdown",
   "id": "9732fdb2-a2d0-45a7-898b-244ae7fbb0f2",
   "metadata": {},
   "source": [
    "Benefits of calling open () using “with statement” : Fewer chances of bug due to coding error With “with” statement we don’t have to close the opened file manually. It takes care of that when the compiler goes out of the block and automatically closes file."
   ]
  },
  {
   "cell_type": "code",
   "execution_count": 16,
   "id": "a4752c9b-750b-4f30-9cfa-54343b2937df",
   "metadata": {},
   "outputs": [
    {
     "name": "stdout",
     "output_type": "stream",
     "text": [
      "my name is mukesh kumar sahoo\n"
     ]
    }
   ],
   "source": [
    "with open(\"mukesh.txt\", 'r') as f:\n",
    "    print(f.read())"
   ]
  },
  {
   "cell_type": "markdown",
   "id": "3e9ec27e-ae0d-4b5d-9307-60184993e977",
   "metadata": {},
   "source": [
    "# Q6. Explain the write() and writelines() functions. Give a suitable example."
   ]
  },
  {
   "cell_type": "markdown",
   "id": "4527f50d-bbde-49ff-934e-dcee4accfc4f",
   "metadata": {},
   "source": [
    "Ans"
   ]
  },
  {
   "cell_type": "markdown",
   "id": "9c4ce74e-efdb-4f78-a19d-c3539fb03d46",
   "metadata": {},
   "source": [
    "Write() method displays the output but do not provide a new line character.\n",
    "\n",
    "WriteLine() method displays the output and also provides a new line character it the end of the string, This would set a new line for the next output."
   ]
  },
  {
   "cell_type": "code",
   "execution_count": 17,
   "id": "b85a1791-7f66-4282-a786-8cf2bf2e1957",
   "metadata": {},
   "outputs": [],
   "source": [
    "# Write\n",
    "f5= open(\"mukesh1.txt\", 'w')\n",
    "f5.write(\"Explain the write() and writelines() functions. Give a suitable example,  \\\n",
    "Explain the write() and writelines() functions. Give a suitable example\")\n",
    "f5.close()"
   ]
  },
  {
   "cell_type": "code",
   "execution_count": 18,
   "id": "a2125d94-4ece-4e97-bdb5-4566a7893960",
   "metadata": {},
   "outputs": [],
   "source": [
    "# writeLine"
   ]
  },
  {
   "cell_type": "code",
   "execution_count": null,
   "id": "2157556f-b76e-420e-8bbe-d475e29f2236",
   "metadata": {},
   "outputs": [],
   "source": [
    "\n",
    "file5 = open(\"mukesh1.txt\", \"w\")\n",
    "lst = []\n",
    "for i in range(3):\n",
    "    name = input(\"Write your text: \")\n",
    "    lst.append(name)\n",
    "    \n",
    "lst=\".\".join(lst)    \n",
    "file5.writelines(lst)\n",
    "file5.close()\n",
    "print(\"Data is written into the file.\")"
   ]
  },
  {
   "cell_type": "code",
   "execution_count": null,
   "id": "b972d663-072d-4877-95f3-d192094a73f9",
   "metadata": {},
   "outputs": [],
   "source": []
  }
 ],
 "metadata": {
  "kernelspec": {
   "display_name": "Python 3 (ipykernel)",
   "language": "python",
   "name": "python3"
  },
  "language_info": {
   "codemirror_mode": {
    "name": "ipython",
    "version": 3
   },
   "file_extension": ".py",
   "mimetype": "text/x-python",
   "name": "python",
   "nbconvert_exporter": "python",
   "pygments_lexer": "ipython3",
   "version": "3.10.8"
  }
 },
 "nbformat": 4,
 "nbformat_minor": 5
}
