{
 "cells": [
  {
   "cell_type": "markdown",
   "id": "730fcd90-a4a7-45be-8f50-235a5b9a3085",
   "metadata": {},
   "source": [
    "# Q1. You are writing code for a company. The requirement of the company is that you create a python function that will check whether the password entered by the user is correct or not. The function should take the password as input and return the string “Valid Password” if the entered password follows the below-given password guidelines else it should return “Invalid Password”. Note:\n",
    "1. The Password should contain at least two uppercase letters and at least two lowercase letters.\n",
    "2. The Password should contain at least a number and three special characters.\n",
    "3. The length of the password should be 10 characters long."
   ]
  },
  {
   "cell_type": "markdown",
   "id": "7f639d4d-9a0c-4036-ad76-ec133772a96f",
   "metadata": {},
   "source": [
    "Ans"
   ]
  },
  {
   "cell_type": "code",
   "execution_count": 7,
   "id": "3f0be148-1cfc-45ce-a009-628b58fb21a7",
   "metadata": {},
   "outputs": [],
   "source": [
    "import re\n",
    "import string\n",
    "\n",
    "def validate_passsword():\n",
    "    punc=string.punctuation\n",
    "    while True:\n",
    "        password=input(\"Enter Password\")\n",
    "        if len(password)<10:\n",
    "            print(\"Invalid Password\")\n",
    "        elif len(re.findall(\"[0-9]\",password))<1:\n",
    "            print(\"Invalid Password\")\n",
    "        elif len(re.findall(\"[A-Z]\",password))<2:\n",
    "            print(\"Invalid Password\")\n",
    "        elif len(re.findall(\"[a-z]\",password))<2:\n",
    "            print(\"Invalid Password\")\n",
    "        elif len([i for i in password if i in punc])<3:\n",
    "            print(\"Invalid Password\")\n",
    "        else:\n",
    "            print(\"Valid Password\")\n",
    "            break"
   ]
  },
  {
   "cell_type": "code",
   "execution_count": 9,
   "id": "06ffd842-f1fe-4768-b092-39248547a782",
   "metadata": {},
   "outputs": [
    {
     "name": "stdin",
     "output_type": "stream",
     "text": [
      "Enter Password MUkesh@#$1324\n"
     ]
    },
    {
     "name": "stdout",
     "output_type": "stream",
     "text": [
      "Valid Password\n"
     ]
    }
   ],
   "source": [
    "validate_passsword()"
   ]
  },
  {
   "cell_type": "markdown",
   "id": "13dad7e2-f418-4bcf-a8ab-d8f113a4b8a5",
   "metadata": {},
   "source": [
    "# Q2. Solve the below-given questions using at least one of the following:\n",
    "1. Lambda functioJ\n",
    "2. Filter functioJ\n",
    "3. Zap functioJ\n",
    "4. List ComprehensioI\n",
    "# B Check if the string starts with a particular letterY\n",
    "# B Check if the string is numericY\n",
    "# B Sort a list of tuples having fruit names and their quantity. [(\"mango\",99),(\"orange\",80), (\"grapes\", 1000)-\n",
    "B Find the squares of numbers from 1 to 10Y\n",
    "B Find the cube root of numbers from 1 to 10Y\n",
    "B Check if a given number is evenY\n",
    "B Filter odd numbers from the given list.\n",
    "[1,2,3,4,5,6,7,8,9,10-\n",
    "B Sort a list of integers into positive and negative integers lists.\n",
    "[1,2,3,4,5,6,-1,-2,-3,-4,-5,0]"
   ]
  },
  {
   "cell_type": "code",
   "execution_count": 17,
   "id": "ec5fc49a-b9e8-4bc8-9fbe-83691203ad2a",
   "metadata": {},
   "outputs": [
    {
     "data": {
      "text/plain": [
       "True"
      ]
     },
     "execution_count": 17,
     "metadata": {},
     "output_type": "execute_result"
    }
   ],
   "source": [
    "string=\"Mukesh\"\n",
    "filter=map(lambda x:x[0]==\"M\",string)\n",
    "next(filter)"
   ]
  },
  {
   "cell_type": "code",
   "execution_count": 48,
   "id": "e5d03d54-4cf4-4939-bdec-8243864e3fef",
   "metadata": {},
   "outputs": [
    {
     "data": {
      "text/plain": [
       "True"
      ]
     },
     "execution_count": 48,
     "metadata": {},
     "output_type": "execute_result"
    }
   ],
   "source": [
    "text3=\"123456\"\n",
    "filter_number =map(lambda x: x.isnumeric(), text3)\n",
    "next(filter_number)"
   ]
  },
  {
   "cell_type": "code",
   "execution_count": 26,
   "id": "eadde9ad-f50f-4c66-bc15-dfc26969f758",
   "metadata": {},
   "outputs": [],
   "source": [
    "t=[(\"mango\",99),(\"orange\",80), (\"grapes\", 1000)]\n"
   ]
  },
  {
   "cell_type": "code",
   "execution_count": 49,
   "id": "db892af9-2360-435f-a963-7c1df1eaa91c",
   "metadata": {},
   "outputs": [
    {
     "data": {
      "text/plain": [
       "True"
      ]
     },
     "execution_count": 49,
     "metadata": {},
     "output_type": "execute_result"
    }
   ],
   "source": [
    "text3=\"12356\"\n",
    "filter_number =map(lambda x: x.isdigit(), text3)\n",
    "next(filter_number)"
   ]
  },
  {
   "cell_type": "code",
   "execution_count": 60,
   "id": "be0a43d9-c3d1-4819-8801-b39c788377ec",
   "metadata": {},
   "outputs": [
    {
     "name": "stdout",
     "output_type": "stream",
     "text": [
      "acending sort:::::: [('orange', 80), ('mango', 99), ('grapes', 1000)]\n",
      "\n",
      "decending sort:::::: [('grapes', 1000), ('mango', 99), ('orange', 80)]\n"
     ]
    }
   ],
   "source": [
    "list3=[(\"mango\",99),(\"orange\",80), (\"grapes\", 1000)]\n",
    "print(\"acending sort::::::\", sorted(list3, key=lambda x: x[1]) )\n",
    "print()\n",
    "print(\"decending sort::::::\", sorted(list3, key=lambda x: x[1], reverse=True))"
   ]
  },
  {
   "cell_type": "code",
   "execution_count": 65,
   "id": "6c9a345c-0cae-4eed-9a65-83714af93c91",
   "metadata": {},
   "outputs": [
    {
     "data": {
      "text/plain": [
       "[1, 4, 9, 16, 25, 36, 49, 64, 81, 100]"
      ]
     },
     "execution_count": 65,
     "metadata": {},
     "output_type": "execute_result"
    }
   ],
   "source": [
    "[x**2 for x in range(1,11)]"
   ]
  },
  {
   "cell_type": "code",
   "execution_count": 66,
   "id": "c19c7a95-0bc5-4849-91c4-2c162dc80b9d",
   "metadata": {},
   "outputs": [
    {
     "data": {
      "text/plain": [
       "[1, 8, 27, 64, 125, 216, 343, 512, 729, 1000]"
      ]
     },
     "execution_count": 66,
     "metadata": {},
     "output_type": "execute_result"
    }
   ],
   "source": [
    "[x**3 for x in range(1,11)]"
   ]
  },
  {
   "cell_type": "code",
   "execution_count": 4,
   "id": "77783de2-7d36-4d56-813d-822b4cb09549",
   "metadata": {},
   "outputs": [
    {
     "name": "stdin",
     "output_type": "stream",
     "text": [
      "Enter the number 24\n"
     ]
    },
    {
     "data": {
      "text/plain": [
       "'even'"
      ]
     },
     "execution_count": 4,
     "metadata": {},
     "output_type": "execute_result"
    }
   ],
   "source": [
    "n=[]\n",
    "num=int(input(\"Enter the number\"))\n",
    "n.append(num)\n",
    "result=map(lambda x:\"even\" if num%2==0 else \"odd\",n)\n",
    "next(result)"
   ]
  },
  {
   "cell_type": "code",
   "execution_count": 6,
   "id": "3c3a6011-7256-427d-be1b-cd689d77ebc7",
   "metadata": {},
   "outputs": [
    {
     "data": {
      "text/plain": [
       "[1, 3, 5, 7, 9]"
      ]
     },
     "execution_count": 6,
     "metadata": {},
     "output_type": "execute_result"
    }
   ],
   "source": [
    "l=[1,2,3,4,5,6,7,8,9,10]\n",
    "list(filter(lambda x:x%2!=0,l))\n",
    "   "
   ]
  },
  {
   "cell_type": "code",
   "execution_count": 9,
   "id": "5cdfb38b-c7a3-4e0e-be92-63da6818ecb5",
   "metadata": {},
   "outputs": [
    {
     "name": "stdout",
     "output_type": "stream",
     "text": [
      "[1, 2, 3, 4, 5, 6]\n",
      "[-5, -4, -3, -2, -1]\n"
     ]
    }
   ],
   "source": [
    "l=[1,2,3,4,5,6,-1,-2,-3,-4,-5,0]\n",
    "positive=sorted(i for i in filter(lambda x:x>0,l))\n",
    "negative=sorted(i for i in filter(lambda x:x<0,l))\n",
    "print(positive)\n",
    "print(negative)"
   ]
  },
  {
   "cell_type": "code",
   "execution_count": null,
   "id": "3b2ef004-14a8-4410-b1ca-472150f5ba30",
   "metadata": {},
   "outputs": [],
   "source": []
  }
 ],
 "metadata": {
  "kernelspec": {
   "display_name": "Python 3 (ipykernel)",
   "language": "python",
   "name": "python3"
  },
  "language_info": {
   "codemirror_mode": {
    "name": "ipython",
    "version": 3
   },
   "file_extension": ".py",
   "mimetype": "text/x-python",
   "name": "python",
   "nbconvert_exporter": "python",
   "pygments_lexer": "ipython3",
   "version": "3.10.8"
  }
 },
 "nbformat": 4,
 "nbformat_minor": 5
}
