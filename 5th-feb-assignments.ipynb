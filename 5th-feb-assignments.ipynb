{
 "cells": [
  {
   "cell_type": "markdown",
   "id": "f6ae8972-75d5-49fa-9335-61b3f03a5f77",
   "metadata": {},
   "source": [
    "## Q1. Explain Class and Object with respect to Object-Oriented Programming. Give a suitable example."
   ]
  },
  {
   "cell_type": "markdown",
   "id": "7d65e692-7c58-4994-8c9d-cfec0ada8174",
   "metadata": {},
   "source": [
    "Ans:"
   ]
  },
  {
   "cell_type": "raw",
   "id": "f6c3e6bf-87fa-43e7-a44f-70e9370261a5",
   "metadata": {},
   "source": [
    "Class:-\n",
    "\n",
    " A Class in object oriented programming is a blueprint or prototype that defines the variables and the methods/functions\n",
    "    \n",
    "Example:-\n",
    "       -dog has properties like color,breed,age     "
   ]
  },
  {
   "cell_type": "raw",
   "id": "44a2b7f1-99b9-4462-b35f-dc0a3958d5e0",
   "metadata": {},
   "source": [
    "Objects:-\n",
    "     Object is an instance of a class.\n",
    "Example:-    \n",
    "      objects– size, age, color, breed, etc."
   ]
  },
  {
   "cell_type": "markdown",
   "id": "3aee5f39-dfe1-498f-b6b1-7efbadd19f42",
   "metadata": {},
   "source": [
    "##"
   ]
  },
  {
   "cell_type": "markdown",
   "id": "6baea61d-2223-4085-ac3b-788bf461dbfe",
   "metadata": {},
   "source": [
    "## Q2. Name the four pillars of OOPs."
   ]
  },
  {
   "cell_type": "markdown",
   "id": "8c5bde1d-c9e7-4244-a425-106bde477c2d",
   "metadata": {},
   "source": [
    "Ans:"
   ]
  },
  {
   "cell_type": "raw",
   "id": "091c804b-f4c5-45bb-8e99-6216ba7b3cd2",
   "metadata": {},
   "source": [
    "1-Inheritance\n",
    "2-Polymerphism\n",
    "3-Encapsulation\n",
    "4-Abstraction"
   ]
  },
  {
   "cell_type": "markdown",
   "id": "8beb7cff-e969-435b-a8d3-1f8539600ed1",
   "metadata": {},
   "source": [
    "## Q3. Explain why the __init__() function is used. Give a suitable example."
   ]
  },
  {
   "cell_type": "markdown",
   "id": "9c27860f-b204-44a4-bc1c-3f465f5ec96e",
   "metadata": {},
   "source": [
    "Ans:\n"
   ]
  },
  {
   "cell_type": "raw",
   "id": "b927da3b-3cb5-40af-9979-f024dd8bfc60",
   "metadata": {},
   "source": [
    "init() function also called constructors. This function is always executed when the class is being initiated.\n",
    "\n",
    "we can use the init() function to assign values to object properties"
   ]
  },
  {
   "cell_type": "code",
   "execution_count": 3,
   "id": "93f59b57-4e9a-4f11-b429-3cfc90d41f38",
   "metadata": {},
   "outputs": [],
   "source": [
    "class employee:\n",
    "    def __init__(self,name,height,country,blood_group):\n",
    "        self.name=name\n",
    "        self.height=height\n",
    "        self.country=country\n",
    "        self.blood_group=blood_group\n",
    "    def show_employee_details(self):\n",
    "        print(\"Name: Employee name is\", self.name)\n",
    "        print()\n",
    "        print(\"Height:Height is\", self.height)\n",
    "        print()\n",
    "        print(\"Country: country name\", self.country)\n",
    "        print()\n",
    "        print(\"Blood_group is\", self.blood_group)\n",
    "       \n",
    "         "
   ]
  },
  {
   "cell_type": "code",
   "execution_count": 4,
   "id": "2c68ba5d-e21b-4180-b0cc-817836d389cc",
   "metadata": {},
   "outputs": [],
   "source": [
    "mukesh=employee(\"Mukesh\",\"5.8\",\"India\",\"o+\")"
   ]
  },
  {
   "cell_type": "code",
   "execution_count": 6,
   "id": "2f742b83-905a-4ff5-905e-5ab2e0ad8dfa",
   "metadata": {},
   "outputs": [
    {
     "name": "stdout",
     "output_type": "stream",
     "text": [
      "Name: Employee name is Mukesh\n",
      "\n",
      "Height:Height is 5.8\n",
      "\n",
      "Country: country name India\n",
      "\n",
      "Blood_group is o+\n"
     ]
    }
   ],
   "source": [
    "mukesh.show_employee_details()\n"
   ]
  },
  {
   "cell_type": "code",
   "execution_count": 7,
   "id": "9281206b-3f30-40a9-b550-7b342f3a6cb2",
   "metadata": {},
   "outputs": [
    {
     "data": {
      "text/plain": [
       "'India'"
      ]
     },
     "execution_count": 7,
     "metadata": {},
     "output_type": "execute_result"
    }
   ],
   "source": [
    "mukesh.country"
   ]
  },
  {
   "cell_type": "markdown",
   "id": "d6456cef-2755-4c2d-8d16-567c11d93d63",
   "metadata": {},
   "source": [
    "## Q4. Why self is used in OOPs?"
   ]
  },
  {
   "cell_type": "markdown",
   "id": "1338c47d-de45-472f-838e-7b1390c3ebc6",
   "metadata": {},
   "source": [
    "Ans"
   ]
  },
  {
   "cell_type": "raw",
   "id": "50aadb44-e849-484b-9074-07e831030874",
   "metadata": {},
   "source": [
    "self:-\n",
    "Self is an argument which is important! and it is mentioned as first argument, while defining somthing within class\n",
    "\n",
    "-self is not a reserved keyword"
   ]
  },
  {
   "cell_type": "code",
   "execution_count": 38,
   "id": "4ae8c756-c1a9-4958-8e48-ff92296a3511",
   "metadata": {},
   "outputs": [],
   "source": [
    "class dog:\n",
    "    def breed(self,breed):\n",
    "        self.breed=breed\n",
    "        return self.breed\n",
    "    def color(self,color):\n",
    "        self.color=color\n",
    "    def show_breed(self):\n",
    "        return self.breed\n",
    "    def show_color(self):\n",
    "        return self.color"
   ]
  },
  {
   "cell_type": "code",
   "execution_count": 39,
   "id": "89b941a6-5f90-4ee1-96bd-903406cd9144",
   "metadata": {},
   "outputs": [],
   "source": [
    "d1=dog()\n",
    "d1.breed(\"labrador\")\n",
    "d1.color(\"black\")"
   ]
  },
  {
   "cell_type": "code",
   "execution_count": 40,
   "id": "7773b9d5-96ef-4063-a14b-0d7835fa1d67",
   "metadata": {},
   "outputs": [
    {
     "name": "stdout",
     "output_type": "stream",
     "text": [
      "labrador\n"
     ]
    }
   ],
   "source": [
    "print(d1.show_breed())"
   ]
  },
  {
   "cell_type": "markdown",
   "id": "af4696a5-0c8c-4ca8-bd71-db31680220ef",
   "metadata": {},
   "source": [
    "## Q5. What is inheritance? Give an example for each type of inheritance."
   ]
  },
  {
   "cell_type": "markdown",
   "id": "ebce86f7-6ac0-4d21-b05b-a90e091ef1de",
   "metadata": {},
   "source": [
    "Ans"
   ]
  },
  {
   "cell_type": "raw",
   "id": "98f9f2e0-cd47-47c0-a220-c1153001568b",
   "metadata": {},
   "source": [
    "Inheritance is defined as the mechanism of inheriting the properties of the base class to the child class.\n",
    "\n",
    "It also called as sub class\n",
    "\n",
    "Apart from the base class it may have other properties\n",
    "\n",
    "We may change the properties of a sub class from base class without changing the super class's property\n",
    "\n",
    "If super class property changes that will lead to change the child class property too."
   ]
  },
  {
   "cell_type": "markdown",
   "id": "8ca22080-8916-4ffe-aa37-e027078ab709",
   "metadata": {},
   "source": [
    "## Types of Inheritance class"
   ]
  },
  {
   "cell_type": "markdown",
   "id": "97e98dec-da7a-46b5-8eb0-fc740734b0e4",
   "metadata": {},
   "source": [
    "1.Single Inheritance/ single level Inheritance "
   ]
  },
  {
   "cell_type": "code",
   "execution_count": 44,
   "id": "52dfef03-265c-44e6-b52d-11966862cfc1",
   "metadata": {},
   "outputs": [
    {
     "name": "stdout",
     "output_type": "stream",
     "text": [
      "I am Test Box1\n",
      "I am Box2\n"
     ]
    }
   ],
   "source": [
    "class Box1:\n",
    "    def test_class1(self):\n",
    "        return (\"I am Test Box1\")\n",
    "\n",
    "    \n",
    "# create class Box2 as a sub class of Box2    \n",
    "class Box2(Box1):\n",
    "    def test_class2(self): # add another feature to box2\n",
    "        return(\"I am Box2\")\n",
    "        \n",
    "        \n",
    "obj_box=Box2() # create object of Box2\n",
    "print(obj_box.test_class1()) # see the super class function through Box2\n",
    "print(obj_box.test_class2()) # see the sub class extra function\n"
   ]
  },
  {
   "cell_type": "markdown",
   "id": "9803ebb1-021b-4a39-aaf8-37a7f00fda7b",
   "metadata": {},
   "source": [
    "## 2. Multi level Inheritance"
   ]
  },
  {
   "cell_type": "markdown",
   "id": "dec98931-fcb3-465a-b5a1-90176ce9a714",
   "metadata": {},
   "source": [
    "Ans"
   ]
  },
  {
   "cell_type": "code",
   "execution_count": 45,
   "id": "005ea9f4-eed6-4beb-a85f-5e69dcba192e",
   "metadata": {},
   "outputs": [
    {
     "name": "stdout",
     "output_type": "stream",
     "text": [
      "I can Read Well\n",
      "I Can Sing Well\n",
      "I can Code Well\n"
     ]
    }
   ],
   "source": [
    "class Grand_father : # class 1\n",
    "    def show_grand_father_talent(self):\n",
    "        return \"I Can Sing Well\"\n",
    "\n",
    "class Father(Grand_father):# class 2 has property of class 1 and its won \n",
    "    def show_father_talent(self):\n",
    "        return \"I can Read Well\"\n",
    "    \n",
    "class Son(Father): # class 3 has properties of class 1, class 2 and its won\n",
    "    def show_son_talent(self):\n",
    "        return \"I can Code Well\"\n",
    "    \n",
    "    \n",
    "    \n",
    "son1= Son()\n",
    "print(son1.show_father_talent())\n",
    "print(son1.show_grand_father_talent())\n",
    "print(son1.show_son_talent())"
   ]
  },
  {
   "cell_type": "markdown",
   "id": "7aeaa912-eb0f-48c0-ace6-30600105ef84",
   "metadata": {},
   "source": [
    "## 3. Hybrid Inheritance"
   ]
  },
  {
   "cell_type": "markdown",
   "id": "2444ea9d-39c2-477a-95f1-97c68f5ef04c",
   "metadata": {},
   "source": [
    "Ans"
   ]
  },
  {
   "cell_type": "code",
   "execution_count": 46,
   "id": "5203c8f2-e91a-45e1-8073-f140d75f458f",
   "metadata": {},
   "outputs": [
    {
     "name": "stdout",
     "output_type": "stream",
     "text": [
      "Eye Color Is Blue : I am Mom Eye\n",
      "Skin Color Is white : I am Dad skin\n"
     ]
    }
   ],
   "source": [
    "class Mom: # Create mom\n",
    "    def eye_color(self):\n",
    "        return (\"Eye Color Is Blue : I am Mom Eye\")\n",
    "    \n",
    "class Dad: # create dad\n",
    "    def skin_color(self):\n",
    "        return \"Skin Color Is white : I am Dad skin\"\n",
    "    \n",
    "class Baby(Mom, Dad): # create baby\n",
    "    pass\n",
    "\n",
    "baby1= Baby()#create baby object\n",
    "\n",
    "print(baby1.eye_color())# seemom gene\n",
    "print(baby1.skin_color()) # see dad gene\n"
   ]
  },
  {
   "cell_type": "code",
   "execution_count": null,
   "id": "d4806cb9-7f04-46af-a29e-0985cfbbaba2",
   "metadata": {},
   "outputs": [],
   "source": []
  }
 ],
 "metadata": {
  "kernelspec": {
   "display_name": "Python 3 (ipykernel)",
   "language": "python",
   "name": "python3"
  },
  "language_info": {
   "codemirror_mode": {
    "name": "ipython",
    "version": 3
   },
   "file_extension": ".py",
   "mimetype": "text/x-python",
   "name": "python",
   "nbconvert_exporter": "python",
   "pygments_lexer": "ipython3",
   "version": "3.10.8"
  }
 },
 "nbformat": 4,
 "nbformat_minor": 5
}
