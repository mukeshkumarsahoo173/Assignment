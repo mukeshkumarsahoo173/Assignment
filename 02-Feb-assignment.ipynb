{
 "cells": [
  {
   "cell_type": "markdown",
   "id": "4e62e9e2-2af4-46fd-a247-d984ff6d2207",
   "metadata": {},
   "source": [
    "## Q1. Explain with an example each when to use a for loop and a while loop."
   ]
  },
  {
   "cell_type": "markdown",
   "id": "2744900d-e20e-4c2a-8f99-081beb097c0b",
   "metadata": {},
   "source": [
    "Ans:"
   ]
  },
  {
   "cell_type": "markdown",
   "id": "b833c0f6-5dda-4932-9268-e43719d610d1",
   "metadata": {},
   "source": [
    "For loop:\n",
    "    when we want to execute a block of code for a fix number of times then we use for loop.\n",
    "    \n",
    " Example:\n",
    "  fruits = [\"apple\", \"banana\", \"cherry\"]\n",
    "for x in fruits:\n",
    "  print(x)\n",
    "    \n",
    "    \n",
    "while loop:\n",
    "    when we want to execute a block of code for a number of times untill a comdition  is met then we use while loop.\n",
    "\n",
    "Example:\n",
    "    i = 1\n",
    "while i < 6:\n",
    "  print(i)\n",
    "  i += 1\n",
    " "
   ]
  },
  {
   "cell_type": "markdown",
   "id": "05900324-2f30-45ed-970f-eb3e75a296f5",
   "metadata": {},
   "source": [
    "## Q2. Write a python program to print the sum and product of the first 10 natural numbers using for and while loop."
   ]
  },
  {
   "cell_type": "markdown",
   "id": "3ac22292-b8ca-400f-970d-aebbda49519c",
   "metadata": {},
   "source": [
    "Ans"
   ]
  },
  {
   "cell_type": "code",
   "execution_count": 7,
   "id": "a17f53a5-104a-4dde-8c85-1d70df87f46b",
   "metadata": {},
   "outputs": [
    {
     "name": "stdout",
     "output_type": "stream",
     "text": [
      "55\n"
     ]
    }
   ],
   "source": [
    "## USING FOR LOOP:\n",
    "\n",
    "sum=0\n",
    "for i in range(0,10):\n",
    "    sum+=n\n",
    "    n+=1\n",
    "print(sum)    "
   ]
  },
  {
   "cell_type": "code",
   "execution_count": 2,
   "id": "ca35b78b-6ba9-40ef-a79c-89e55d36dd52",
   "metadata": {},
   "outputs": [
    {
     "name": "stdout",
     "output_type": "stream",
     "text": [
      "55\n"
     ]
    }
   ],
   "source": [
    "## USING WHILE LOOP\n",
    "sum=0\n",
    "a=1\n",
    "while a<=10:\n",
    "    sum+=a\n",
    "    a+=1\n",
    "print(sum) \n",
    "    "
   ]
  },
  {
   "cell_type": "markdown",
   "id": "93961179-546c-42c8-a538-3ec7059075f2",
   "metadata": {},
   "source": [
    "## Q3. Create a python program to compute the electricity bill for a household.The per-unit charges in rupees are as follows: For the first 100 units, the user will be charged Rs. 4.5 perunit, for the next 100 units, the user will be charged Rs. 6 per unit, and for the next 100 units, the user willbe charged Rs. 10 per unit, After 300 units and above the user will be charged Rs. 20 per unit.You are required to take the units of electricity consumed in a month from the user as input.Your program must pass this test case: when the unit of electricity consumed by the user in a month is 310, the total electricity bill should be 2250."
   ]
  },
  {
   "cell_type": "markdown",
   "id": "94208b14-4041-4eca-9b2c-248c7ead6dbb",
   "metadata": {},
   "source": [
    "Ans:"
   ]
  },
  {
   "cell_type": "code",
   "execution_count": 13,
   "id": "43303235-1877-4bcd-af17-e9adcc273efc",
   "metadata": {},
   "outputs": [
    {
     "name": "stdin",
     "output_type": "stream",
     "text": [
      "Enter the monthly units: 23445\n"
     ]
    },
    {
     "data": {
      "text/plain": [
       "464950"
      ]
     },
     "execution_count": 13,
     "metadata": {},
     "output_type": "execute_result"
    }
   ],
   "source": [
    "units=int(input(\"Enter the monthly units:\"))\n",
    "total=0\n",
    "if units>300:\n",
    "    total=(units-300)*20+(100*10)+(100*6)+(100*4.5)\n",
    "elif units<=300 and units>200:\n",
    "    total=(units-200)*10+(100*6)+(100*4.5)\n",
    "elif units<=200 and units>100:\n",
    "    total=(units-100)*6+(100*4.5)\n",
    "elif units<=100:\n",
    "    total=units*4.5\n",
    "elif units==0:\n",
    "    total\n",
    "\n",
    "int(total)    "
   ]
  },
  {
   "cell_type": "markdown",
   "id": "614bd39b-2fc6-4231-9d8d-b16a624d66c4",
   "metadata": {},
   "source": [
    "## Q4. Create a list of numbers from 1 to 100. Use for loop and while loop to calculate the cube of each number and if the cube of that number is divisible by 4 or 5 then append that number in a list and print that list."
   ]
  },
  {
   "cell_type": "markdown",
   "id": "e92184dc-ee05-4522-838a-e8d57d9a47e1",
   "metadata": {},
   "source": [
    "Ans:"
   ]
  },
  {
   "cell_type": "code",
   "execution_count": 42,
   "id": "14c85733-e595-4f39-851e-c0831475c758",
   "metadata": {},
   "outputs": [
    {
     "name": "stdout",
     "output_type": "stream",
     "text": [
      "[8, 64, 125, 216, 512, 1000, 1728, 2744, 3375, 4096, 5832, 8000, 10648, 13824, 15625, 17576, 21952, 27000, 32768, 39304, 42875, 46656, 54872, 64000, 74088, 85184, 91125, 97336, 110592, 125000, 140608, 157464, 166375, 175616, 195112, 216000, 238328, 262144, 274625, 287496, 314432, 343000, 373248, 405224, 421875, 438976, 474552, 512000, 551368, 592704, 614125, 636056, 681472, 729000, 778688, 830584, 857375, 884736, 941192, 1000000]\n"
     ]
    }
   ],
   "source": [
    "i=1\n",
    "cube=0\n",
    "l1=[]\n",
    "l=list(range(1,101))\n",
    "for i in l:\n",
    "    cube=i*i*i\n",
    "    if cube%4==0 or cube%5==0:\n",
    "        l1.append(cube)\n",
    "print(l1)    "
   ]
  },
  {
   "cell_type": "markdown",
   "id": "982f34c0-e425-43ce-b559-f584a74463d4",
   "metadata": {},
   "source": [
    "## Q5. Write a program to filter count vowels in the below-given string.string = \"I want to become a data scientist\""
   ]
  },
  {
   "cell_type": "markdown",
   "id": "8d09e32a-83c7-4b8a-b5af-34f072a67219",
   "metadata": {},
   "source": [
    "Ans:"
   ]
  },
  {
   "cell_type": "code",
   "execution_count": 44,
   "id": "0acea2ba-9a26-4574-8875-675c5b81f074",
   "metadata": {},
   "outputs": [
    {
     "ename": "TypeError",
     "evalue": "string indices must be integers",
     "output_type": "error",
     "traceback": [
      "\u001b[0;31m---------------------------------------------------------------------------\u001b[0m",
      "\u001b[0;31mTypeError\u001b[0m                                 Traceback (most recent call last)",
      "Cell \u001b[0;32mIn[44], line 5\u001b[0m\n\u001b[1;32m      3\u001b[0m string\u001b[38;5;241m=\u001b[39mstring\u001b[38;5;241m.\u001b[39mlower()\n\u001b[1;32m      4\u001b[0m \u001b[38;5;28;01mfor\u001b[39;00m i \u001b[38;5;129;01min\u001b[39;00m string:\n\u001b[0;32m----> 5\u001b[0m     \u001b[38;5;28;01mif\u001b[39;00m \u001b[43mstring\u001b[49m\u001b[43m[\u001b[49m\u001b[43mi\u001b[49m\u001b[43m]\u001b[49m\u001b[38;5;241m==\u001b[39m\u001b[38;5;124m\"\u001b[39m\u001b[38;5;124ma\u001b[39m\u001b[38;5;124m\"\u001b[39m \u001b[38;5;129;01mor\u001b[39;00m string[i]\u001b[38;5;241m==\u001b[39m\u001b[38;5;124m\"\u001b[39m\u001b[38;5;124me\u001b[39m\u001b[38;5;124m\"\u001b[39m \u001b[38;5;129;01mor\u001b[39;00m string[i]\u001b[38;5;241m==\u001b[39m\u001b[38;5;124m\"\u001b[39m\u001b[38;5;124mi\u001b[39m\u001b[38;5;124m\"\u001b[39m \u001b[38;5;129;01mor\u001b[39;00m string[i]\u001b[38;5;241m==\u001b[39m\u001b[38;5;124m\"\u001b[39m\u001b[38;5;124mo\u001b[39m\u001b[38;5;124m\"\u001b[39m \u001b[38;5;129;01mor\u001b[39;00m string[i]\u001b[38;5;241m==\u001b[39m\u001b[38;5;124m\"\u001b[39m\u001b[38;5;124mu\u001b[39m\u001b[38;5;124m\"\u001b[39m:\n\u001b[1;32m      6\u001b[0m         count\u001b[38;5;241m+\u001b[39m\u001b[38;5;241m=\u001b[39m\u001b[38;5;241m1\u001b[39m\n\u001b[1;32m      7\u001b[0m \u001b[38;5;28mprint\u001b[39m(count)        \n",
      "\u001b[0;31mTypeError\u001b[0m: string indices must be integers"
     ]
    }
   ],
   "source": [
    "string=\"I want to become a data scientist\"\n",
    "count=0\n",
    "string=string.lower()\n",
    "for i in string:\n",
    "    if string==\"a\" or string[i]==\"e\" or string[i]==\"i\" or string[i]==\"o\" or string[i]==\"u\":\n",
    "        count+=1\n",
    "print(count)        \n",
    "     "
   ]
  },
  {
   "cell_type": "code",
   "execution_count": null,
   "id": "3f97eb04-b509-4266-9178-d19edb285c99",
   "metadata": {},
   "outputs": [],
   "source": []
  }
 ],
 "metadata": {
  "kernelspec": {
   "display_name": "Python 3 (ipykernel)",
   "language": "python",
   "name": "python3"
  },
  "language_info": {
   "codemirror_mode": {
    "name": "ipython",
    "version": 3
   },
   "file_extension": ".py",
   "mimetype": "text/x-python",
   "name": "python",
   "nbconvert_exporter": "python",
   "pygments_lexer": "ipython3",
   "version": "3.10.8"
  }
 },
 "nbformat": 4,
 "nbformat_minor": 5
}
