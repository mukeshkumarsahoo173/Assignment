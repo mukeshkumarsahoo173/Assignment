{
 "cells": [
  {
   "cell_type": "markdown",
   "id": "fcf7e6d5-76ce-436b-990b-5ebb01512342",
   "metadata": {},
   "source": [
    "# Q1. What is Abstraction in OOps? Explain with an example."
   ]
  },
  {
   "cell_type": "markdown",
   "id": "a89f7b52-03c6-4067-b487-deacb77487ca",
   "metadata": {},
   "source": [
    "Ans"
   ]
  },
  {
   "cell_type": "markdown",
   "id": "650a6bdf-6491-4dc0-bbcc-08f71232ffb4",
   "metadata": {},
   "source": [
    "- Abstraction in python is defined as a process of handling complexity by hiding unnecessary information from the user\n",
    "\n",
    "-An abstract method is a method that has a declaration but does not have an implementation."
   ]
  },
  {
   "cell_type": "code",
   "execution_count": 40,
   "id": "84afc198-945f-4ae7-bad8-61692853120f",
   "metadata": {},
   "outputs": [],
   "source": [
    "import abc\n",
    "class pwskills():\n",
    "    \n",
    "    @abc.abstractmethod\n",
    "    def students_details(self):\n",
    "        pass\n",
    "    @abc.abstractmethod\n",
    "    def student_assignments(self):\n",
    "        pass\n",
    "    @abc.abstractmethod\n",
    "    def studenft_marks(self):\n",
    "        pass "
   ]
  },
  {
   "cell_type": "code",
   "execution_count": 41,
   "id": "d3dfe0a3-6ece-498d-bfd0-5ba7ee13d15a",
   "metadata": {},
   "outputs": [],
   "source": [
    "class student_details(pwskills):\n",
    "    \n",
    "    def student_details(self):\n",
    "        return \"this is a method foere taking student details\"\n",
    "    def student_assignments(self):\n",
    "        return \"this is a method for assign details for a particular student\""
   ]
  },
  {
   "cell_type": "code",
   "execution_count": 45,
   "id": "b3484cb1-6edc-41b8-a78b-34e6dc60d7a2",
   "metadata": {},
   "outputs": [],
   "source": [
    "class data_science_masters(pwskills):\n",
    "    \n",
    "    def student_details(self):\n",
    "        return \"this will return a student details for data science masters\"\n",
    "    def student_assignments(self):\n",
    "        return \"this will give you a  student assignment details for data science masters\""
   ]
  },
  {
   "cell_type": "code",
   "execution_count": 46,
   "id": "40001ea3-afc7-4dd6-83e9-3d550c63ec96",
   "metadata": {},
   "outputs": [],
   "source": [
    "data_science_masters_obj=data_science_masters()"
   ]
  },
  {
   "cell_type": "code",
   "execution_count": 47,
   "id": "31aa4732-a7a9-45a8-bbc5-247d9bf4a034",
   "metadata": {},
   "outputs": [],
   "source": [
    "data_science_masters_obj.students_details()"
   ]
  },
  {
   "cell_type": "code",
   "execution_count": 48,
   "id": "ae537427-fa23-4045-92f8-8d9db744700c",
   "metadata": {},
   "outputs": [],
   "source": [
    "sd=student_details()"
   ]
  },
  {
   "cell_type": "code",
   "execution_count": 49,
   "id": "0d1a957b-7696-47a2-bedf-bd8293c5b2e8",
   "metadata": {},
   "outputs": [
    {
     "data": {
      "text/plain": [
       "'this is a method for assign details for a particular student'"
      ]
     },
     "execution_count": 49,
     "metadata": {},
     "output_type": "execute_result"
    }
   ],
   "source": [
    "sd.student_assignments()"
   ]
  },
  {
   "cell_type": "markdown",
   "id": "a4c8a732-a2a2-4285-b613-cf82f52e4fc2",
   "metadata": {},
   "source": [
    "# Q2. Differentiate between Abstraction and Encapsulation. Explain with an example."
   ]
  },
  {
   "cell_type": "markdown",
   "id": "5ccc5a51-47d3-49df-a213-2a4f278523e6",
   "metadata": {},
   "source": [
    "Ans"
   ]
  },
  {
   "cell_type": "markdown",
   "id": "cb02a171-5042-4417-b804-5a1d23e86add",
   "metadata": {},
   "source": [
    "i). Abstraction shows only useful data by providing the most necessary details, whereas Encapsulation wraps code and data for necessary information.\n",
    "\n",
    "ii). Abstraction is focused mainly on what should be done, while Encapsulation is focused on how it should be done.\n",
    "\n",
    "iii). Abstraction hides complexity by giving you a more abstract picture, while Encapsulation hides internal work so that you can change it later.\n",
    "\n",
    "iv). Abstraction helps you to partition the program into many independent portions, whereas Encapsulation is easy to change with new requirements.\n",
    "\n",
    "v).Comparing Encapsulation vs Abstraction, Abstraction solves problems at the design level while Encapsulation solves problems at the implementation level.\n",
    "\n",
    "vi).Abstraction hides the irrelevant details found in the code, whereas Encapsulation helps developers to organize the entire code easily."
   ]
  },
  {
   "cell_type": "code",
   "execution_count": 2,
   "id": "347d4e3b-3210-4db9-b468-1c91f13d753b",
   "metadata": {},
   "outputs": [
    {
     "name": "stdout",
     "output_type": "stream",
     "text": [
      "The mileage is 22 kmph\n",
      "The mileage is Maruthi\n"
     ]
    }
   ],
   "source": [
    "# abstract\n",
    "\n",
    "from abc import ABC, abstractmethod   \n",
    "class Car1(ABC): \n",
    "    @abstractmethod\n",
    "    def mileage(self):   \n",
    "        pass  \n",
    "    def name(self):\n",
    "        pass\n",
    "\n",
    "class Maruthi(Car1):   \n",
    "    def mileage(self):   \n",
    "        return(\"The mileage is 22 kmph\")\n",
    "    def name(self):   \n",
    "        return(\"The mileage is Maruthi\")\n",
    "T=Maruthi()\n",
    "print(T.mileage())\n",
    "print(T.name())    "
   ]
  },
  {
   "cell_type": "code",
   "execution_count": 3,
   "id": "76b14fc2-10bd-4ccf-9ad2-fdb6fda58965",
   "metadata": {},
   "outputs": [
    {
     "name": "stdout",
     "output_type": "stream",
     "text": [
      "('Maruthi', 300000, 32) Before setting a new milage\n",
      "\n",
      "('Maruthi', 300000, 40) After setting a new milage\n"
     ]
    }
   ],
   "source": [
    "class Car1:\n",
    "    def __init__(self, name, cost, milage):\n",
    "        self.__milage=milage\n",
    "        self.__name=name\n",
    "        self.__cost=cost\n",
    "    def get_details(self): # getter\n",
    "        return(self.__name, self.__cost, self.__milage)\n",
    "    def set_milage(self,new_milage): # setter\n",
    "        self.__milage=new_milage\n",
    "        \n",
    "c1= Car1(\"Maruthi\", 300000, 32)  \n",
    "print(c1.get_details(), \"Before setting a new milage\")\n",
    "c1.set_milage(40)\n",
    "print()\n",
    "print(c1.get_details(), \"After setting a new milage\")"
   ]
  },
  {
   "cell_type": "markdown",
   "id": "89b7e771-7bdc-4fb5-80b9-730940dbbb28",
   "metadata": {},
   "source": [
    "# Q3. What is abc module in python? Why is it used?"
   ]
  },
  {
   "cell_type": "markdown",
   "id": "67e34210-9cfa-478f-bed5-38bf1b43b468",
   "metadata": {},
   "source": [
    "Ans"
   ]
  },
  {
   "cell_type": "markdown",
   "id": "c31ef92e-57d6-40cc-acec-18b30271ef5f",
   "metadata": {},
   "source": [
    "The 'abc' module in Python library provides the infrastructure for defining custom abstract base classes. 'abc' works by marking methods of the base class as abstract. This is done by @absttractmethod decorator.\n",
    "\n",
    "-It is use to make a method as this module provides the infrastructure for defining abstract base classes (ABCs) in Python,"
   ]
  },
  {
   "cell_type": "code",
   "execution_count": 6,
   "id": "0b9a0632-b21d-44e9-8994-ea8e4a114cd3",
   "metadata": {},
   "outputs": [
    {
     "name": "stdout",
     "output_type": "stream",
     "text": [
      "my_abc is a abstractmethod\n"
     ]
    }
   ],
   "source": [
    "from abc import ABC, abstractmethod\n",
    "\n",
    "class my_abc:\n",
    "    @abstractmethod\n",
    "    def avc(self):\n",
    "        pass\n",
    "class your_abc(my_abc):   \n",
    "    def see():   \n",
    "        print(\"my_abc is a abstractmethod\")        \n",
    "        \n",
    "        \n",
    "u_abc= your_abc\n",
    "u_abc.see()"
   ]
  },
  {
   "cell_type": "markdown",
   "id": "3f192010-8516-42d8-9d1f-76d94d5b772f",
   "metadata": {},
   "source": [
    "# Q4. How can we achieve data abstraction?"
   ]
  },
  {
   "cell_type": "markdown",
   "id": "8b97ffb8-c1a3-4b5b-9580-c486ec58c39a",
   "metadata": {},
   "source": [
    "Ans"
   ]
  },
  {
   "cell_type": "markdown",
   "id": "12102902-cc5e-4210-93f5-01f086d441dd",
   "metadata": {},
   "source": [
    "-Data abstraction in Python can be done using the following methods: - Using list comprehensions to transform multiple values into a single value\n",
    "\n",
    "-Using map function to transform multiple values into an array - Using filter function to transform only those items that meet certain criteria - Using reduce function to combine two or more items into a single value Abstractions allow developers to write code without worrying about how the code will be executed on the computer"
   ]
  },
  {
   "cell_type": "markdown",
   "id": "c571a25b-9b5b-4454-a1dc-be175120df33",
   "metadata": {},
   "source": [
    "# Q5. Can we create an instance of an abstract class? Explain your answer in python"
   ]
  },
  {
   "cell_type": "markdown",
   "id": "4eceaf13-f15c-4a78-9d5d-eabda24d3c07",
   "metadata": {},
   "source": [
    "Ans"
   ]
  }
 ],
 "metadata": {
  "kernelspec": {
   "display_name": "Python 3 (ipykernel)",
   "language": "python",
   "name": "python3"
  },
  "language_info": {
   "codemirror_mode": {
    "name": "ipython",
    "version": 3
   },
   "file_extension": ".py",
   "mimetype": "text/x-python",
   "name": "python",
   "nbconvert_exporter": "python",
   "pygments_lexer": "ipython3",
   "version": "3.10.8"
  }
 },
 "nbformat": 4,
 "nbformat_minor": 5
}
