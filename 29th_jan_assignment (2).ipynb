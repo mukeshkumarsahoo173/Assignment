{
 "cells": [
  {
   "cell_type": "markdown",
   "id": "cc6bd3d6-50d4-4895-b671-f65d28b459dd",
   "metadata": {},
   "source": [
    "1. Who developed Python Language ?"
   ]
  },
  {
   "cell_type": "raw",
   "id": "4d085585-e2b5-46e9-8def-c5b59c4c74eb",
   "metadata": {
    "tags": []
   },
   "source": [
    "ANS"
   ]
  },
  {
   "cell_type": "raw",
   "id": "cb960c28-509a-49b6-aabd-0a2fce41dd71",
   "metadata": {},
   "source": [
    "Guido van Rossum in the year of 1991"
   ]
  }
 ],
 "metadata": {
  "kernelspec": {
   "display_name": "Python 3 (ipykernel)",
   "language": "python",
   "name": "python3"
  },
  "language_info": {
   "codemirror_mode": {
    "name": "ipython",
    "version": 3
   },
   "file_extension": ".py",
   "mimetype": "text/x-python",
   "name": "python",
   "nbconvert_exporter": "python",
   "pygments_lexer": "ipython3",
   "version": "3.10.8"
  }
 },
 "nbformat": 4,
 "nbformat_minor": 5
}
