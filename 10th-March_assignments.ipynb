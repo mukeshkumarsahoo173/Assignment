{
 "cells": [
  {
   "cell_type": "markdown",
   "id": "0aeaf8e6-c10e-4ab1-a796-3f901bc546b2",
   "metadata": {},
   "source": [
    "# Q1: What are the Probability Mass Function (PMF) and Probability Density Function (PDF)? Explain with an example\n",
    "ANS\n",
    "* Probability Mass Function (PMF) and Probability Density Function (PDF) are two concepts in probability theory used to describe the probability distribution of a random variable.\n",
    "#### A Probability Mass Function (PMF) is a function that gives the probability of a discrete random variable taking on each possible value. In other words, it assigns probabilities to each possible outcome of a discrete random variable.\n",
    "* For example, let's say we are rolling a fair six-sided die. The possible outcomes are 1, 2, 3, 4, 5, or 6. The PMF would be a function that assigns a probability to each of these outcomes. Since the die is fair, the probability of rolling any one of these outcomes is 1/6. So the PMF would be:\n",
    "P(X=1) = 1/6\n",
    "P(X=2) = 1/6\n",
    "P(X=3) = 1/6\n",
    "P(X=4) = 1/6\n",
    "P(X=5) = 1/6\n",
    "P(X=6) = 1/6\n",
    "\n",
    "#### A Probability Density Function (PDF), on the other hand, is a function that describes the probability distribution of a continuous random variable. It gives the relative likelihood of the random variable taking on a particular value.\n",
    "* For example, let's say we are measuring the height of a group of people. The heights are continuous and can take on any value within a certain range. The PDF would be a function that describes the relative likelihood of measuring a particular height.\n",
    "\n",
    "* The PDF of a continuous random variable is defined such that the area under the curve between any two points gives the probability that the random variable takes on a value within that range. For example, if the PDF is a normal distribution with a mean of 5 feet and a standard deviation of 1 foot, the probability of measuring a height between 4 feet and 6 feet would be the area under the curve between those two points.\n",
    "\n",
    "* PDFs are often used in conjunction with integrals to calculate probabilities for continuous random variables."
   ]
  },
  {
   "cell_type": "markdown",
   "id": "6ae30484-ee5b-4e43-9bbe-a9f06f00539a",
   "metadata": {},
   "source": [
    "# Q2: What is Cumulative Density Function (CDF)? Explain with an example. Why CDF is used?\n",
    "ANS*\n",
    "#### The Cumulative Density Function (CDF) is a function that describes the probability that a continuous random variable X takes on a value less than or equal to x. It is denoted by F(x).\n",
    "* In other words, the CDF is the integral of the Probability Density Function (PDF) of X from negative infinity to x. Mathematically, it is defined as:\n",
    "$ F(x) = P(X <= x) = ∫(-∞,x) f(t) dt$\n",
    "\n",
    "* where f(t) is the PDF of X.\n",
    "\n",
    "* The CDF is a non-decreasing function, meaning that as x increases, the probability that X takes on a value less than or equal to x also increases. Additionally, the CDF is a continuous function, except at points where the PDF has a discontinuity.\n",
    "\n",
    "* For example, let's say we have a random variable X that is uniformly distributed between 0 and 1. The PDF of X is a constant 1 between 0 and 1, and 0 elsewhere. The CDF of X would be:\n",
    "\n",
    "$F(x) = P(X <= x) = ∫(0,x) 1 dt = x, for 0 <= x <= 1$<br> $F(x) = 0, for x < 0$<br> $F(x) = 1, for x > 1$<br>\n",
    "\n",
    "* We can use the CDF to find probabilities for X. For example, the probability that X is between 0.2 and 0.8 is:\n",
    "$P(0.2 < X < 0.8) = F(0.8) - F(0.2) = 0.8 - 0.2 = 0.6$\n",
    "The CDF is useful because it allows us to calculate probabilities for continuous random variables without having to integrate the PDF. Additionally, it provides a convenient way to compare the distributions of different random variables. By comparing the CDFs of two random variables, we can see which one has a greater probability of taking on a certain value, or which one has a greater spread of values."
   ]
  },
  {
   "cell_type": "markdown",
   "id": "21316444-510f-4a98-8d2b-899e31b3c61f",
   "metadata": {},
   "source": [
    "Q3: What are some examples of situations where the normal distribution might be used as a model? Explain how the parameters of the normal distribution relate to the shape of the distribution.\n",
    "ANS\n",
    "#### The normal distribution is a probability distribution that is often used as a model for random variables that are continuous and have a symmetric bell-shaped distribution. Some examples of situations where the normal distribution might be used as a model are:\n",
    "* Heights and weights of people in a population\n",
    "* IQ scores\n",
    "* Errors in measurement or experimental data\n",
    "* Scores on standardized tests like the SAT or ACT\n",
    "* Response times in a task\n",
    "#### The normal distribution is characterized by two parameters: the mean (µ) and the standard deviation (σ). The mean determines the center of the distribution, while the standard deviation determines the spread of the distribution. The larger the value of σ, the more spread out the distribution is, while the smaller the value of σ, the more tightly clustered the distribution is around the mean.\n",
    "* The shape of the normal distribution is symmetric around the mean, meaning that the probability of a random variable taking on a value that is k standard deviations away from the mean is the same as the probability of it taking on a value that is -k standard deviations away from the mean. This property is known as the \"68-95-99.7 rule\", which states that approximately 68% of the values lie within one standard deviation of the mean, 95% of the values lie within two standard deviations of the mean, and 99.7% of the values lie within three standard deviations of the mean.\n"
   ]
  },
  {
   "cell_type": "markdown",
   "id": "4ffe4b29-2437-4d4e-9e47-8b6a66d1b1d8",
   "metadata": {},
   "source": [
    "# Q4: Explain the importance of Normal Distribution. Give a few real-life examples of Normal Distribution.\n",
    "ANS\n",
    "* The Normal Distribution is one of the most important probability distributions in statistics. It is used widely in various fields of science, engineering, finance, and social sciences. The importance of Normal Distribution arises from the Central Limit Theorem, which states that the sum of a large number of independent and identically distributed random variables, regardless of their underlying distribution, tends to follow a Normal Distribution.\n",
    "### The Normal Distribution is important for several reasons:\n",
    "* It provides a framework for modeling and analyzing data with a symmetric bell-shaped distribution.\n",
    "* It is widely used for statistical inference, hypothesis testing, and confidence interval estimation.\n",
    "* Many statistical techniques assume that the underlying data follows a Normal Distribution.\n",
    "* Normal Distribution allows us to use Z-scores to standardize data, which can be helpful in comparing data from different sources.\n",
    "* Here are a few real-life examples of Normal Distribution:\n",
    "Heights and weights of people in a population: These two characteristics typically follow a Normal Distribution. The average height and weight of a population can be described by the Normal Distribution with a certain mean and standard deviation.\n",
    "\n",
    "Scores on standardized tests: Standardized tests such as the SAT, ACT, or GRE are designed to have a Normal Distribution of scores. The test developers use a large sample of test-takers to create a reference distribution, and then score each test-taker's performance relative to that distribution.\n",
    "\n",
    "Errors in measurements: When we measure something, we inevitably make some errors due to limitations of the measuring instruments, human error, or other factors. These errors typically follow a Normal Distribution, and understanding their distribution is crucial in determining the precision and accuracy of the measurements.\n",
    "\n",
    "Stock prices: The daily changes in stock prices also follow a Normal Distribution. This is useful for investors who use statistical models to estimate the probability of a certain stock price movement.\n",
    "\n",
    "In summary, the Normal Distribution is an important probability distribution in statistics that has a wide range of applications in various fields. Understanding the Normal Distribution and its properties is essential for making statistical inferences and modeling real-world phenomena."
   ]
  },
  {
   "cell_type": "markdown",
   "id": "cd9e844e-ba62-4890-b58e-2cadec397eba",
   "metadata": {},
   "source": [
    "# Q5: What is Bernaulli Distribution? Give an Example. What is the difference between Bernoulli Distribution and Binomial Distribution?\n",
    "ANS\n",
    "* Bernoulli distribution is a discrete probability distribution that describes the outcomes of a single binary experiment that can result in either success (probability p) or failure (probability 1-p), where p is a fixed parameter. The Bernoulli distribution is named after the Swiss mathematician Jacob Bernoulli.\n",
    "\n",
    "* An example of the Bernoulli distribution is flipping a coin. The coin can either come up heads (success) or tails (failure), with the probability of getting heads being p and the probability of getting tails being 1-p.\n",
    "\n",
    "* The Bernoulli distribution is the simplest probability distribution for a binary outcome. However, it is often useful to model situations where we have a series of binary outcomes, such as the number of heads obtained in multiple coin flips or the number of successes in a sequence of independent trials. This leads us to the binomial distribution.\n",
    "\n",
    "* The main difference between the Bernoulli distribution and the binomial distribution is that the Bernoulli distribution models a single binary outcome, while the binomial distribution models the number of successes in a fixed number of independent Bernoulli trials. Specifically, the binomial distribution is the probability distribution of the number of successes in n independent Bernoulli trials, each with probability p of success.\n",
    "\n",
    "* An example of the binomial distribution is rolling a die 10 times and counting the number of times it comes up with a 6. Each roll of the die is a Bernoulli trial with probability of success 1/6 (the probability of getting a 6), and the number of 6's obtained in 10 rolls follows a binomial distribution with parameters n=10 and p=1/6.\n",
    "\n",
    "* In summary, the Bernoulli distribution models a single binary outcome, while the binomial distribution models the number of successes in a fixed number of independent Bernoulli trials. The Bernoulli distribution can be thought of as a special case of the binomial distribution with n=1.\n",
    "\n"
   ]
  },
  {
   "cell_type": "markdown",
   "id": "ff46a4e2-34b4-48c4-87a9-c4b99dc22977",
   "metadata": {},
   "source": [
    "# Q6. Consider a dataset with a mean of 50 and a standard deviation of 10. If we assume that the dataset is normally distributed, what is the probability that a randomly selected observation will be greater than 60? Use the appropriate formula and show your calculations.\n",
    "ANS\n",
    "Given: Mean (μ) = 50, Standard deviation (σ) = 10, and we want to find the probability of a randomly selected observation being greater than 60.\n",
    "\n",
    "To solve this problem, we need to standardize the value of 60 using the standard normal distribution formula:\n",
    "\n",
    "$Z = (X - μ) / σ$\n",
    "\n",
    "where X is the value of interest, μ is the mean, σ is the standard deviation, and Z is the corresponding standard score (also known as a Z-score).\n",
    "\n",
    "Substituting the values, we get:\n",
    "\n",
    "$Z = (60 - 50) / 10 = 1$\n",
    "\n",
    "Now, we can use a standard normal distribution table or calculator to find the probability that a Z-score is greater than 1. In a standard normal distribution table, the area to the right of Z = 1 is 0.1587.\n",
    "\n",
    "Therefore, the probability that a randomly selected observation from this dataset will be greater than 60 is 0.1587 or approximately 15.87%.\n",
    "\n",
    "Alternatively, we could use the cumulative distribution function (CDF) of the standard normal distribution to find the probability:\n",
    "\n",
    "$P(Z > 1) = 1 - P(Z ≤ 1)$\n",
    "\n",
    "From the standard normal distribution table, we know that P(Z ≤ 1) = 0.8413.\n",
    "\n",
    "Therefore,\n",
    "\n",
    "$P(Z > 1) = 1 - P(Z ≤ 1)$ = $1 - 0.8413 = 0.1587$\n",
    "\n",
    "which is the same result we obtained earlier.\n",
    "\n",
    "#### Below the calculation done using python"
   ]
  },
  {
   "cell_type": "code",
   "execution_count": 1,
   "id": "2cde573c-0664-499e-9c4c-38882ba532ed",
   "metadata": {},
   "outputs": [
    {
     "name": "stdout",
     "output_type": "stream",
     "text": [
      "The probability of a randomly selected observation being greater than 60 is 0.1587\n"
     ]
    }
   ],
   "source": [
    "from scipy.stats import norm\n",
    "\n",
    "# Set the mean and standard deviation\n",
    "mu = 50\n",
    "sigma = 10\n",
    "\n",
    "# Find the Z-score for X = 60\n",
    "x = 60\n",
    "z = (x - mu) / sigma\n",
    "\n",
    "# Calculate the probability using the cumulative distribution function (CDF)\n",
    "p = 1 - norm.cdf(z)\n",
    "\n",
    "print(f\"The probability of a randomly selected observation being greater than 60 is {p:.4f}\")"
   ]
  },
  {
   "cell_type": "markdown",
   "id": "d44743e2-3257-445f-aa30-63d9583b0a84",
   "metadata": {},
   "source": [
    "# Q7: Explain uniform Distribution with an example.\n",
    "ANS\n",
    "Uniform distribution is a continuous probability distribution in which all values within a given interval have an equal probability of occurring. In other words, every value within the interval is equally likely to be observed.\n",
    "\n",
    "An example of a uniform distribution is rolling a fair six-sided die. Each of the numbers from 1 to 6 has an equal probability of occurring, which is 1/6. Another example is choosing a random number between 0 and 1, where each value between 0 and 1 has an equal probability of being selected.\n",
    "\n",
    "The probability density function (PDF) of a uniform distribution is given by:\n",
    "\n",
    "$f(x) = 1 / (b-a)$\n",
    "\n",
    "where a and b are the lower and upper limits of the interval.\n",
    "\n",
    "The cumulative distribution function (CDF) of a uniform distribution is given by:\n",
    "\n",
    "F(x)=1/(b-a) for a ≤ x ≤ b\n",
    "0 for x < a\n",
    "1 for x > b\n",
    "\n",
    "The mean of a uniform distribution is given by:\n",
    "µ=(a+b)/2\n",
    "\n",
    "and the variance is given by:\n",
    "\tσ^2=(b-a)^2/12"
   ]
  },
  {
   "cell_type": "markdown",
   "id": "2e0f7386-211f-411f-8b30-6d334ffae664",
   "metadata": {},
   "source": [
    "# Q8: What is the z score? State the importance of the z score.\n",
    "ANS\n",
    "* The z-score (also known as the standard score) is a measure of how many standard deviations a data point is from the mean of its distribution. It is calculated by subtracting the mean from the data point and dividing the result by the standard deviation:\n",
    "z=(x-µ)/σ\n",
    "* where x is the observed value, μ is the mean of the distribution, and σ is the standard deviation of the distribution.\n",
    "\n",
    "* The z-score is important because it allows us to compare values from different normal distributions on the same scale. By converting values to z-scores, we can easily determine how unusual or extreme a particular value is relative to the rest of the distribution. A positive z-score means that the value is above the mean, while a negative z-score means that the value is below the mean.\n",
    "\n",
    "* The z-score is also used to calculate probabilities for normal distributions. If we know the mean and standard deviation of a normal distribution, we can use the z-score formula to convert any value to a standard normal distribution, which has a mean of 0 and a standard deviation of 1. Then, we can use a standard normal distribution table or calculator to find the probability of observing a value at or below the z-score.\n",
    "\n",
    "* Overall, the z-score is a powerful statistical tool that allows us to standardize values, compare data from different distributions, and calculate probabilities for normal distributions."
   ]
  },
  {
   "cell_type": "markdown",
   "id": "73aca275-0227-4c68-9014-1b64c973f7df",
   "metadata": {},
   "source": [
    "# Q9: What is Central Limit Theorem? Statethe significance of the Central Limit Theorem.\n",
    "ANS\n",
    "* The Central Limit Theorem (CLT) is a fundamental concept in statistics that states that the sampling distribution of the means of a sufficiently large number of independent random samples drawn from any population with a finite mean and variance will be approximately normal, regardless of the shape of the population distribution.\n",
    "\n",
    "* In other words, if we repeatedly sample from a population and calculate the means of those samples, then the distribution of those sample means will be approximately normal, regardless of the shape of the original population distribution. The mean of the sample means will be equal to the population mean, and the standard deviation of the sample means (also known as the standard error) will be equal to the standard deviation of the population divided by the square root of the sample size.\n",
    "\n",
    "* The significance of the Central Limit Theorem is that it allows us to make inferences about the population mean using sample means, even when the population distribution is unknown or non-normal. This is because the sample mean distribution will be approximately normal, which allows us to use the properties of the normal distribution to calculate probabilities and construct confidence intervals.\n",
    "\n",
    "* The Central Limit Theorem has many practical applications in statistics and data analysis. For example, it is used in hypothesis testing, where we compare sample means to a hypothesized population mean, and in confidence interval estimation, where we use sample means to estimate the range of values that the population mean is likely to fall within. It is also used in survey research and quality control to assess the accuracy and precision of measurements.\n",
    "\n",
    "# Q10: State the assumptions of the Central Limit Theorem.\n",
    "ANS\n",
    "* The Central Limit Theorem (CLT) relies on several assumptions to hold true. These assumptions are:\n",
    "\n",
    "* Random sampling: The samples must be selected randomly from the population without any bias.\n",
    "\n",
    "* Independence: The observations within each sample must be independent of each other. This means that the value of one observation should not influence the value of any other observation in the sample.\n",
    "\n",
    "* Sample size: The sample size should be sufficiently large. While there is no hard and fast rule for what constitutes a \"sufficiently large\" sample size, a general rule of thumb is that the sample size should be at least 30.\n",
    "\n",
    "* Finite variance: The population variance (or standard deviation) must be finite. This assumption ensures that the sample means will have a well-defined distribution.\n",
    "\n",
    "* Identical distribution: The samples should be drawn from the same population, or from populations that have the same distribution. This ensures that the sample means will have a common mean and variance."
   ]
  },
  {
   "cell_type": "markdown",
   "id": "20ed6891-e325-4c24-b829-35674a24ce27",
   "metadata": {},
   "source": [
    "# Q1: What is Estimation Statistics? Explain point estimate and interval estimate\n",
    "ANS\n",
    "\n",
    "## Estimate:\n",
    "* It is an numerical value which is used to estimate an unknown paramter of population distribution. Normally in inferential stas we use sample paramteres to find out the Esitmate of population paramaeter\n",
    "\n",
    "\n",
    "## Point Estimate:\n",
    "* A single numerical value which is ultimate like std = 0.5 only\n",
    "\n",
    "## Interval Estimate:\n",
    "* It is a range of values where the population distribution's specific parameters will stand at any point."
   ]
  },
  {
   "cell_type": "markdown",
   "id": "fc060ffe-7216-474c-83da-a06ebc4a0aba",
   "metadata": {},
   "source": [
    "# Q2. Write a Python function to estimate the population mean using a sample mean and standard deviation\n",
    "ANS:"
   ]
  },
  {
   "cell_type": "code",
   "execution_count": 5,
   "id": "cb2df242-9357-4abe-8984-14e8f2251ac6",
   "metadata": {},
   "outputs": [
    {
     "data": {
      "text/plain": [
       "100.0"
      ]
     },
     "execution_count": 5,
     "metadata": {},
     "output_type": "execute_result"
    }
   ],
   "source": [
    "import markdown\n",
    "def estimate_population_mean(sample_mean, sample_stddev, sample_size):\n",
    "    \"\"\"Estimate the population mean using a sample mean and standard deviation\"\"\"\n",
    "    import math\n",
    "    \n",
    "    # Calculate the standard error of the mean\n",
    "    std_error_mean = sample_stddev / math.sqrt(sample_size)\n",
    "    \n",
    "    # Calculate the lower and upper bounds of the 95% confidence interval\n",
    "    lower_bound = sample_mean - 1.96 * std_error_mean\n",
    "    upper_bound = sample_mean + 1.96 * std_error_mean\n",
    "    \n",
    "    # Calculate the estimated population mean\n",
    "    pop_mean = (lower_bound + upper_bound) / 2\n",
    "    \n",
    "    return pop_mean\n",
    "estimate_population_mean(100, 45,1000)"
   ]
  },
  {
   "cell_type": "markdown",
   "id": "e0318384-1a11-4e48-bfa2-de30e6ff7276",
   "metadata": {},
   "source": [
    "# Q3: What is Hypothesis testing? Why is it used? State the importance of Hypothesis testing\n",
    "ANS:\n",
    "## Hypothesis testing\n",
    "* It is the mechanism to proof the new truth against the uniarsal claim\n",
    "* We need to define the null hypothesis as the universal claim (H0) and alternative hypothsis (H1) as new asuumed truth.\n",
    "* Then we need to conduct the expreriment to proof the H1 through stats technique like z test, t test, annova\n",
    "## It is used to :\n",
    "* Proof the new truth against the uniersal claim.\n",
    "* Industries use this in diffrent aspects like to proof the new medecine is better than the old med in the term of eficacy or the new product is more benifical compaired to the old product.\n",
    "## Importance:\n",
    "* To proceed with any comaparison test we need to get an standard protocol which we can claim H0 and then we can assumed our new fact against testing the standard proctocol.\n",
    "\n",
    "* Without testing H1 to H0 the base of the test will be meaningless."
   ]
  },
  {
   "cell_type": "markdown",
   "id": "21d139e4-bce7-40b2-a610-e518c8af94cc",
   "metadata": {},
   "source": [
    "# Q4. Create a hypothesis that states whether the average weight of male college students is greater than the average weight of female college students.\n",
    "ANS:\n",
    "### H0 : Average weight of male students is > Feamle student's average weight\n",
    "### H1 : Average weight of male students is <= Feamle student's average weight"
   ]
  },
  {
   "cell_type": "markdown",
   "id": "69b50dec-69ab-499f-92dc-13c3781620ba",
   "metadata": {},
   "source": [
    "# Q5. Write a Python script to conduct a hypothesis test on the difference between two population means, given a sample from each population\n",
    "ANS"
   ]
  },
  {
   "cell_type": "code",
   "execution_count": 10,
   "id": "4e9f4b82-a184-41f5-baa2-28b474acbe3d",
   "metadata": {},
   "outputs": [
    {
     "name": "stdout",
     "output_type": "stream",
     "text": [
      "Sample 1 Mean: 3.0\n",
      "Sample 2 Mean: 5.0\n",
      "Sample 1 Standard Deviation: 1.5811388300841898\n",
      "Sample 2 Standard Deviation: 1.5811388300841898\n",
      "Degrees of Freedom: 8\n",
      "T-Statistic: -2.0\n",
      "P-Value: 0.08051623795726257\n"
     ]
    }
   ],
   "source": [
    "import numpy as np\n",
    "from scipy.stats import ttest_ind, zscore\n",
    "\n",
    "# Sample data from population 1\n",
    "pop1 = np.array([1, 2, 3, 4, 5])\n",
    "\n",
    "# Sample data from population 2\n",
    "pop2 = np.array([3, 4, 5, 6, 7])\n",
    "\n",
    "# Calculate the sample means\n",
    "mean1 = np.mean(pop1)\n",
    "mean2 = np.mean(pop2)\n",
    "\n",
    "# Calculate the sample standard deviations\n",
    "std1 = np.std(pop1, ddof=1)\n",
    "std2 = np.std(pop2, ddof=1)\n",
    "\n",
    "# Calculate the degrees of freedom\n",
    "dof = len(pop1) + len(pop2) - 2\n",
    "\n",
    "# Calculate the t-statistic and p-value\n",
    "t_stat, p_val = ttest_ind(pop1, pop2)\n",
    "\n",
    "# Print the results\n",
    "print(\"Sample 1 Mean:\", mean1)\n",
    "print(\"Sample 2 Mean:\", mean2)\n",
    "print(\"Sample 1 Standard Deviation:\", std1)\n",
    "print(\"Sample 2 Standard Deviation:\", std2)\n",
    "print(\"Degrees of Freedom:\", dof)\n",
    "print(\"T-Statistic:\", t_stat)\n",
    "print(\"P-Value:\", p_val)"
   ]
  },
  {
   "cell_type": "markdown",
   "id": "59cc0129-db68-4cfd-b347-e99a1e154776",
   "metadata": {},
   "source": [
    "# Q6: What is a null and alternative hypothesis? Give some examples.\n",
    "ANS\n",
    "In statistics, a null hypothesis is a statement that suggests there is no significant difference or relationship between two variables, while an alternative hypothesis is a statement that suggests otherwise. The null hypothesis is usually denoted as H0, while the alternative hypothesis is denoted as Ha.\n",
    "\n",
    "Here are some examples of null and alternative hypotheses:\n",
    "\n",
    "Null Hypothesis: The average height of men and women is the same. Alternative Hypothesis: The average height of men and women is different.\n",
    "\n",
    "Null Hypothesis: A new drug does not have any effect on patients' blood pressure. Alternative Hypothesis: A new drug has an effect on patients' blood pressure.\n",
    "\n",
    "Null Hypothesis: There is no relationship between age and income. Alternative Hypothesis: There is a relationship between age and income.\n",
    "\n",
    "Null Hypothesis: The mean scores of two groups on a test are equal. Alternative Hypothesis: The mean scores of two groups on a test are different.\n",
    "\n",
    "Null Hypothesis: A new advertising campaign has no effect on sales. Alternative Hypothesis: A new advertising campaign has an effect on sales.\n",
    "\n",
    "The null hypothesis is usually tested using statistical tests, such as t-tests, ANOVA, and regression analysis. The decision to reject or accept the null hypothesis is based on the level of significance or p-value obtained from the statistical test."
   ]
  },
  {
   "cell_type": "markdown",
   "id": "87ff71f5-dadc-4a6f-adea-c909e6636ead",
   "metadata": {},
   "source": [
    "# Q7: Write down the steps involved in hypothesis testing\n",
    "ANS\n",
    "* Hypothesis testing is a process used in statistics to determine the validity of a hypothesis or claim. The following are the steps involved in hypothesis testing:\n",
    "\n",
    "* State the null hypothesis and alternative hypothesis: The first step in hypothesis testing is to clearly state the null hypothesis and alternative hypothesis. The null hypothesis is the statement that we want to test, while the alternative hypothesis is the statement that we accept if we reject the null hypothesis.\n",
    "\n",
    "* Set the significance level: The significance level (also known as alpha) is the probability of rejecting the null hypothesis when it is true. It is typically set at 0.05 or 0.01.\n",
    "\n",
    "* Determine the appropriate test statistic: The appropriate test statistic depends on the type of data being analyzed and the research question being asked.\n",
    "\n",
    "* Calculate the test statistic: Once the appropriate test statistic has been determined, calculate the test statistic using the data collected.\n",
    "\n",
    "* Determine the p-value: The p-value is the probability of obtaining a test statistic as extreme or more extreme than the observed test statistic under the null hypothesis.\n",
    "\n",
    "* Make a decision: If the p-value is less than the significance level, reject the null hypothesis. If the p-value is greater than the significance level, fail to reject the null hypothesis.\n",
    "\n",
    "* Interpret the results: If the null hypothesis is rejected, interpret the results in light of the research question and alternative hypothesis. If the null hypothesis is not rejected, interpret the results in light of the limitations of the study and the research question.\n",
    "\n",
    "* Draw conclusions: Based on the results of the hypothesis test, draw conclusions about the research question and hypothesis being tested.\n",
    "\n",
    "* It is important to note that hypothesis testing is just one tool used in statistical analysis, and that conclusions should be drawn based on a full understanding of the limitations and assumptions of the statistical methods used."
   ]
  },
  {
   "cell_type": "markdown",
   "id": "f0f06e5e-a350-4cd6-992a-90fef7c6f3ad",
   "metadata": {},
   "source": [
    "# Q8. Define p-value and explain its significance in hypothesis testing\n",
    "ANS\n",
    "* The p-value is a statistical measure used to determine the level of significance of an observed result in hypothesis testing. It represents the probability of obtaining a test statistic as extreme or more extreme than the observed test statistic, assuming that the null hypothesis is true.\n",
    "\n",
    "* In other words, the p-value represents the likelihood of observing the result, or a more extreme result, under the assumption that there is no true effect or difference between the two groups being compared. If the p-value is small, it suggests that the observed result is unlikely to occur by chance alone, and therefore provides evidence against the null hypothesis.\n",
    "\n",
    "* In hypothesis testing, the p-value is used to make a decision about whether to reject or fail to reject the null hypothesis. If the p-value is smaller than the pre-determined significance level (usually set at 0.05 or 0.01), the null hypothesis is rejected in favor of the alternative hypothesis, indicating that the observed result is statistically significant. On the other hand, if the p-value is greater than the significance level, the null hypothesis is not rejected, indicating that the observed result is not statistically significant.\n",
    "\n",
    "* The p-value is important in hypothesis testing because it provides a way to assess the strength of evidence against the null hypothesis. A smaller p-value indicates stronger evidence against the null hypothesis and suggests that the observed result is less likely to be due to chance. It is important to note that the p-value does not provide direct evidence in favor of the alternative hypothesis, but rather provides evidence against the null hypothesis."
   ]
  },
  {
   "cell_type": "markdown",
   "id": "dba112eb-fa7c-4def-a0dd-4d86394e93ae",
   "metadata": {},
   "source": [
    "# Q9. Generate a Student's t-distribution plot using Python's matplotlib library, with the degrees of freedom parameter set to 10"
   ]
  },
  {
   "cell_type": "code",
   "execution_count": 13,
   "id": "af7f6224-cff7-40fd-8345-460ae2cf197c",
   "metadata": {},
   "outputs": [
    {
     "data": {
      "image/png": "[encoded data removed]",
      "text/plain": [
       "<Figure size 640x480 with 1 Axes>"
      ]
     },
     "metadata": {},
     "output_type": "display_data"
    }
   ],
   "source": [
    "import matplotlib.pyplot as plt\n",
    "import numpy as np\n",
    "from scipy.stats import t\n",
    "\n",
    "df = 10 # degrees of freedom\n",
    "\n",
    "x = np.linspace(-5, 5, 1000)\n",
    "y = t.pdf(x, df)\n",
    "\n",
    "plt.plot(x, y, label='t-distribution (df=10)')\n",
    "plt.legend()\n",
    "plt.show()"
   ]
  },
  {
   "cell_type": "markdown",
   "id": "9fd02eb9-7cdc-4bf1-8c2d-88a29449ef90",
   "metadata": {},
   "source": [
    "# Q10. Write a Python program to calculate the two-sample t-test for independent samples, given two random samples of equal size and a null hypothesis that the population means are equal.\n",
    "ANS\n"
   ]
  },
  {
   "cell_type": "code",
   "execution_count": 14,
   "id": "217ae8b9-90a5-4ea7-a668-6878c602abd2",
   "metadata": {},
   "outputs": [
    {
     "name": "stdout",
     "output_type": "stream",
     "text": [
      "Null hypothesis: The population means of the two samples are equal.\n",
      "Sample 1: [ 3  5  6  7  9 11]\n",
      "Sample 2: [ 2  4  6  8 10 12]\n",
      "t-statistic: -0.09\n",
      "p-value: 0.93\n"
     ]
    }
   ],
   "source": [
    "import numpy as np\n",
    "from scipy.stats import ttest_ind\n",
    "\n",
    "# Two random samples of equal size\n",
    "sample1 = np.array([3, 5, 6, 7, 9, 11])\n",
    "sample2 = np.array([2, 4, 6, 8, 10, 12])\n",
    "\n",
    "# Null hypothesis: population means are equal\n",
    "null_hypothesis = \"The population means of the two samples are equal.\"\n",
    "\n",
    "# Calculate the t-statistic and p-value\n",
    "t_statistic, p_value = ttest_ind(sample1, sample2)\n",
    "\n",
    "# Print the results\n",
    "print(\"Null hypothesis: {}\".format(null_hypothesis))\n",
    "print(\"Sample 1: {}\".format(sample1))\n",
    "print(\"Sample 2: {}\".format(sample2))\n",
    "print(\"t-statistic: {:.2f}\".format(t_statistic))\n",
    "print(\"p-value: {:.2f}\".format(p_value))"
   ]
  },
  {
   "cell_type": "markdown",
   "id": "c9155480-c655-41f9-8a4e-0a0144fca51b",
   "metadata": {},
   "source": [
    "# Q11: What is Student’s t distribution? When to use the t-Distribution.\n",
    "ANS"
   ]
  },
  {
   "cell_type": "markdown",
   "id": "d41fee74-ef28-4f28-be03-ef51c6b7fed2",
   "metadata": {},
   "source": [
    "The Student's t-distribution is a probability distribution that is used in statistical inference for hypothesis testing and constructing confidence intervals when the sample size is small or when the population standard deviation is unknown.\n",
    "\n",
    "The t-distribution is similar in shape to the standard normal distribution (bell-shaped and symmetric), but it has heavier tails. The shape of the t-distribution depends on the degrees of freedom, which is determined by the sample size. As the sample size increases, the t-distribution approaches the standard normal distribution.\n",
    "\n",
    "The t-distribution is used in situations where the population standard deviation is unknown and needs to be estimated from the sample. When the sample size is small (typically less than 30), using the t-distribution is more appropriate than assuming a normal distribution. This is because with a small sample size, there is more uncertainty in estimating the population parameters, and the t-distribution accounts for this additional uncertainty.\n",
    "\n",
    "Some common use cases for the t-distribution include:\n",
    "\n",
    "* Confidence intervals: When estimating a population parameter (such as the mean) based on a sample, the t-distribution is used to construct confidence intervals. These intervals provide a range of values within which the population parameter is likely to fall.\n",
    "\n",
    "* Hypothesis testing: The t-distribution is used to test hypotheses about population parameters. For example, it can be used to compare means between two groups or test whether a sample mean differs significantly from a hypothesized value.\n",
    "\n",
    "* Small sample sizes: When dealing with small sample sizes, the t-distribution is preferred over the standard normal distribution because it provides more accurate inference.\n",
    "\n",
    "Overall, the t-distribution is a valuable tool in statistical analysis when the sample size is small and the population standard deviation is unknown. It allows for more accurate inference by accounting for the additional uncertainty introduced by these factors.\n"
   ]
  },
  {
   "cell_type": "markdown",
   "id": "2a1087d5-a66b-458d-b459-40beb61e23c5",
   "metadata": {},
   "source": [
    "# Q12: What is t-statistic? State the formula for t-statistic.\n",
    "ANS\n",
    "* Student's t-distribution, also known as the t-distribution, is a probability distribution that arises when estimating the mean of a normally distributed population with an unknown variance. It is used to make inferences about the population mean based on a sample of observations.\n",
    "\n",
    "* The t-distribution has a bell-shaped curve, like the normal distribution, but with heavier tails. This means that it has more probability in the tails than the normal distribution. The shape of the t-distribution depends on a parameter called degrees of freedom (df), which is determined by the sample size.\n",
    "\n",
    "* The t-distribution is used in hypothesis testing and confidence interval estimation when the population variance is unknown and the sample size is small. Specifically, when the sample size is less than 30 or the population variance is unknown, the t-distribution is used instead of the normal distribution to calculate the probability of obtaining a given sample mean. In these situations, the t-distribution provides a better approximation of the true sampling distribution of the mean.\n",
    "\n",
    "* The t-distribution is also used in situations where the data are approximately normal, but the sample size is large. In this case, the t-distribution can be used as an approximation of the normal distribution.\n",
    "\n",
    "* In summary, the t-distribution is a probability distribution that is used to make inferences about the population mean based on a sample of observations when the population variance is unknown and the sample size is small. It provides a better approximation of the true sampling distribution of the mean compared to the normal distribution in these situations.*"
   ]
  },
  {
   "cell_type": "markdown",
   "id": "0a32a738-90d1-4027-b750-1f372e2f7a37",
   "metadata": {},
   "source": [
    "# Q13. A coffee shop owner wants to estimate the average daily revenue for their shop. They take a random sample of 50 days and find the sample mean revenue to be `500 with a standard deviation of $50. Estimate the population mean revenue with a 95% confidence interval."
   ]
  },
  {
   "cell_type": "code",
   "execution_count": 15,
   "id": "22386e59-67ff-4ecb-910f-e70e266c1d86",
   "metadata": {},
   "outputs": [
    {
     "name": "stdout",
     "output_type": "stream",
     "text": [
      "95% confidence interval: (485.79, 514.21)\n"
     ]
    }
   ],
   "source": [
    "import scipy.stats as stats\n",
    "import math\n",
    "\n",
    "sample_mean = 500\n",
    "sample_std = 50\n",
    "sample_size = 50\n",
    "confidence_level = 0.95\n",
    "\n",
    "# Calculate the t-value for a 95% confidence interval with 49 degrees of freedom\n",
    "t_value = stats.t.ppf((1 + confidence_level) / 2, sample_size - 1)\n",
    "\n",
    "# Calculate the standard error\n",
    "standard_error = sample_std / math.sqrt(sample_size)\n",
    "\n",
    "# Calculate the margin of error\n",
    "margin_of_error = t_value * standard_error\n",
    "\n",
    "# Calculate the confidence interval\n",
    "lower_bound = sample_mean - margin_of_error\n",
    "upper_bound = sample_mean + margin_of_error\n",
    "\n",
    "print(f\"95% confidence interval: ({lower_bound:.2f}, {upper_bound:.2f})\")"
   ]
  },
  {
   "cell_type": "markdown",
   "id": "b5b57b24-2cf7-4575-9c2a-fd10f8253045",
   "metadata": {},
   "source": [
    "# Q14. A researcher hypothesizes that a new drug will decrease blood pressure by 10 mmHg. They conduct a clinical trial with 100 patients and find that the sample mean decrease in blood pressure is 8 mmHg with a standard deviation of 3 mmHg. Test the hypothesis with a significance level of 0.05."
   ]
  },
  {
   "cell_type": "code",
   "execution_count": 16,
   "id": "2b328d22-3cf3-4246-be7e-a1782adb08dc",
   "metadata": {},
   "outputs": [
    {
     "name": "stdout",
     "output_type": "stream",
     "text": [
      "Reject the null hypothesis.\n",
      "t-value: 60.00\n",
      "p-value: 0.00000\n"
     ]
    }
   ],
   "source": [
    "import scipy.stats as stats\n",
    "import math\n",
    "\n",
    "hypothesized_mean = -10 # as it is reducing so took negative \n",
    "sample_mean = 8\n",
    "sample_std = 3\n",
    "sample_size = 100\n",
    "significance_level = 0.05\n",
    "\n",
    "# Calculate the t-value and degrees of freedom\n",
    "t_value = (sample_mean - hypothesized_mean) / (sample_std / math.sqrt(sample_size))\n",
    "df = sample_size - 1\n",
    "\n",
    "# Calculate the p-value\n",
    "p_value = 2 * stats.t.cdf(-abs(t_value), df)\n",
    "\n",
    "# Compare the p-value with the significance level\n",
    "if p_value < significance_level:\n",
    "    print(\"Reject the null hypothesis.\")\n",
    "else:\n",
    "    print(\"Fail to reject the null hypothesis.\")\n",
    "\n",
    "print(f\"t-value: {t_value:.2f}\")\n",
    "print(f\"p-value: {p_value:.5f}\")"
   ]
  },
  {
   "cell_type": "markdown",
   "id": "b8774380-d221-42c1-8689-df5c5d5eab91",
   "metadata": {},
   "source": [
    "# Q15. An electronics company produces a certain type of product with a mean weight of 5 pounds and a standard deviation of 0.5 pounds. A random sample of 25 products is taken, and the sample mean weight is found to be 4.8 pounds. Test the hypothesis that the true mean weight of the products is less than 5 pounds with a significance level of 0.01."
   ]
  },
  {
   "cell_type": "code",
   "execution_count": 17,
   "id": "94eeaab7-8aa9-42db-8e95-2ec542b3dad2",
   "metadata": {},
   "outputs": [
    {
     "name": "stdout",
     "output_type": "stream",
     "text": [
      "Fail to reject null hypothesis: true mean weight is not less than 5 pounds.\n"
     ]
    }
   ],
   "source": [
    "import numpy as np\n",
    "from scipy.stats import t\n",
    "\n",
    "# sample data\n",
    "n = 25\n",
    "x_bar = 4.8\n",
    "s = 0.5\n",
    "mu = 5\n",
    "\n",
    "# calculate the t-value\n",
    "t_value = (x_bar - mu) / (s / np.sqrt(n))\n",
    "\n",
    "# calculate the critical t-value\n",
    "alpha = 0.01\n",
    "df = n - 1\n",
    "t_crit = t.ppf(alpha, df)\n",
    "\n",
    "# compare the t-value with the critical t-value\n",
    "if t_value < t_crit:\n",
    "    print(\"Reject null hypothesis: true mean weight is less than 5 pounds.\")\n",
    "else:\n",
    "    print(\"Fail to reject null hypothesis: true mean weight is not less than 5 pounds.\")"
   ]
  },
  {
   "cell_type": "markdown",
   "id": "f6332ede-064a-4504-a6e8-223edfe62011",
   "metadata": {},
   "source": [
    "# Q16. Two groups of students are given different study materials to prepare for a test. The first group (n1 = 30) has a mean score of 80 with a standard deviation of 10, and the second group (n2 = 40) has a mean score of 75 with a standard deviation of 8. Test the hypothesis that the population means for the two groups are equal with a significance level of 0.01."
   ]
  },
  {
   "cell_type": "code",
   "execution_count": 19,
   "id": "bf2fd3e1-e277-4552-ad30-f741452e8116",
   "metadata": {},
   "outputs": [
    {
     "name": "stdout",
     "output_type": "stream",
     "text": [
      "Reject null hypothesis: the population means for the two groups are not equal.\n"
     ]
    }
   ],
   "source": [
    "import numpy as np\n",
    "from scipy.stats import t\n",
    "\n",
    "# sample data\n",
    "n1 = 30\n",
    "x1_bar = 80\n",
    "s1 = 10\n",
    "\n",
    "n2 = 40\n",
    "x2_bar = 75\n",
    "s2 = 8\n",
    "\n",
    "# calculate the pooled standard deviation\n",
    "s_p = np.sqrt(((n1-1)*s1**2 + (n2-1)*s2**2) / (n1+n2-2))\n",
    "\n",
    "# calculate the t-value\n",
    "t_value = (x1_bar - x2_bar) / (s_p * np.sqrt(1/n1 + 1/n2))\n",
    "\n",
    "# calculate the critical t-value\n",
    "alpha = 0.01\n",
    "df = n1 + n2 - 2\n",
    "t_crit = t.ppf(alpha/2, df)\n",
    "# compare the absolute t-value with the critical t-value\n",
    "if abs(t_value) > t_crit:\n",
    "    print(\"Reject null hypothesis: the population means for the two groups are not equal.\")\n",
    "else:\n",
    "    print(\"Fail to reject null hypothesis: the population means for the two groups are equal\")"
   ]
  },
  {
   "cell_type": "markdown",
   "id": "b526b10c-a857-403c-b5ee-af9881252c8c",
   "metadata": {},
   "source": [
    "# Q17. A marketing company wants to estimate the average number of ads watched by viewers during a TV program. They take a random sample of 50 viewers and find that the sample mean is 4 with a standard deviation of 1.5. Estimate the population mean with a 99% confidence interval"
   ]
  },
  {
   "cell_type": "code",
   "execution_count": 20,
   "id": "bde9e832-4dae-49d8-b6a8-416427cbd58c",
   "metadata": {},
   "outputs": [
    {
     "name": "stdout",
     "output_type": "stream",
     "text": [
      "The 99% confidence interval for the population mean is: (3.4314963358572577, 4.568503664142742)\n"
     ]
    }
   ],
   "source": [
    "import numpy as np\n",
    "from scipy.stats import t\n",
    "\n",
    "# sample data\n",
    "n = 50\n",
    "x_bar = 4\n",
    "s = 1.5\n",
    "\n",
    "# calculate the t-value\n",
    "alpha = 0.01 # significance level of 0.01 corresponds to 99% confidence level\n",
    "df = n - 1\n",
    "t_value = t.ppf(1 - alpha/2, df)\n",
    "\n",
    "# calculate the confidence interval\n",
    "CI = (x_bar - t_value * s/np.sqrt(n), x_bar + t_value * s/np.sqrt(n))\n",
    "\n",
    "print(\"The 99% confidence interval for the population mean is:\", CI)"
   ]
  },
  {
   "cell_type": "code",
   "execution_count": null,
   "id": "78da802f-d9d0-4892-84e1-373bcd506c9f",
   "metadata": {},
   "outputs": [],
   "source": []
  }
 ],
 "metadata": {
  "kernelspec": {
   "display_name": "Python 3 (ipykernel)",
   "language": "python",
   "name": "python3"
  },
  "language_info": {
   "codemirror_mode": {
    "name": "ipython",
    "version": 3
   },
   "file_extension": ".py",
   "mimetype": "text/x-python",
   "name": "python",
   "nbconvert_exporter": "python",
   "pygments_lexer": "ipython3",
   "version": "3.10.8"
  }
 },
 "nbformat": 4,
 "nbformat_minor": 5
}
