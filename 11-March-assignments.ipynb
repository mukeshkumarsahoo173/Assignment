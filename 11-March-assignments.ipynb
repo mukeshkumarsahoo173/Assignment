{
 "cells": [
  {
   "cell_type": "markdown",
   "id": "cbebcf2d-2dbd-4dc8-96b8-8566c302d15b",
   "metadata": {},
   "source": [
    "# Q1: What is the difference between a t-test and a z-test? Provide an example scenario where you would use each type of test\n",
    "ANS"
   ]
  },
  {
   "cell_type": "markdown",
   "id": "a95dcbf0-4f58-4702-9dbb-21058693a544",
   "metadata": {},
   "source": [
    "* A t-test and a z-test are both statistical tests used to determine whether a sample mean is significantly different from a hypothesized population mean. However, they differ in their assumptions about the underlying population distribution and the sample size\n",
    "### z-test:\n",
    "* When we have population std information is present and sample size more than 30 we can perform z-test with help of z-table\n",
    "* Degree of freedom is not required.\n",
    "### Example:\n",
    "Suppose you have a large sample size (e.g., n > 30) and you want to test whether the mean weight of a certain type of fruit is significantly different from a hypothesized population mean. In this case, you could use a z-test because the sample size is large and the population distribution is assumed to be normal.\n",
    "\n",
    "### t-test\n",
    "* When sample size is less than 30\n",
    "* When population std is not availible we need prform t- test\n",
    "* dof is needed to calculate\n",
    "### Example:\n",
    " Suppose you have a small sample size (e.g., n < 30) and you want to test whether a new drug has a significantly different effect on blood pressure compared to a placebo. In this case, you could use a t-test because the sample size is small and the population distribution is unknown."
   ]
  },
  {
   "cell_type": "markdown",
   "id": "efb6f262-e2c1-4d9d-8ea6-1d8894ed8643",
   "metadata": {},
   "source": [
    "# Q2: Differentiate between one-tailed and two-tailed tests\n",
    "ANS\n"
   ]
  },
  {
   "cell_type": "markdown",
   "id": "456e57ab-719f-4f06-b4da-47c8c086b7e3",
   "metadata": {},
   "source": [
    "### A one-tailed test:\n",
    "* A one-tailed test is used when the alternative hypothesis specifies the direction of the difference or relationship between the population parameter and the null hypothesis. It is also known as a directional test. For example, suppose we want to test whether a new drug has a higher efficacy rate than the current standard treatment. The one-tailed alternative hypothesis would be that the efficacy rate of the new drug is greater than the efficacy rate of the standard treatment. In this case, we would use a one-tailed test and calculate the p-value for the upper tail of the distribution.\n",
    "### A two-tailed test :\n",
    "* A two-tailed test is used when the alternative hypothesis does not specify the direction of the difference or relationship between the population parameter and the null hypothesis. It is also known as a non-directional test. For example, suppose we want to test whether there is a significant difference in weight between two groups of people. The two-tailed alternative hypothesis would be that the weight of the two groups is different. In this case, we would use a two-tailed test and calculate the p-value for both tails of the distribution."
   ]
  },
  {
   "cell_type": "markdown",
   "id": "55487b14-a5c6-4312-a4df-9fa98ce81426",
   "metadata": {},
   "source": [
    "# Q3: Explain the concept of Type 1 and Type 2 errors in hypothesis testing. Provide an example scenario for each type of error.\n",
    "ANS\n",
    "### Type 1 error\n",
    "* Type 1 error occurs when we reject the null hypothesis when it is actually true. This means that we conclude that there is a significant effect or difference when there isn't one in reality. The probability of making a Type 1 error is denoted by the Greek letter alpha (α), and it is typically set to a small value (e.g., 0.05 or 0.01) as the maximum allowable probability of making such an error.\n",
    "### Ex:\n",
    "* An example scenario for a Type 1 error is when a medical researcher concludes that a new drug is effective in treating a disease when in fact it is not. This could lead to the drug being prescribed to patients unnecessarily, resulting in potential harm and increased healthcare costs.\n",
    "\n",
    "### Type 2 error\n",
    "* Type 2 error occurs when we fail to reject the null hypothesis when it is actually false. This means that we fail to detect a significant effect or difference when there is one in reality. The probability of making a Type 2 error is denoted by the Greek letter beta (β), and it is affected by factors such as sample size, effect size, and significance level.\n",
    "### Ex:\n",
    "* An example scenario for a Type 2 error is when a medical researcher fails to detect a significant difference in blood pressure between a new drug and a placebo, when in fact there is a difference. This could lead to the drug not being approved or prescribed to patients who could benefit from it, resulting in missed opportunities for better treatment."
   ]
  },
  {
   "cell_type": "markdown",
   "id": "fe40a672-f24d-4fbc-922a-5f2062dd3417",
   "metadata": {},
   "source": [
    "# Q4: Explain Bayes's theorem with an example.\n",
    "ANS:\n",
    "* It is an stats probability function explains the conditional probability\n",
    "* formula\n",
    "pr(A / B)= [ { pr( A ) * pr( B / A ) } /pr( B ) ]\n",
    "\n",
    "* where P(A|B) is the posterior probability of A given B, P(B|A) is the likelihood of B given A, P(A) is the prior probability of A, and P(B) is the prior probability of B.\n",
    "\n",
    "* Suppose a factory produces two types of widgets: Type A and Type B. Type A widgets make up 60% of the production and are of high quality 95% of the time, while Type B widgets make up the remaining 40% and are of high quality only 70% of the time. A widget is randomly selected from the production line and found to be of high quality. What is the probability that it is a Type A widget?\n",
    "\n",
    "* Let A denote the event that the selected widget is Type A, and B denote the event that the widget is of high quality. Then we want to calculate P(A|B), the probability that the widget is Type A given that it is of high quality.\n",
    "\n",
    "* We can use Bayes's theorem to compute this probability as follows:\n",
    "\n",
    "P(A|B) = P(B|A) * P(A) / P(B)\n",
    "\n",
    "* where P(B|A) = 0.95 is the likelihood of high quality given Type A, P(A) = 0.6 is the prior probability of Type A, and P(B) = 0.60.95 + 0.40.7 = 0.845 is the total probability of high quality.\n",
    "\n",
    "* Plugging in the values, we get:\n",
    "P(A|B) = 0.95 * 0.6 / 0.845 ≈ 0.67\n",
    "\n",
    "* So the probability that the selected widget is Type A given that it is of high quality is about 0.67 or 67%. This means that there is a higher probability that the widget is of Type A than Type B, even though Type A makes up only 60% of the production.\n",
    "\n",
    "* In this example, Bayes's theorem helped us update our prior belief about the probability of the widget being of Type A based on the new evidence of it being of high quality."
   ]
  },
  {
   "cell_type": "markdown",
   "id": "2398143c-ddf7-4243-8870-61d2e12fd9bf",
   "metadata": {},
   "source": [
    "# Q5: What is a confidence interval? How to calculate the confidence interval, explain with an example.\n",
    "ANS\n",
    "### CI:\n",
    "* The value which in which the AUC of acceptance zone present.\n",
    "* The range of std from mean where the values prrof the null hypothesis\n",
    "### Calculation:\n",
    "confidence interval = sample mean +/- (critical value) * (standard error or marigine of error)\n",
    "\n",
    "ME = x_bar +/- Z( alpha / 2 ) x std/ "
   ]
  },
  {
   "cell_type": "code",
   "execution_count": 2,
   "id": "c6baa743-ec87-4497-8fb8-3fb724ee4a8d",
   "metadata": {},
   "outputs": [
    {
     "name": "stdout",
     "output_type": "stream",
     "text": [
      "Sample mean: 10.05\n",
      "Sample standard deviation: 2.27\n",
      "Standard error of the mean: 0.23\n",
      "95% Confidence interval: (9.60, 10.50)\n"
     ]
    },
    {
     "name": "stderr",
     "output_type": "stream",
     "text": [
      "/tmp/ipykernel_99/3872827714.py:16: DeprecationWarning: Use of keyword argument `alpha` for method `interval` is deprecated. Use first positional argument or keyword argument `confidence` instead.\n",
      "  ci = stats.t.interval(alpha=0.95, df=len(sample)-1, loc=sample_mean, scale=sem)\n"
     ]
    }
   ],
   "source": [
    "import scipy.stats as stats\n",
    "import numpy as np\n",
    "\n",
    "# Generate a random sample of 100 observations from a normal distribution with mean 10 and standard deviation 2\n",
    "np.random.seed(123)\n",
    "sample = np.random.normal(loc=10, scale=2, size=100)\n",
    "\n",
    "# Calculate the sample mean and standard deviation\n",
    "sample_mean = np.mean(sample)\n",
    "sample_std = np.std(sample, ddof=1) # set ddof=1 to use Bessel's correction for sample standard deviation\n",
    "\n",
    "# Calculate the standard error of the mean\n",
    "sem = sample_std / np.sqrt(len(sample))\n",
    "\n",
    "# Calculate the 95% confidence interval using the t-distribution with n-1 degrees of freedom\n",
    "ci = stats.t.interval(alpha=0.95, df=len(sample)-1, loc=sample_mean, scale=sem)\n",
    "\n",
    "print(f\"Sample mean: {sample_mean:.2f}\")\n",
    "print(f\"Sample standard deviation: {sample_std:.2f}\")\n",
    "print(f\"Standard error of the mean: {sem:.2f}\")\n",
    "print(f\"95% Confidence interval: ({ci[0]:.2f}, {ci[1]:.2f})\")"
   ]
  },
  {
   "cell_type": "markdown",
   "id": "d4b2ef69-d253-46c5-b59c-b77d18919d7b",
   "metadata": {},
   "source": [
    "# Q6. Use Bayes' Theorem to calculate the probability of an event occurring given prior knowledge of the event's probability and new evidence. Provide a sample problem and solution.\n",
    "ANS\n",
    "* Suppose there is a certain medical test that is 95% accurate for detecting a disease when it is present, and 90% accurate for ruling out the disease when it is not present. The disease affects 1% of the population. If a person tests positive for the disease, what is the probability that they actually have the disease?"
   ]
  },
  {
   "cell_type": "code",
   "execution_count": 4,
   "id": "ed3f069a-3028-46ea-9635-c5cc859c04f2",
   "metadata": {},
   "outputs": [
    {
     "name": "stdout",
     "output_type": "stream",
     "text": [
      "The probability of having the disease given a positive test result is 0.0876\n"
     ]
    }
   ],
   "source": [
    "# Define the prior probability\n",
    "p_disease = 0.01\n",
    "\n",
    "# Define the sensitivity and specificity of the test\n",
    "sensitivity = 0.95\n",
    "specificity = 0.90\n",
    "\n",
    "# Define the probability of a positive test result given that the patient has the disease (true positive rate)\n",
    "p_pos_given_disease = sensitivity\n",
    "\n",
    "# Define the probability of a positive test result given that the patient does not have the disease (false positive rate)\n",
    "p_pos_given_no_disease = 1 - specificity\n",
    "\n",
    "# Use Bayes' Theorem to calculate the probability of having the disease given a positive test result\n",
    "p_pos = p_pos_given_disease * p_disease + p_pos_given_no_disease * (1 - p_disease)\n",
    "p_disease_given_pos = p_pos_given_disease * p_disease / p_pos\n",
    "\n",
    "# Print the result\n",
    "print(f\"The probability of having the disease given a positive test result is {p_disease_given_pos:.4f}\")"
   ]
  },
  {
   "cell_type": "markdown",
   "id": "ae5c6212-0644-47f0-9644-959649fd7a0d",
   "metadata": {},
   "source": [
    "# Q7. Calculate the 95% confidence interval for a sample of data with a mean of 50 and a standard deviation of 5. Interpret the results.\n",
    "ANS"
   ]
  },
  {
   "cell_type": "code",
   "execution_count": 5,
   "id": "43dbda00-5456-4f1e-9bdc-1649a1c38cf2",
   "metadata": {},
   "outputs": [
    {
     "name": "stdout",
     "output_type": "stream",
     "text": [
      "The 95% confidence interval is (49.01, 50.99)\n"
     ]
    }
   ],
   "source": [
    "import scipy.stats as stats\n",
    "\n",
    "# Define the sample mean and standard deviation\n",
    "sample_mean = 50\n",
    "sample_std = 5\n",
    "\n",
    "# Define the sample size\n",
    "n = 100\n",
    "\n",
    "# Calculate the standard error\n",
    "std_error = sample_std / (n ** 0.5)\n",
    "\n",
    "# Calculate the t-value for a 95% confidence interval with n-1 degrees of freedom\n",
    "t_value = stats.t.ppf(0.975, n-1)\n",
    "\n",
    "# Calculate the lower and upper bounds of the confidence interval\n",
    "lower_bound = sample_mean - t_value * std_error\n",
    "upper_bound = sample_mean + t_value * std_error\n",
    "\n",
    "# Print the results\n",
    "print(f\"The 95% confidence interval is ({lower_bound:.2f}, {upper_bound:.2f})\")"
   ]
  },
  {
   "cell_type": "markdown",
   "id": "dca3d76b-7dd9-491d-8268-7bd2a254ec80",
   "metadata": {},
   "source": [
    "# Q8. What is the margin of error in a confidence interval? How does sample size affect the margin of error? Provide an example of a scenario where a larger sample size would result in a smaller margin of error.\n",
    "ANS\n",
    "### the margin of error in a confidence interval\n",
    "* The margin of error in a confidence interval is the range of values above and below the point estimate that is likely to contain the true population parameter with a certain level of confidence. It is a measure of the precision or accuracy of the estimate.\n",
    "### How does sample size affect the margin of error?\n",
    "* The margin of error is affected by several factors, including the level of confidence, sample size, and population variability. As the sample size increases, the margin of error decreases, holding all other factors constant. This is because a larger sample size reduces the sampling error, which is the error that arises due to the random variation in the selection of the sample from the population.\n",
    "### larger sample size would result in a smaller margin of error.\n",
    "* For example, suppose a pollster wants to estimate the proportion of adults in a city who support a particular policy change with 95% confidence and a margin of error of 3%. If the sample size is 400, the margin of error would be around 3.0 percentage points. However, if the sample size is increased to 1600, the margin of error would decrease to around 1.5 percentage points, assuming all other factors remain constant. This means that the larger sample size provides a more precise estimate of the population parameter, and the interval around the point estimate is narrower.\n",
    "\n",
    "* In general, larger sample sizes result in smaller margins of error, which increase the precision and reliability of the estimates. However, increasing the sample size also increases the cost and complexity of the study, so researchers need to balance the desired level of precision with practical constraints."
   ]
  },
  {
   "cell_type": "markdown",
   "id": "7bc79019-ebf9-425b-873c-00f77735e60c",
   "metadata": {},
   "source": [
    "# Q9. Calculate the z-score for a data point with a value of 75, a population mean of 70, and a population standard deviation of 5. Interpret the results.\n",
    "ANS:"
   ]
  },
  {
   "cell_type": "code",
   "execution_count": 7,
   "id": "f6d6f666-1307-4a72-8310-9357b21c0350",
   "metadata": {},
   "outputs": [
    {
     "name": "stdout",
     "output_type": "stream",
     "text": [
      "The z-score for the data point is: 1.0\n"
     ]
    }
   ],
   "source": [
    "# Importing the required libraries\n",
    "from scipy import stats\n",
    "\n",
    "# Defining the values\n",
    "x = 75 # Data point value\n",
    "mu = 70 # Population mean\n",
    "sigma = 5 # Population standard deviation\n",
    "\n",
    "# Calculating the z-score\n",
    "z = (x - mu) / sigma\n",
    "\n",
    "# Printing the z-score\n",
    "print(\"The z-score for the data point is:\", z)"
   ]
  },
  {
   "cell_type": "markdown",
   "id": "84af6e37-51fe-475d-ba0c-6fc62590021e",
   "metadata": {},
   "source": [
    "# Q10. In a study of the effectiveness of a new weight loss drug, a sample of 50 participants lost an average of 6 pounds with a standard deviation of 2.5 pounds. Conduct a hypothesis test to determine if the drug is significantly effective at a 95% confidence level using a t-test.\n",
    "ANS\n",
    "* Null hypothesis: The weight loss drug is not significantly effective, and the true population mean weight loss is equal to or less than 0 pounds.\n",
    "H0: μ <= 0\n",
    "\n",
    "* Alternative hypothesis: The weight loss drug is significantly effective, and the true population mean weight loss is greater than 0 pounds.\n",
    "Ha: μ > 0\n",
    "\n",
    "* We will use a one-sample t-test since we have one sample mean and want to compare it to a population mean. The test statistic can be calculated as follows:\n",
    "\n",
    "* t = (x̄ - μ) / (s / sqrt(n))\n",
    "\n",
    "* where x̄ is the sample mean, μ is the population mean (in this case, μ = 0), s is the sample standard deviation, and n is the sample size.\n",
    "\n",
    " * Substituting the given values, we get:\n",
    "\n",
    "*  t = (6 - 0) / (2.5 / sqrt(50))\n",
    "\n",
    "* t = 12.0\n",
    "\n",
    "* The degrees of freedom for the t-test are n - 1 = 49 (since we have 50 participants in the sample).\n",
    "\n",
    "* Using a t-table or a t-distribution calculator with 49 degrees of freedom, we can find the critical t-value for a one-tailed test at a 95% confidence level. The critical t-value is approximately 1.677.\n",
    "\n",
    "* Since our calculated t-value of 12.0 is greater than the critical t-value of 1.677, we reject the null hypothesis and conclude that the weight loss drug is significantly effective at a 95% confidence level.\n",
    "\n",
    "* Therefore, we can conclude that the sample provides strong evidence that the weight loss drug is effective in reducing weight in patients.\n"
   ]
  },
  {
   "cell_type": "markdown",
   "id": "d1703f58-34a0-4a1e-9ac3-1e75164b8e40",
   "metadata": {},
   "source": [
    "# Q11. In a survey of 500 people, 65% reported being satisfied with their current job. Calculate the 95% confidence interval for the true proportion of people who are satisfied with their job.\n",
    "ANS\n",
    "To calculate the 95% confidence interval for the true proportion of people who are satisfied with their job, we can use the following formula:\n",
    "\n",
    "Confidence interval = sample proportion ± z-score * standard error\n",
    "\n",
    "where:\n",
    "\n",
    "sample proportion is the proportion of people in the sample who reported being satisfied with their job (p-hat): 65% or 0.65\n",
    "\n",
    "z-score is the critical value for the desired confidence level: for a 95% confidence level, the z-score is approximately 1.96\n",
    "\n",
    "standard error is the standard deviation of the sampling distribution of the sample proportion, which can be calculated as:\n",
    "\n",
    "standard error = sqrt((p-hat * (1 - p-hat)) / n)\n",
    "\n",
    "where n is the sample size.\n",
    "\n",
    "Substituting the given values, we get:\n",
    "\n",
    "standard error = sqrt((0.65 * (1 - 0.65)) / 500) = 0.025\n",
    "\n",
    "The 95% confidence interval can be calculated as follows:\n",
    "\n",
    "Confidence interval = 0.65 ± 1.96 * 0.025 Confidence interval = (0.601, 0.699)\n",
    "\n",
    "Therefore, we can say with 95% confidence that the true proportion of people who are satisfied with their job falls within the range of 60.1% to 69.9%."
   ]
  },
  {
   "cell_type": "code",
   "execution_count": null,
   "id": "212c2bca-9a15-46c0-b342-e564ff60ed9f",
   "metadata": {},
   "outputs": [],
   "source": []
  }
 ],
 "metadata": {
  "kernelspec": {
   "display_name": "Python 3 (ipykernel)",
   "language": "python",
   "name": "python3"
  },
  "language_info": {
   "codemirror_mode": {
    "name": "ipython",
    "version": 3
   },
   "file_extension": ".py",
   "mimetype": "text/x-python",
   "name": "python",
   "nbconvert_exporter": "python",
   "pygments_lexer": "ipython3",
   "version": "3.10.8"
  }
 },
 "nbformat": 4,
 "nbformat_minor": 5
}
