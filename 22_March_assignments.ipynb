{
 "cells": [
  {
   "cell_type": "markdown",
   "id": "163f492b-e763-46e0-8d3f-aab6fa79c9e4",
   "metadata": {},
   "source": [
    "# Q1. Pearson correlation coefficient is a measure of the linear relationship between two variables. Suppose you have collected data on the amount of time students spend studying for an exam and their final exam scores. Calculate the Pearson correlation coefficient between these two variables and interpret the result."
   ]
  },
  {
   "cell_type": "markdown",
   "id": "fef4b492-ae75-4b29-8c9a-e3d7f06b0344",
   "metadata": {},
   "source": [
    "To calculate the Pearson correlation coefficient between the amount of time students spend studying for an exam and their final exam scores, follow these steps:\n",
    "\n",
    "1. Collect the data: Gather the data on the amount of time each student spent studying for the exam and their corresponding final exam scores. Make sure you have pairs of values for each student.\n",
    "\n",
    "2. Calculate the means: Find the mean (average) of the time spent studying and the mean of the final exam scores.\n",
    "\n",
    "3. Calculate the deviations: For each student, subtract the mean of the time spent studying from their individual study time and do the same for the final exam scores. These differences are called deviations.\n",
    "\n",
    "4. Calculate the products: Multiply each pair of deviations. Multiply the deviation for study time with the deviation for exam scores for each student.\n",
    "\n",
    "5. Sum the products: Add up all the products calculated in the previous step.\n",
    "\n",
    "6. Calculate the standard deviations: Calculate the standard deviation for the study time and the standard deviation for the exam scores.\n",
    "\n",
    "7. Multiply the standard deviations: Multiply the standard deviation for study time with the standard deviation for exam scores.\n",
    "\n",
    "8. Divide the sum of the products by the product of the standard deviations: Divide the sum of the products (step 5) by the product of the standard deviations (step 7).\n",
    "\n",
    "The result of this calculation will be the Pearson correlation coefficient. It will range from -1 to 1, where -1 indicates a perfect negative linear relationship, 1 indicates a perfect positive linear relationship, and 0 indicates no linear relationship between the variables.\n",
    "\n",
    "Interpreting the Pearson correlation coefficient depends on its value:\n",
    "\n",
    "* If the coefficient is close to -1, it indicates a strong negative linear relationship. This means that as the amount of time spent studying increases, the final exam scores tend to decrease.\n",
    "\n",
    "* If the coefficient is close to 1, it indicates a strong positive linear relationship. This means that as the amount of time spent studying increases, the final exam scores tend to increase.\n",
    "\n",
    "* If the coefficient is close to 0, it indicates no significant linear relationship. In this case, the amount of time spent studying has no predictable effect on the final exam scores.\n",
    "\n",
    "Remember that the Pearson correlation coefficient measures only the strength and direction of the linear relationship between the variables. It does not provide information about causation or the presence of other types of relationships."
   ]
  },
  {
   "cell_type": "code",
   "execution_count": 1,
   "id": "9d0a0ec8-daf9-43b8-8ec5-cf6a3f2b5a7e",
   "metadata": {},
   "outputs": [
    {
     "name": "stdout",
     "output_type": "stream",
     "text": [
      "Pearson correlation coefficient: 0.9761870601839528\n"
     ]
    }
   ],
   "source": [
    "import scipy.stats as stats\n",
    "\n",
    "# Example data (time spent studying and exam scores)\n",
    "time_spent = [5, 10, 15, 20, 25]\n",
    "exam_scores = [60, 70, 85, 90, 95]\n",
    "\n",
    "# Calculate the Pearson correlation coefficient\n",
    "correlation_coefficient, p_value = stats.pearsonr(time_spent, exam_scores)\n",
    "\n",
    "print(\"Pearson correlation coefficient:\", correlation_coefficient)\n"
   ]
  },
  {
   "cell_type": "markdown",
   "id": "ce8d59c5-ed3a-462e-8a27-0067a499eef0",
   "metadata": {},
   "source": [
    "# Q2. Spearman's rank correlation is a measure of the monotonic relationship between two variables.Suppose you have collected data on the amount of sleep individuals get each night and their overall job satisfaction level on a scale of 1 to 10. Calculate the Spearman's rank correlation between these two variables and interpret the result."
   ]
  },
  {
   "cell_type": "markdown",
   "id": "0cdc7336-478a-4cb7-820f-5ac7f4aeb417",
   "metadata": {},
   "source": [
    "To calculate Spearman's rank correlation coefficient between the amount of sleep individuals get each night and their overall job satisfaction level, follow these steps:\n",
    "\n",
    "1. Collect the data: Gather the data on the amount of sleep each individual gets and their corresponding job satisfaction levels. Make sure you have pairs of values for each individual.\n",
    "\n",
    "2. Rank the data: Rank the data for each variable separately. Assign a rank of 1 to the smallest value, 2 to the next smallest, and so on. If there are ties (i.e., multiple individuals with the same value), assign them the average rank.\n",
    "\n",
    "3. Calculate the differences in ranks: For each pair of ranks, calculate the difference between the ranks for each individual.\n",
    "\n",
    "4. Square the rank differences: Square each of the differences calculated in step 3.\n",
    "\n",
    "5. Sum the squared rank differences: Add up all the squared rank differences.\n",
    "\n",
    "6. Calculate the number of pairs: Determine the total number of pairs of data points you have.\n",
    "\n",
    "7. Apply the formula: Use the formula for Spearman's rank correlation coefficient:r = 1 - (6 * sum of squared rank differences) / (n * (n^2 - 1))where r represents the Spearman's rank correlation coefficient and n is the number of pairs of data points.\n",
    "\n",
    "The resulting value of r will range from -1 to 1, where -1 indicates a perfect negative monotonic relationship, 1 indicates a perfect positive monotonic relationship, and 0 indicates no monotonic relationship between the variables.\n",
    "\n",
    "Interpreting the Spearman's rank correlation coefficient depends on its value:\n",
    "\n",
    "* If the coefficient is close to -1, it indicates a strong negative monotonic relationship. This means that as the amount of sleep individuals get each night decreases, their overall job satisfaction tends to decrease.\n",
    "\n",
    "* If the coefficient is close to 1, it indicates a strong positive monotonic relationship. This means that as the amount of sleep individuals get each night increases, their overall job satisfaction tends to increase.\n",
    "\n",
    "* If the coefficient is close to 0, it indicates no significant monotonic relationship. In this case, the amount of sleep individuals get each night has no predictable effect on their overall job satisfaction level.\n",
    "\n",
    "Spearman's rank correlation coefficient measures the strength and direction of the monotonic relationship between the variables. It does not provide information about causation or the presence of other types of relationships.\n",
    "\n",
    "\n",
    "\n",
    "\n"
   ]
  },
  {
   "cell_type": "code",
   "execution_count": 2,
   "id": "6e641b19-ad75-494d-8168-5cc867e65c50",
   "metadata": {},
   "outputs": [
    {
     "name": "stdout",
     "output_type": "stream",
     "text": [
      "Spearman's rank correlation coefficient: 0.9746794344808963\n"
     ]
    }
   ],
   "source": [
    "import scipy.stats as stats\n",
    "\n",
    "# Example data (amount of sleep and job satisfaction)\n",
    "amount_of_sleep = [7, 6, 5, 8, 7]\n",
    "job_satisfaction = [8, 6, 4, 9, 7]\n",
    "\n",
    "# Calculate the Spearman's rank correlation\n",
    "correlation_coefficient, p_value = stats.spearmanr(amount_of_sleep, job_satisfaction)\n",
    "\n",
    "print(\"Spearman's rank correlation coefficient:\", correlation_coefficient)\n"
   ]
  },
  {
   "cell_type": "markdown",
   "id": "4a7f337d-48c3-48ca-92cf-a28ef2569d87",
   "metadata": {},
   "source": [
    "# Q3. Suppose you are conducting a study to examine the relationship between the number of hours of exercise per week and body mass index (BMI) in a sample of adults. You collected data on both variables for 50 participants. Calculate the Pearson correlation coefficient and the Spearman's rank correlation between these two variables and compare the results."
   ]
  },
  {
   "cell_type": "markdown",
   "id": "a25a9cfb-63d8-4e81-a651-9f7ecdd29d2c",
   "metadata": {},
   "source": [
    "To calculate the Pearson correlation coefficient and the Spearman's rank correlation between the number of hours of exercise per week and body mass index (BMI) in a sample of adults, follow these steps:\n",
    "\n",
    "1. Collect the data: Gather the data on the number of hours of exercise per week and the corresponding BMI values for each of the 50 participants.\n",
    "\n",
    "2. Calculate the Pearson correlation coefficient:\n",
    "\n",
    "* Calculate the means of the exercise hours and BMI.\n",
    "* Calculate the deviations for each participant by subtracting the mean of exercise hours from their individual exercise hour values and do the same for \n",
    "* Multiply each pair of deviations (exercise hours and BMI) for each participant.\n",
    "* Sum up all the products.\n",
    "* Calculate the standard deviation of exercise hours and BMI.\n",
    "* Multiply the standard deviations of exercise hours * *Divide the sum of products by the product of standard deviations to get the Pearson correlation coefficient.\n",
    "3. Calculate the Spearman's rank correlation:\n",
    "\n",
    "* Rank the data for both exercise hours and BMI separately.\n",
    "* Calculate the differences in ranks for each participant.\n",
    "* Square the rank differences.\n",
    "* Sum up all the squared rank differences.\n",
    "* Apply the formula for Spearman's rank correlation coefficient using the sum of squared rank differences.\n",
    "Comparing the results:\n",
    "\n",
    "* The Pearson correlation coefficient measures the strength and direction of the linear relationship between the two variables (exercise hours and BMI).\n",
    "* The Spearman's rank correlation measures the strength and direction of the monotonic relationship between the variables, considering their ranks instead of the actual values.\n",
    "If the Pearson correlation coefficient and the Spearman's rank correlation are similar in magnitude and direction, it suggests a strong linear relationship between the exercise hours and BMI, where an increase in exercise hours is associated with a predictable change in BMI.\n",
    "\n",
    "However, if the Spearman's rank correlation is significantly different from the Pearson correlation coefficient, it suggests that the relationship between exercise hours and BMI may not be strictly linear, but rather a monotonic relationship where the ranks of the variables are more informative than their actual values.\n",
    "\n",
    "It's important to note that both correlation coefficients provide insights into the relationship between the variables but do not imply causation. Additionally, interpreting the correlation coefficients should consider the specific context and additional factors that may influence the relationship between exercise hours and BMI in the sample of adults."
   ]
  },
  {
   "cell_type": "code",
   "execution_count": 3,
   "id": "5626d1cd-2d62-45bd-8f77-a05122f3de4b",
   "metadata": {},
   "outputs": [
    {
     "name": "stdout",
     "output_type": "stream",
     "text": [
      "Pearson correlation coefficient: -0.9894756991532592\n",
      "Spearman's rank correlation coefficient: -1.0\n"
     ]
    }
   ],
   "source": [
    "import scipy.stats as stats\n",
    "import numpy as np\n",
    "\n",
    "# Example data (exercise hours and BMI)\n",
    "exercise_hours = [4, 3, 5, 2, 6, 1, 4, 3, 5, 2, 6, 1, 4, 3, 5, 2, 6, 1, 4, 3, 5, 2, 6, 1, 4, 3, 5, 2, 6, 1, 4, 3, 5, 2, 6, 1, 4, 3, 5, 2, 6, 1, 4, 3, 5, 2, 6, 1]\n",
    "bmi = [23, 25, 22, 27, 20, 30, 23, 25, 22, 27, 20, 30, 23, 25, 22, 27, 20, 30, 23, 25, 22, 27, 20, 30, 23, 25, 22, 27, 20, 30, 23, 25, 22, 27, 20, 30, 23, 25, 22, 27, 20, 30, 23, 25, 22, 27, 20, 30]\n",
    "\n",
    "# Calculate the Pearson correlation coefficient\n",
    "pearson_correlation, p_value_pearson = stats.pearsonr(exercise_hours, bmi)\n",
    "\n",
    "# Calculate the Spearman's rank correlation\n",
    "spearman_correlation, p_value_spearman = stats.spearmanr(exercise_hours, bmi)\n",
    "\n",
    "print(\"Pearson correlation coefficient:\", pearson_correlation)\n",
    "print(\"Spearman's rank correlation coefficient:\", spearman_correlation)\n"
   ]
  },
  {
   "cell_type": "markdown",
   "id": "913ede4a-6978-4637-8b9c-d324dbf518a9",
   "metadata": {},
   "source": [
    "# Q4. A researcher is interested in examining the relationship between the number of hours individuals spend watching television per day and their level of physical activity. The researcher collected data on both variables from a sample of 50 participants. Calculate the Pearson correlation coefficient between these two variables."
   ]
  },
  {
   "cell_type": "code",
   "execution_count": 8,
   "id": "22e155bb-6f12-4218-b71f-0fcf0de62a72",
   "metadata": {},
   "outputs": [
    {
     "name": "stdout",
     "output_type": "stream",
     "text": [
      "Pearson correlation coefficient: 0.5801700757851197\n"
     ]
    }
   ],
   "source": [
    "import scipy.stats as stats\n",
    "\n",
    "# Example data (TV hours and physical activity)\n",
    "tv_hours = [3, 4, 1, 5, 2, 3, 4, 2, 1, 3, 2, 4, 1, 5, 2, 3, 4, 2, 1, 3, 2, 4, 1, 5, 2, 3, 4, 2, 1, 3, 2, 4, 1, 5, 2, 3, 4, 2, 1, 3, 2, 4, 1, 5, 2, 3, 4]\n",
    "physical_activity = [150, 200, 100, 250, 50, 200, 150, 100, 200, 250, 150, 200, 100, 250, 50, 200, 150, 100, 200, 250, 150, 200, 100, 250, 50, 200, 150, 100, 200, 250, 150, 200, 100, 250, 50, 200, 150, 100, 200, 250, 150, 200, 100, 250, 50, 200, 150]\n",
    "\n",
    "# Check if the lists have the same length\n",
    "if len(tv_hours) != len(physical_activity):\n",
    "    print(\"Error: The lists must have the same length.\")\n",
    "else:\n",
    "    # Calculate the Pearson correlation coefficient\n",
    "    correlation_coefficient, p_value = stats.pearsonr(tv_hours, physical_activity)\n",
    "    print(\"Pearson correlation coefficient:\", correlation_coefficient)\n"
   ]
  },
  {
   "cell_type": "markdown",
   "id": "b447684f-5615-4008-926f-5452f9db706f",
   "metadata": {},
   "source": [
    "# Q6. A company is interested in examining the relationship between the number of sales calls made per day and the number of sales made per week. The company collected data on both variables from a sample of 30 sales representatives. Calculate the Pearson correlation coefficient between these two variables."
   ]
  },
  {
   "cell_type": "code",
   "execution_count": 9,
   "id": "654f45e6-2e85-487e-9a06-2ef8ac57865b",
   "metadata": {},
   "outputs": [
    {
     "name": "stdout",
     "output_type": "stream",
     "text": [
      "Pearson correlation coefficient: 0.9605106772722698\n"
     ]
    }
   ],
   "source": [
    "import scipy.stats as stats\n",
    "\n",
    "# Example data (sales calls per day and sales per week)\n",
    "sales_calls_per_day = [20, 15, 18, 22, 25, 12, 15, 10, 23, 20, 18, 16, 19, 21, 14, 17, 16, 13, 11, 24, 20, 19, 16, 18, 23, 14, 15, 21, 22, 19]\n",
    "sales_per_week = [100, 80, 90, 110, 120, 70, 80, 60, 100, 90, 85, 75, 95, 105, 65, 85, 75, 70, 55, 110, 95, 90, 75, 85, 105, 60, 70, 100, 105, 90]\n",
    "\n",
    "# Calculate the Pearson correlation coefficient\n",
    "correlation_coefficient, p_value = stats.pearsonr(sales_calls_per_day, sales_per_week)\n",
    "\n",
    "print(\"Pearson correlation coefficient:\", correlation_coefficient)\n"
   ]
  },
  {
   "cell_type": "code",
   "execution_count": null,
   "id": "d705cfbf-e671-450c-b130-a0d58d04e12f",
   "metadata": {},
   "outputs": [],
   "source": []
  },
  {
   "cell_type": "code",
   "execution_count": null,
   "id": "5baaf0d4-1c46-4ac0-8390-2610a0c70288",
   "metadata": {},
   "outputs": [],
   "source": []
  }
 ],
 "metadata": {
  "kernelspec": {
   "display_name": "Python 3 (ipykernel)",
   "language": "python",
   "name": "python3"
  },
  "language_info": {
   "codemirror_mode": {
    "name": "ipython",
    "version": 3
   },
   "file_extension": ".py",
   "mimetype": "text/x-python",
   "name": "python",
   "nbconvert_exporter": "python",
   "pygments_lexer": "ipython3",
   "version": "3.10.8"
  }
 },
 "nbformat": 4,
 "nbformat_minor": 5
}
