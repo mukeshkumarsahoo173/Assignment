{
 "cells": [
  {
   "cell_type": "markdown",
   "id": "cca1f62a-3d01-40bc-9cba-2ed60dc93275",
   "metadata": {},
   "source": [
    "# Q1. What is an Exception in python?Write the difference between Exception and syntax errors.\n"
   ]
  },
  {
   "cell_type": "markdown",
   "id": "405f3bc5-9f30-45a3-8183-752fed59226a",
   "metadata": {},
   "source": [
    "Ans"
   ]
  },
  {
   "cell_type": "markdown",
   "id": "3076a4fa-aeba-4dc6-b801-204c93dc6c4f",
   "metadata": {},
   "source": [
    "Exceptions: Exceptions are raised when the program is syntactically correct, but the code resulted in an error. This error does not stop the execution of the program, however, it changes the normal flow of the program."
   ]
  },
  {
   "cell_type": "markdown",
   "id": "84df8837-2c74-460a-a038-8d96eef8ba61",
   "metadata": {},
   "source": [
    "Syntax Error: As the name suggests this error is caused by the wrong syntax in the code. It leads to the termination of the program.\n",
    "\n",
    "Syntax Error is an absolute error by the developer where as Exception can work in developer system but not in user system\n"
   ]
  },
  {
   "cell_type": "markdown",
   "id": "953a6e07-12a2-4bd0-abd4-a0f95dc03fd7",
   "metadata": {},
   "source": [
    "# Q2. What happens when an exception is not handled? explain with example.\n"
   ]
  },
  {
   "cell_type": "markdown",
   "id": "a01ccc88-1980-4614-800a-8afa93415217",
   "metadata": {},
   "source": [
    "Ans"
   ]
  },
  {
   "cell_type": "markdown",
   "id": "3e679981-5445-41b1-9dc5-0123ec2cd73f",
   "metadata": {},
   "source": [
    "If exception is not handelled then next code which is written in next line of python also will not run and entire file will be stopped"
   ]
  },
  {
   "cell_type": "code",
   "execution_count": 1,
   "id": "6336fec4-8f7b-4bfc-a514-3aebc8b32923",
   "metadata": {},
   "outputs": [
    {
     "ename": "NameError",
     "evalue": "name 'a' is not defined",
     "output_type": "error",
     "traceback": [
      "\u001b[0;31m---------------------------------------------------------------------------\u001b[0m",
      "\u001b[0;31mNameError\u001b[0m                                 Traceback (most recent call last)",
      "Cell \u001b[0;32mIn[1], line 1\u001b[0m\n\u001b[0;32m----> 1\u001b[0m \u001b[38;5;28mprint\u001b[39m(\u001b[43ma\u001b[49m\u001b[38;5;241m/\u001b[39m\u001b[38;5;241m0\u001b[39m)\n\u001b[1;32m      2\u001b[0m \u001b[38;5;28mprint\u001b[39m(\u001b[38;5;124m\"\u001b[39m\u001b[38;5;124mpwskills\u001b[39m\u001b[38;5;124m\"\u001b[39m)\n",
      "\u001b[0;31mNameError\u001b[0m: name 'a' is not defined"
     ]
    }
   ],
   "source": [
    "print(a/0)\n",
    "print(\"pwskills\")"
   ]
  },
  {
   "cell_type": "markdown",
   "id": "902fbe91-998f-483e-ae1d-f3c435f2f239",
   "metadata": {},
   "source": [
    "# Q3 Which python statements are used to catch and handle eexceptions?Explain with an example"
   ]
  },
  {
   "cell_type": "markdown",
   "id": "af27ac38-07ac-46ee-9b48-2481852f5d6c",
   "metadata": {},
   "source": [
    "Ans"
   ]
  },
  {
   "cell_type": "markdown",
   "id": "f527ba1b-88a4-482c-97ef-935137f31299",
   "metadata": {},
   "source": [
    "The try and except block in Python is used to catch and handle exceptions.\n"
   ]
  },
  {
   "cell_type": "code",
   "execution_count": 4,
   "id": "83f444c7-469e-4f73-9076-ff2446e89c67",
   "metadata": {},
   "outputs": [
    {
     "name": "stdout",
     "output_type": "stream",
     "text": [
      "This is except block division by zero\n"
     ]
    }
   ],
   "source": [
    "# example\n",
    "\n",
    "try:\n",
    "    1/0\n",
    "except Exception as e:\n",
    "    print(\"This is except block\",e)"
   ]
  },
  {
   "cell_type": "markdown",
   "id": "de3c36f8-b5c1-45f4-a69b-d061a08298fa",
   "metadata": {},
   "source": [
    "# Q4 Explain with an example\n",
    "#      a.try and else\n",
    "#      b.finally\n",
    "#      c.raise"
   ]
  },
  {
   "cell_type": "markdown",
   "id": "05d64064-4317-4860-bf9b-779b134d2908",
   "metadata": {},
   "source": [
    "There are 4 blocks :\n",
    "\n",
    "i. try\n",
    "\n",
    "try for error\n",
    "\n",
    "ii. except\n",
    "\n",
    "if error comes it will come to except block\n",
    "\n",
    "iii. else\n",
    "\n",
    "if try block executed without any error then else will be excuted for residual code, else will not excecuted if try fails\n",
    "\n",
    "iv. finally\n",
    "\n",
    "it will be excuted at any situation"
   ]
  },
  {
   "cell_type": "code",
   "execution_count": 5,
   "id": "9041f188-537e-4ce5-ac38-443f175f8c38",
   "metadata": {},
   "outputs": [
    {
     "name": "stdout",
     "output_type": "stream",
     "text": [
      "This is except block division by zero\n"
     ]
    }
   ],
   "source": [
    "# try-except eexample\n",
    "try:\n",
    "    1/0\n",
    "except Exception as e:\n",
    "    print(\"This is except block\",e)"
   ]
  },
  {
   "cell_type": "code",
   "execution_count": 8,
   "id": "641614d8-24c8-41e0-9815-1a886b7d96e3",
   "metadata": {},
   "outputs": [
    {
     "name": "stdout",
     "output_type": "stream",
     "text": [
      "[0, 1.0, 0.5, 0.333, 0.25, 0.2, 0.167, 0.143, 0.125, 0.111]\n",
      "\n",
      "Eception Handeled\n"
     ]
    }
   ],
   "source": [
    "# else example\n",
    "try:\n",
    "    a=[]\n",
    "    for i in range(0,10):\n",
    "        if i<=0:\n",
    "            a.append(0)  \n",
    "            \n",
    "        else: \n",
    "            a.append(round(1/i,3)) \n",
    "                        \n",
    "except Exception as e:\n",
    "    print (str(e).capitalize())\n",
    "else:\n",
    "    print(a)\n",
    "    print()\n",
    "    print('Eception Handeled')"
   ]
  },
  {
   "cell_type": "code",
   "execution_count": 10,
   "id": "c8e0a984-5312-4083-a8ec-812ada917626",
   "metadata": {},
   "outputs": [
    {
     "name": "stdout",
     "output_type": "stream",
     "text": [
      "There is a bug of : Division By Zero\n",
      "\n",
      "pwskills pwskills pwskills pwskills pwskills \n"
     ]
    }
   ],
   "source": [
    "# finally\n",
    "try:\n",
    "    a=[]\n",
    "    for i in range(0,10):\n",
    "        \n",
    "            a.append(1/i)\n",
    "    \n",
    "except Exception as e:\n",
    "    print (f'There is a bug of : {str(e).title()}')\n",
    "else:\n",
    "    print(a)\n",
    "    print()\n",
    "    print('Eception Handeled')\n",
    "    \n",
    "    \n",
    "finally:\n",
    "    print()\n",
    "    print(\"pwskills \"*5)"
   ]
  },
  {
   "cell_type": "markdown",
   "id": "539a05dc-be63-4088-8898-1f5596f5f367",
   "metadata": {},
   "source": [
    "# Q5. Whata re Custom Exceptions in python? Why do we need Custom Exceptions? Explain with an example."
   ]
  },
  {
   "cell_type": "markdown",
   "id": "f104ed5c-d3b7-4ce7-ab12-1b0ebc9d6175",
   "metadata": {},
   "source": [
    "Ans"
   ]
  },
  {
   "cell_type": "markdown",
   "id": "d327b695-5f79-47f7-b873-90ba6942e84b",
   "metadata": {},
   "source": [
    "Custome Exception Handeling:\n",
    "\n",
    "\n",
    "Some time we need to raise custome msg for exception when system does not have the exception msg or the exception itself"
   ]
  },
  {
   "cell_type": "markdown",
   "id": "d6037a2e-51a3-4aca-8e8d-3f2d7bffaf2a",
   "metadata": {},
   "source": [
    "We need customised exception handelling because:\n",
    "\n",
    "\n",
    "For those exception which system does not count as an exception we need to raise customized msg in this time we need customised exception handelling"
   ]
  },
  {
   "cell_type": "code",
   "execution_count": 11,
   "id": "099aac89-c5d2-40f6-95fa-78f8da03c1cc",
   "metadata": {},
   "outputs": [
    {
     "name": "stdin",
     "output_type": "stream",
     "text": [
      "ENTER YOUR AGE:::: -121\n"
     ]
    },
    {
     "name": "stdout",
     "output_type": "stream",
     "text": [
      "-121\n"
     ]
    }
   ],
   "source": [
    "age= int(input(\"ENTER YOUR AGE::::\")) # enter age -111\n",
    "print(age)\n",
    "\n",
    "\n",
    "\n",
    "# to handel this kind of exception we need to create a sub class of Exception "
   ]
  },
  {
   "cell_type": "markdown",
   "id": "e4218789-a831-4b41-a361-b94c9aeea948",
   "metadata": {},
   "source": [
    "# Q6. Create custom exception class. Use this class to handle an exception."
   ]
  },
  {
   "cell_type": "markdown",
   "id": "0ba75f7e-cfc2-4c1c-a5b5-ccb25394ab03",
   "metadata": {},
   "source": [
    "Ans"
   ]
  },
  {
   "cell_type": "code",
   "execution_count": 1,
   "id": "ddad0db8-459c-4d99-b41b-b5fa70d48e83",
   "metadata": {},
   "outputs": [
    {
     "name": "stdin",
     "output_type": "stream",
     "text": [
      "enter your age -3233\n",
      "enter your age 23213\n"
     ]
    },
    {
     "name": "stdout",
     "output_type": "stream",
     "text": [
      "entered age is very very high23213\n"
     ]
    }
   ],
   "source": [
    "age=int(input (\"enter your age\"))\n",
    "class validateagecls(Exception):\n",
    "    \n",
    "    def __init__(self,msg):\n",
    "        self.msg=msg\n",
    "def validateage(age):\n",
    "    if age<0:\n",
    "        raise validateagecls(\"entered age is negative \"+str(age))\n",
    "    elif age>200:\n",
    "        raise validateagecls(\"entered age is very very high\"+str(age))\n",
    "    else:\n",
    "        print(\"age is valid\")   \n",
    "try:\n",
    "    age=int(input(\"Enter your age\"))\n",
    "    validateage(age)\n",
    "except validateagecls as e:\n",
    "    print(e)\n",
    "      "
   ]
  },
  {
   "cell_type": "code",
   "execution_count": null,
   "id": "6ffaf482-53e0-4b4e-bb04-a1a6b523c445",
   "metadata": {},
   "outputs": [],
   "source": []
  }
 ],
 "metadata": {
  "kernelspec": {
   "display_name": "Python 3 (ipykernel)",
   "language": "python",
   "name": "python3"
  },
  "language_info": {
   "codemirror_mode": {
    "name": "ipython",
    "version": 3
   },
   "file_extension": ".py",
   "mimetype": "text/x-python",
   "name": "python",
   "nbconvert_exporter": "python",
   "pygments_lexer": "ipython3",
   "version": "3.10.8"
  }
 },
 "nbformat": 4,
 "nbformat_minor": 5
}
