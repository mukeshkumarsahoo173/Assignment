{
 "cells": [
  {
   "cell_type": "code",
   "execution_count": 2,
   "id": "2aa0962e-d3af-48ed-a3d6-edc6da2c5a6c",
   "metadata": {},
   "outputs": [
    {
     "name": "stdin",
     "output_type": "stream",
     "text": [
      "enter the marks: 567\n"
     ]
    },
    {
     "name": "stdout",
     "output_type": "stream",
     "text": [
      "Grade D\n"
     ]
    }
   ],
   "source": [
    "## QUESTION 1\n",
    "marks=int(input(\"enter the marks:\"))\n",
    "if marks<=100 and marks>90:\n",
    "        print( \"Grade A\")\n",
    "elif marks<=90 and marks>80:\n",
    "        print(\"Grade B\")\n",
    "elif marks<=80 and marks>=60:\n",
    "        print(\"Grade C\")\n",
    "else :\n",
    "        print(\"Grade D\")"
   ]
  },
  {
   "cell_type": "code",
   "execution_count": 3,
   "id": "dffc7747-7442-4fc5-9b89-279d2e94880b",
   "metadata": {},
   "outputs": [
    {
     "name": "stdin",
     "output_type": "stream",
     "text": [
      "Enter the price of a bike 56\n"
     ]
    },
    {
     "name": "stdout",
     "output_type": "stream",
     "text": [
      "5% tax\n"
     ]
    }
   ],
   "source": [
    "##QUESTION 2\n",
    "cost=int(input(\"Enter the price of a bike\"))\n",
    "if cost>100000:\n",
    "    print(\"15% tax\")\n",
    "elif cost>50000 and cost<=100000:\n",
    "    print(\"10% tax\")\n",
    "else:\n",
    "    print(\"5% tax\")\n",
    "      \n"
   ]
  },
  {
   "cell_type": "markdown",
   "id": "5cc2534e-c558-4e21-ad77-71b67c0914dd",
   "metadata": {},
   "source": [
    "##### \"Delhi\"==\"Delhi\""
   ]
  },
  {
   "cell_type": "code",
   "execution_count": 4,
   "id": "cba6332d-e185-4dba-a70f-9b6869aee9b2",
   "metadata": {},
   "outputs": [
    {
     "name": "stdin",
     "output_type": "stream",
     "text": [
      "Enter the city name: 45\n"
     ]
    },
    {
     "name": "stdout",
     "output_type": "stream",
     "text": [
      "Enter a valid city\n"
     ]
    }
   ],
   "source": [
    "## QUESTION 3\n",
    "city=input(\"Enter the city name:\")\n",
    "if city==\"Delhi\":\n",
    "    print(\"Red Fort\")\n",
    "elif city==\"Agra\":\n",
    "    print(\"Taj Mahal\")\n",
    "elif city==\"Jaipur\":\n",
    "    print(\"Jal Mahal\")\n",
    "else :\n",
    "    print(\"Enter a valid city\")"
   ]
  },
  {
   "cell_type": "code",
   "execution_count": 5,
   "id": "3c6a5326-0999-46e0-a167-6da8de484fdd",
   "metadata": {},
   "outputs": [
    {
     "name": "stdin",
     "output_type": "stream",
     "text": [
      "Enter the number: 576\n"
     ]
    }
   ],
   "source": [
    "## QUESTION 4\n",
    "number=int(input(\"Enter the number:\"))\n",
    "if number>=0 and number<3:\n",
    "    print(\"0 times\")\n",
    "elif number>=3 and number<6:\n",
    "    print(\"1 times\")\n",
    "elif number>=6 and number<9:\n",
    "    print (\"2 times\")\n",
    "elif number>=9 and number<=10:\n",
    "    print (\"3 times\")\n",
    "    "
   ]
  },
  {
   "cell_type": "code",
   "execution_count": null,
   "id": "999d251a-6831-4b9c-ab23-2f0b5e4c2f65",
   "metadata": {},
   "outputs": [],
   "source": [
    "\"\"\"QUESTION 5\n",
    "while loop is used to run a block code until a certain condition is met.\n",
    "when we don't know the exact number of iteration then we use while loop\"\"\"\n",
    "## EXAMPLE\n",
    "i=1\n",
    "n=5\n",
    "while i<=n:\n",
    "    print(i)\n",
    "    i+=1\n"
   ]
  },
  {
   "cell_type": "markdown",
   "id": "3f153d18-3ffe-4fcb-b1f3-1fbb5fab5beb",
   "metadata": {},
   "source": [
    "###### QUESTION 6\n",
    "n=5\n",
    "i=1\n",
    "while i<n:\n",
    "    j=1\n",
    "    while j<=n:\n",
    "        if i>=j:\n",
    "            print(\"*\",end=\" \")\n",
    "        j+=1\n",
    "    print()\n",
    "    i+=1"
   ]
  },
  {
   "cell_type": "code",
   "execution_count": 16,
   "id": "08f3c998-63e2-4aaf-8657-d41f458b3922",
   "metadata": {},
   "outputs": [
    {
     "name": "stdout",
     "output_type": "stream",
     "text": [
      "* * * * * \n",
      "* * * * * \n",
      "* * * * * \n",
      "* * * * * \n",
      "* * * * * \n"
     ]
    }
   ],
   "source": [
    "##QUESTION 6\n",
    "n=5\n",
    "i=0\n",
    "while i<n:\n",
    "    j=1\n",
    "    while j<=n:\n",
    "        print(\"*\",end=\" \")\n",
    "        j+=1\n",
    "    print()\n",
    "    i+=1"
   ]
  },
  {
   "cell_type": "code",
   "execution_count": 17,
   "id": "8c036e43-5ecf-471f-80b4-1325df70fa2d",
   "metadata": {},
   "outputs": [
    {
     "name": "stdout",
     "output_type": "stream",
     "text": [
      "* * * * * \n",
      "* * * * \n",
      "* * * \n",
      "* * \n",
      "* \n"
     ]
    }
   ],
   "source": [
    "n=5\n",
    "i=0\n",
    "while i<n:\n",
    "    j=1\n",
    "    while j<=n:\n",
    "        if i<j:\n",
    "            print(\"*\",end=\" \")\n",
    "        j+=1\n",
    "    print()\n",
    "    i+=1"
   ]
  },
  {
   "cell_type": "code",
   "execution_count": 18,
   "id": "873a4821-4b09-461a-b053-f747d947b003",
   "metadata": {},
   "outputs": [
    {
     "name": "stdout",
     "output_type": "stream",
     "text": [
      "* \n",
      "* * \n",
      "* * * \n",
      "* * * * \n",
      "* * * * * \n"
     ]
    }
   ],
   "source": [
    "n=5\n",
    "i=0\n",
    "while i<n:\n",
    "    j=1\n",
    "    while j<=n:\n",
    "        if i+j>n-1:\n",
    "            print(\"*\",end=\" \")\n",
    "        j+=1\n",
    "    print()\n",
    "    i+=1"
   ]
  },
  {
   "cell_type": "code",
   "execution_count": 6,
   "id": "8838365a-f2a6-4f1c-ac93-520103bd50b9",
   "metadata": {},
   "outputs": [
    {
     "name": "stdout",
     "output_type": "stream",
     "text": [
      "10\n",
      "9\n",
      "8\n",
      "7\n",
      "6\n",
      "5\n",
      "4\n",
      "3\n",
      "2\n",
      "1\n"
     ]
    }
   ],
   "source": [
    "## QUESTION 7\n",
    "n=10\n",
    "a=1\n",
    "while n>=a:\n",
    "    print(n)\n",
    "    n-=1"
   ]
  },
  {
   "cell_type": "code",
   "execution_count": 7,
   "id": "09adea19-aefa-48a6-b6f6-bb20d5b7aed2",
   "metadata": {},
   "outputs": [
    {
     "name": "stdout",
     "output_type": "stream",
     "text": [
      "10\n",
      "9\n",
      "8\n",
      "7\n",
      "6\n",
      "5\n",
      "4\n",
      "3\n",
      "2\n",
      "1\n"
     ]
    }
   ],
   "source": [
    "## QUESTION 8\n",
    "n=10\n",
    "a=1\n",
    "while n>=a:\n",
    "    print(n)\n",
    "    n-=1"
   ]
  },
  {
   "cell_type": "code",
   "execution_count": null,
   "id": "bb282e65-9289-4cbd-8200-f91bc41084f2",
   "metadata": {},
   "outputs": [],
   "source": []
  },
  {
   "cell_type": "code",
   "execution_count": null,
   "id": "4a7827f4-4e77-4e24-a79e-b241913b7e70",
   "metadata": {},
   "outputs": [],
   "source": []
  },
  {
   "cell_type": "code",
   "execution_count": null,
   "id": "520856a1-5565-4aab-9412-2c29904640cf",
   "metadata": {},
   "outputs": [],
   "source": []
  },
  {
   "cell_type": "code",
   "execution_count": null,
   "id": "0c69a6ce-c030-4b7d-82ad-ce0418aa7d74",
   "metadata": {},
   "outputs": [],
   "source": []
  },
  {
   "cell_type": "code",
   "execution_count": null,
   "id": "57a8deee-8679-4999-aabd-0457f442b1a9",
   "metadata": {},
   "outputs": [],
   "source": []
  },
  {
   "cell_type": "code",
   "execution_count": null,
   "id": "69835b3c-8ceb-4a1d-9b0c-f191ad9817d2",
   "metadata": {},
   "outputs": [],
   "source": []
  },
  {
   "cell_type": "code",
   "execution_count": null,
   "id": "de882a08-c41e-4f50-b3a1-50a9a14a5d49",
   "metadata": {},
   "outputs": [],
   "source": []
  },
  {
   "cell_type": "code",
   "execution_count": null,
   "id": "9e05ca53-02e3-4a0a-8bd5-94379fdde680",
   "metadata": {},
   "outputs": [],
   "source": []
  }
 ],
 "metadata": {
  "kernelspec": {
   "display_name": "Python 3 (ipykernel)",
   "language": "python",
   "name": "python3"
  },
  "language_info": {
   "codemirror_mode": {
    "name": "ipython",
    "version": 3
   },
   "file_extension": ".py",
   "mimetype": "text/x-python",
   "name": "python",
   "nbconvert_exporter": "python",
   "pygments_lexer": "ipython3",
   "version": "3.10.8"
  }
 },
 "nbformat": 4,
 "nbformat_minor": 5
}
