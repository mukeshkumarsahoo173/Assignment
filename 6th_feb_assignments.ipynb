{
 "cells": [
  {
   "cell_type": "markdown",
   "id": "9e39aef9-0d60-4ade-9559-f63fdae1cc1f",
   "metadata": {},
   "source": [
    "## Q1. Create a function which will take a list as an argument and return the product of all the numbers after creating a flat list. Use the below-given list as an argument for your function.    list1 = [1,2,3,4, [44,55,66, True], False, (34,56,78,89,34), {1,2,3,3,2,1}, {1:34, \"key2\": [55, 67, 78, 89], 4: (45,\n",
    "22, 61, 34)}, [56, 'data science'], 'Machine Learning']"
   ]
  },
  {
   "cell_type": "code",
   "execution_count": 3,
   "id": "d2c591bc-c68f-4cbd-a07b-f5dc1441d16b",
   "metadata": {},
   "outputs": [],
   "source": [
    "list1 = [1,2,3,4, [44,55,66, True], False, (34,56,78,89,34), {1,2,3,3,2,1}, {1:34, \"key2\": [55, 67, 78, 89], 4: (45,\n",
    "22, 61, 34)}, [56, 'data science'], 'Machine Learning']"
   ]
  },
  {
   "cell_type": "code",
   "execution_count": 4,
   "id": "e437998f-ba8c-4195-8e22-6a63605408f3",
   "metadata": {},
   "outputs": [],
   "source": [
    "def number_filter(l1):\n",
    "    from functools import reduce\n",
    "    n=[] \n",
    "    for i in l1:\n",
    "        if str(i).isnumeric(): \n",
    "            n.append(i)       \n",
    "        elif type(i)==list or type(i)==tuple or type(i)==set:\n",
    "            for j in i:\n",
    "                if str(j).isnumeric():\n",
    "                    n.append(j)\n",
    "        elif type(i)==dict:\n",
    "            for k,v in i.items():\n",
    "                if str(k).isnumeric():\n",
    "                    n.append(k)\n",
    "                if str(v).isnumeric(): \n",
    "                    n.append(v)\n",
    "            for k,v in i.items():\n",
    "                if str(k).isnumeric()==False:\n",
    "                    if type(v)==list or type(v)==tuple:\n",
    "                        for u in v:\n",
    "                            if str(u).isnumeric():\n",
    "                                n.append(u)\n",
    "            for k,v in i.items():\n",
    "                if str(k).isnumeric()==True :\n",
    "                    if type(v)==list or type(v)== tuple:\n",
    "                        for u in v:\n",
    "                            if str(u).isnumeric():\n",
    "                                n.append(u)  \n",
    "    return (n),(reduce (lambda x,y:x*y,n))                            "
   ]
  },
  {
   "cell_type": "code",
   "execution_count": 5,
   "id": "6dffec8b-165c-4c1f-986f-15363396f265",
   "metadata": {},
   "outputs": [],
   "source": [
    "m,result=number_filter(list1)"
   ]
  },
  {
   "cell_type": "markdown",
   "id": "81c9dc7e-3b6e-409c-8b98-508164969734",
   "metadata": {},
   "source": [
    "# Q2. Write a python program for encrypting a message sent to you by your friend. The logic of encryption should be such that, for a the output should be z. For b, the output should be y. For c, the output should be x respectively. Also, the whitespace should be replaced with a dollar sign. Keep the punctuation marks unchanged. Input Sentence: I want to become a Data Scientist.Encrypt the above input sentence using the program you just created. Note: Convert the given input sentence into lowercase before encrypting. The final output should be lowercase."
   ]
  },
  {
   "cell_type": "code",
   "execution_count": 11,
   "id": "855b8cfb-6abc-43dc-b98f-3420fac29a2d",
   "metadata": {},
   "outputs": [
    {
     "name": "stdout",
     "output_type": "stream",
     "text": [
      "{'a': 97}\n",
      "{'b': 98}\n",
      "{'c': 99}\n",
      "{'d': 100}\n",
      "{'e': 101}\n",
      "{'f': 102}\n",
      "{'g': 103}\n",
      "{'h': 104}\n",
      "{'i': 105}\n",
      "{'j': 106}\n",
      "{'k': 107}\n",
      "{'l': 108}\n",
      "{'m': 109}\n",
      "{'n': 110}\n",
      "{'o': 111}\n",
      "{'p': 112}\n",
      "{'q': 113}\n",
      "{'r': 114}\n",
      "{'s': 115}\n",
      "{'u': 117}\n",
      "{'v': 118}\n",
      "{'w': 119}\n",
      "{'x': 120}\n",
      "{'y': 121}\n",
      "{'z': 122}\n"
     ]
    }
   ],
   "source": [
    "alpha_x=\"abcdefghijklmnopqrsuvwxyz\"\n",
    "for i in alpha_x:\n",
    "    print({i:ord(i)})"
   ]
  },
  {
   "cell_type": "code",
   "execution_count": 20,
   "id": "b12c56ed-903b-4368-8f9b-e62aab5fb7f0",
   "metadata": {},
   "outputs": [],
   "source": [
    "def encrypt(x):\n",
    "    x=x.lower()\n",
    "    \n",
    "    for i in x:\n",
    "        if i!=\" \":\n",
    "            if (ord(i)+26)>122: # if ord(i)>122 then problem \n",
    "                # so lets get the diffrence as e\n",
    "                e=122-ord(i) \n",
    "                x=x.replace(i,(chr(97+e))) \n",
    "            elif (ord(i)+25)<+122:\n",
    "                x=x.replace(i,(chr(97+26)))   \n",
    "        \n",
    "        \n",
    "        else:\n",
    "            x=x.replace(\" \", \"$\") # rplacing the space with $\n",
    "    x=x.replace(\"w\", 'd' )\n",
    "            \n",
    "    return x   \n",
    "                "
   ]
  },
  {
   "cell_type": "code",
   "execution_count": 22,
   "id": "3598623d-1b0c-4525-907c-0b6d125b6150",
   "metadata": {},
   "outputs": [
    {
     "name": "stdout",
     "output_type": "stream",
     "text": [
      "{'a': 'z'}\n",
      "{'b': 'y'}\n",
      "{'c': 'x'}\n",
      "{'d': 'd'}\n",
      "{'e': 'v'}\n",
      "{'f': 'u'}\n",
      "{'g': 't'}\n",
      "{'h': 's'}\n",
      "{'i': 'r'}\n",
      "{'j': 'q'}\n",
      "{'k': 'p'}\n",
      "{'l': 'o'}\n",
      "{'m': 'n'}\n",
      "{'n': 'm'}\n",
      "{'o': 'l'}\n",
      "{'p': 'k'}\n",
      "{'q': 'j'}\n",
      "{'r': 'i'}\n",
      "{'s': 'h'}\n",
      "{'u': 'f'}\n",
      "{'v': 'e'}\n",
      "{'w': 'd'}\n",
      "{'x': 'c'}\n",
      "{'y': 'b'}\n",
      "{'z': 'a'}\n"
     ]
    }
   ],
   "source": [
    "for i in alpha_x:\n",
    "    print({i: encrypt(i)})"
   ]
  },
  {
   "cell_type": "code",
   "execution_count": 23,
   "id": "b8ea26ce-51cf-4109-b146-0294a1ea339b",
   "metadata": {},
   "outputs": [
    {
     "data": {
      "text/plain": [
       "'r$dzmg$gl$yvxlmv$z$dzgz$hxrvmgrhg'"
      ]
     },
     "execution_count": 23,
     "metadata": {},
     "output_type": "execute_result"
    }
   ],
   "source": [
    "text=\"I want to become a Data Scientist\"\n",
    "encrypt(text)"
   ]
  },
  {
   "cell_type": "code",
   "execution_count": null,
   "id": "210f31e8-dc34-42ac-93dd-4cb7e2b4a7d8",
   "metadata": {},
   "outputs": [],
   "source": []
  }
 ],
 "metadata": {
  "kernelspec": {
   "display_name": "Python 3 (ipykernel)",
   "language": "python",
   "name": "python3"
  },
  "language_info": {
   "codemirror_mode": {
    "name": "ipython",
    "version": 3
   },
   "file_extension": ".py",
   "mimetype": "text/x-python",
   "name": "python",
   "nbconvert_exporter": "python",
   "pygments_lexer": "ipython3",
   "version": "3.10.8"
  }
 },
 "nbformat": 4,
 "nbformat_minor": 5
}
