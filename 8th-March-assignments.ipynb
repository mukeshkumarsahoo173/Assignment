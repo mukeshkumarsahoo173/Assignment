{
 "cells": [
  {
   "cell_type": "markdown",
   "id": "890494b4-8e16-4b69-9c16-cce4750efe87",
   "metadata": {},
   "source": [
    "# Q1. What is the Probability density function?\n",
    "## Ans\n",
    "\n",
    "* The Probability density function (PDF) is a function that describes the relative likelihood of a continuous random variable taking on a certain value. In other words, it gives the probability of a random variable taking on a specific value within a given range.\n",
    "\n",
    "* The PDF is used to describe the distribution of a continuous random variable, and it is typically denoted by f(x), where x represents the possible values that the random variable can take. The PDF is defined such that the area under the curve of the PDF over a certain range of values represents the probability that the random variable falls within that range.\n",
    "\n",
    "* The PDF is characterized by certain properties. First, the PDF is always non-negative, meaning that it is greater than or equal to zero for all possible values of x. Second, the area under the curve of the PDF over all possible values of x is equal to one. Finally, the height of the PDF at any given value of x represents the relative likelihood of the random variable taking on that value.\n",
    "\n",
    "* The PDF is an important concept in probability theory and statistics, as it allows us to analyze and model continuous random variables. It is used in many applications, including finance, physics, engineering, and social sciences."
   ]
  },
  {
   "cell_type": "markdown",
   "id": "16dcab52-76c8-4b3d-bf62-ea5d52685bc4",
   "metadata": {},
   "source": [
    "# Q2. What are the types of Probability distribution?\n",
    "## ANS\n",
    "## Discrete Probability Distributions:\n",
    "* These are probability distributions that deal with discrete or countable outcomes. Examples of discrete probability distributions include the Binomial distribution, Poisson distribution, and Geometric distribution.\n",
    "\n",
    "\n",
    "## Continuous Probability Distributions:\n",
    "* These are probability distributions that deal with continuous outcomes, such as time or weight. Examples of continuous probability distributions include the Normal distribution, Exponential distribution, and Uniform distribution.\n",
    "\n",
    "## Multivariate Probability Distributions: \n",
    "* These are probability distributions that deal with multiple variables or outcomes. Examples of multivariate probability distributions include the Multinomial distribution, Joint distribution, and Copula distribution.\n",
    "\n",
    "\n",
    "## Mixed Probability Distributions:\n",
    "* These are probability distributions that combine both discrete and continuous outcomes. Examples of mixed probability distributions include the Mixed Poisson distribution and the Zero-Inflated Poisson distribution."
   ]
  },
  {
   "cell_type": "markdown",
   "id": "b99cdb35-58e3-4e11-ba47-cf593aaa0c13",
   "metadata": {},
   "source": [
    "# Q3. Write a Python function to calculate the probability density function of a normal distribution with given mean and standard deviation at a given point.\n",
    "ANS"
   ]
  },
  {
   "cell_type": "code",
   "execution_count": 1,
   "id": "bc9185f7-98f4-4176-93e5-73a5e29a7fc3",
   "metadata": {},
   "outputs": [
    {
     "name": "stdout",
     "output_type": "stream",
     "text": [
      "0.24197072451914337\n"
     ]
    }
   ],
   "source": [
    "import math\n",
    "\n",
    "def normal_pdf(x, mu, sigma):\n",
    "    \"\"\"\n",
    "    This function calculates the probability density function (PDF) of a normal distribution with given mean and standard deviation at a given point x.\n",
    "    \"\"\"\n",
    "    coeff = 1.0 / (sigma * math.sqrt(2*math.pi))\n",
    "    exponent = math.exp(-(math.pow(x-mu, 2)) / (2 * math.pow(sigma, 2)))\n",
    "    pdf = coeff * exponent\n",
    "    return pdf\n",
    "pdf = normal_pdf(1, 0, 1)\n",
    "print(pdf)"
   ]
  },
  {
   "cell_type": "markdown",
   "id": "d02c74a0-98c0-4e7f-9e6c-2090736cccbe",
   "metadata": {},
   "source": [
    "# Q4. What are the properties of Binomial distribution? Give two examples of events where binomial distribution can be applied.\n",
    "ANS"
   ]
  },
  {
   "cell_type": "markdown",
   "id": "3231fbe5-9708-4615-85a3-5a738ad15e23",
   "metadata": {},
   "source": [
    "### The properties of the Binomial distribution are:\n",
    "The probability of success is constant: The probability of success (p) remains constant for each trial.\n",
    "\n",
    "Independent trials: Each trial is independent of the others.\n",
    "\n",
    "Fixed number of trials: The number of trials (n) is fixed.\n",
    "\n",
    "Two possible outcomes: Each trial has only two possible outcomes, success or failure.\n",
    "\n",
    "Discrete distribution: The Binomial distribution is a discrete distribution, as it deals with a countable number of successes in a fixed number of trials.\n",
    "\n",
    "### Two examples of events where the Binomial distribution can be applied are:\n",
    "\n",
    "Flipping a coin: If we flip a fair coin n times, the number of heads that we get is an example of a Binomial distribution. Here, the probability of success (getting heads) is 0.5, the number of trials (n) is fixed, and each trial is independent of the others.\n",
    "\n",
    "Medical diagnosis: Suppose a new test is developed to diagnose a certain disease. If we test n patients who are known to have the disease, the number of patients who test positive for the disease is an example of a Binomial distribution. Here, the probability of success (testing positive for the disease) is the sensitivity of the test, the number of trials (n) is fixed, and each trial is independent of the others."
   ]
  },
  {
   "cell_type": "markdown",
   "id": "a1d139ac-59c2-491b-801c-f22f4dc25825",
   "metadata": {},
   "source": [
    "# Q5. Generate a random sample of size 1000 from a binomial distribution with probability of success 0.4 and plot a histogram of the results using matplotlib.\n",
    "Ans"
   ]
  },
  {
   "cell_type": "code",
   "execution_count": 1,
   "id": "37e80c3c-8ef9-4464-bd26-17030861c0ba",
   "metadata": {},
   "outputs": [
    {
     "data": {
      "image/png": "[encoded data removed]",
      "text/plain": [
       "<Figure size 640x480 with 1 Axes>"
      ]
     },
     "metadata": {},
     "output_type": "display_data"
    }
   ],
   "source": [
    "import numpy as np\n",
    "import matplotlib.pyplot as plt\n",
    "\n",
    "# Set the parameters of the Binomial distribution\n",
    "n = 1000\n",
    "p = 0.4\n",
    "\n",
    "# Generate a random sample from the Binomial distribution\n",
    "sample = np.random.binomial(n, p, size=1000)\n",
    "\n",
    "# Plot a histogram of the sample\n",
    "plt.hist(sample, bins=20, edgecolor='w')\n",
    "plt.xlabel('Number of Successes')\n",
    "plt.ylabel('Frequency')\n",
    "plt.title('Binomial Distribution with n=1000, p=0.4')\n",
    "plt.show()"
   ]
  },
  {
   "cell_type": "markdown",
   "id": "009c2350-2fa1-4975-b074-c9fd2f6cdc68",
   "metadata": {},
   "source": [
    "# Q6. Write a Python function to calculate the cumulative distribution function of a Poisson distribution with given mean at a given point.\n",
    "Ans"
   ]
  },
  {
   "cell_type": "code",
   "execution_count": 2,
   "id": "84a49ad2-967e-4390-8a45-6a8d86c50dae",
   "metadata": {},
   "outputs": [
    {
     "name": "stdout",
     "output_type": "stream",
     "text": [
      "The CDF of a Poisson distribution with mean 3.5 at point 4 is 0.7254449533096046\n"
     ]
    }
   ],
   "source": [
    "import math\n",
    "\n",
    "def poisson_cdf(mean, point):\n",
    "    cdf = 0.0\n",
    "    for i in range(point + 1):\n",
    "        cdf += math.exp(-mean) * (mean**i) / math.factorial(i)\n",
    "    return cdf\n",
    "\n",
    "mean = 3.5\n",
    "point = 4\n",
    "cdf = poisson_cdf(mean, point)\n",
    "print(\"The CDF of a Poisson distribution with mean\", mean, \"at point\", point, \"is\", cdf)"
   ]
  },
  {
   "cell_type": "markdown",
   "id": "7d445f9b-011d-40cb-9ea0-5c3ffb226c0e",
   "metadata": {},
   "source": [
    "# Q7. How Binomial distribution different from Poisson distribution?"
   ]
  },
  {
   "cell_type": "markdown",
   "id": "9f716e7c-5962-466c-ab3e-1f803fec8662",
   "metadata": {},
   "source": [
    "* Binomial and Poisson distributions are both discrete probability distributions, but they are used in different contexts and have different properties.\n",
    "\n",
    "* Binomial distribution is used when there are a fixed number of trials, and each trial has only two possible outcomes (success or failure). The probability of success is the same for each trial, and the trials are independent. The binomial distribution is characterized by two parameters: the probability of success (denoted by p) and the number of trials (denoted by n). The probability mass function (PMF) of the binomial distribution gives the probability of obtaining a specific number of successes in n trials.\n",
    "\n",
    "* Poisson distribution, on the other hand, is used to model the number of occurrences of a rare event in a fixed interval of time or space. The Poisson distribution is characterized by a single parameter, lambda (λ), which represents the average number of occurrences in the given interval. The probability mass function (PMF) of the Poisson distribution gives the probability of obtaining a specific number of occurrences in the interval.\n",
    "\n",
    "* One key difference between binomial and Poisson distributions is that the binomial distribution is discrete, meaning it can only take on integer values, while the Poisson distribution can take on any non-negative integer value.\n",
    "\n",
    "* Another difference is in the assumptions made for the two distributions. Binomial distribution assumes a fixed number of trials, and the probability of success is constant for each trial. Poisson distribution assumes that the occurrences are rare and independent of each other, and the average rate of occurrence is constant over time or space.\n",
    "\n",
    "* In summary, binomial distribution is used to model the number of successes in a fixed number of trials with two possible outcomes, while Poisson distribution is used to model the number of occurrences of a rare event in a fixed interval of time or space."
   ]
  },
  {
   "cell_type": "markdown",
   "id": "03733610-c6ca-452a-aa07-3ac8204174b7",
   "metadata": {},
   "source": [
    "# Q8. Generate a random sample of size 1000 from a Poisson distribution with mean 5 and calculate the sample mean and variance."
   ]
  },
  {
   "cell_type": "code",
   "execution_count": 3,
   "id": "8c128af1-2a07-45d7-a131-09c7c1399cb7",
   "metadata": {},
   "outputs": [
    {
     "name": "stdout",
     "output_type": "stream",
     "text": [
      "Sample mean: 4.989\n",
      "Sample variance: 4.797676676676676\n"
     ]
    }
   ],
   "source": [
    "import numpy as np\n",
    "\n",
    "# Set the mean of the Poisson distribution\n",
    "mean = 5\n",
    "\n",
    "# Generate a random sample of size 1000 from the Poisson distribution\n",
    "sample = np.random.poisson(mean, size=1000)\n",
    "\n",
    "# Calculate the sample mean and variance\n",
    "sample_mean = np.mean(sample)\n",
    "sample_var = np.var(sample, ddof=1)\n",
    "\n",
    "# Print the results\n",
    "print(\"Sample mean:\", sample_mean)\n",
    "print(\"Sample variance:\", sample_var)"
   ]
  },
  {
   "cell_type": "markdown",
   "id": "794c95ff-e742-47f6-abca-76ad13706fe3",
   "metadata": {},
   "source": [
    "# Q9. How mean and variance are related in Binomial distribution and Poisson distribution?\n",
    "ANS\n",
    "* In the Binomial distribution, the mean is equal to the product of the number of trials and the probability of success in each trial. Specifically, if we have n independent trials each with a probability of success p, then the mean of the Binomial distribution is:\n",
    "mean=n*p\n",
    "\n",
    "* The variance of the Binomial distribution is given by:\n",
    "variance=n8P*(1-p)\n",
    "* In the Poisson distribution, the mean is equal to the parameter λ. Specifically, if we have a Poisson distribution with parameter λ, then the mean of the distribution is:\n",
    "\n",
    "\n",
    "* The variance of the Poisson distribution is also equal to the parameter λ. Specifically, the variance of the Poisson distribution is:\n",
    "mean=\n",
    "Thus, in both the Binomial and Poisson distributions, the variance is directly proportional to the mean. As the mean increases, so does the varianc"
   ]
  },
  {
   "cell_type": "markdown",
   "id": "ebbd0c0b-c1c7-4a24-8efa-642c446f094c",
   "metadata": {},
   "source": []
  },
  {
   "cell_type": "markdown",
   "id": "509f60c2-dc40-4920-a499-fbe1d999d2a9",
   "metadata": {},
   "source": []
  },
  {
   "cell_type": "markdown",
   "id": "7cedcf1e-7ca6-483b-b38a-760175c43618",
   "metadata": {},
   "source": []
  },
  {
   "cell_type": "markdown",
   "id": "f620cebe-661b-47af-8c69-79e84aa62cca",
   "metadata": {},
   "source": []
  },
  {
   "cell_type": "markdown",
   "id": "cd07b37c-13fb-4f71-8bea-5ce0a2843399",
   "metadata": {},
   "source": []
  },
  {
   "cell_type": "markdown",
   "id": "07af84a5-2724-4e06-8dbd-3c0bd8d4d350",
   "metadata": {},
   "source": []
  },
  {
   "cell_type": "markdown",
   "id": "e3891aa7-4957-4e21-964e-4f0147f309e7",
   "metadata": {},
   "source": []
  },
  {
   "cell_type": "markdown",
   "id": "2458b982-045f-40e3-adee-8a4b8101c878",
   "metadata": {},
   "source": []
  },
  {
   "cell_type": "markdown",
   "id": "e77439a5-6bbc-4f0e-9eee-acec766cefe4",
   "metadata": {},
   "source": []
  },
  {
   "cell_type": "markdown",
   "id": "84966dc3-e532-426f-9050-3801b98005c9",
   "metadata": {},
   "source": []
  },
  {
   "cell_type": "markdown",
   "id": "fa0f6506-69a3-4215-bbfd-69fdbd593679",
   "metadata": {},
   "source": []
  },
  {
   "cell_type": "markdown",
   "id": "a305e3b8-1dbe-44bf-bd57-dbe3dd98052b",
   "metadata": {},
   "source": []
  },
  {
   "cell_type": "markdown",
   "id": "0141829f-9e46-4e30-89da-33b705236fc0",
   "metadata": {},
   "source": []
  },
  {
   "cell_type": "markdown",
   "id": "440c3ca9-f942-4f1a-8035-57912e42334d",
   "metadata": {},
   "source": []
  }
 ],
 "metadata": {
  "kernelspec": {
   "display_name": "Python 3 (ipykernel)",
   "language": "python",
   "name": "python3"
  },
  "language_info": {
   "codemirror_mode": {
    "name": "ipython",
    "version": 3
   },
   "file_extension": ".py",
   "mimetype": "text/x-python",
   "name": "python",
   "nbconvert_exporter": "python",
   "pygments_lexer": "ipython3",
   "version": "3.10.8"
  }
 },
 "nbformat": 4,
 "nbformat_minor": 5
}
