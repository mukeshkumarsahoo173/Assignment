{
 "cells": [
  {
   "cell_type": "markdown",
   "id": "cc6bd3d6-50d4-4895-b671-f65d28b459dd",
   "metadata": {},
   "source": [
    "1. Who developed Python Language ?"
   ]
  },
  {
   "cell_type": "markdown",
   "id": "f544a60d-bc28-4097-b4a0-c7c530a1af68",
   "metadata": {
    "tags": []
   },
   "source": [
    "ANS"
   ]
  },
  {
   "cell_type": "markdown",
   "id": "44cc156d-6972-40a3-84fd-06dab71121ec",
   "metadata": {},
   "source": [
    "Guido van Rossum in the year of 1991"
   ]
  }
 ],
 "metadata": {
  "kernelspec": {
   "display_name": "Python 3 (ipykernel)",
   "language": "python",
   "name": "python3"
  },
  "language_info": {
   "codemirror_mode": {
    "name": "ipython",
    "version": 3
   },
   "file_extension": ".py",
   "mimetype": "text/x-python",
   "name": "python",
   "nbconvert_exporter": "python",
   "pygments_lexer": "ipython3",
   "version": "3.10.8"
  }
 },
 "nbformat": 4,
 "nbformat_minor": 5
}
