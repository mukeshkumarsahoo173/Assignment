{
 "cells": [
  {
   "cell_type": "markdown",
   "id": "028dbe5d-66d7-4335-96ad-acf40fabfe3c",
   "metadata": {},
   "source": [
    "# Q1, Create a vehicle class with an init method having instance variables as name_of_vehicle, max_speed and average_of_vehicle."
   ]
  },
  {
   "cell_type": "markdown",
   "id": "29a45bad-9e08-4f07-a4c8-ec80febecc9a",
   "metadata": {},
   "source": [
    "Ans"
   ]
  },
  {
   "cell_type": "code",
   "execution_count": 1,
   "id": "ab10c103-cd1f-4442-8985-ba070da07fea",
   "metadata": {},
   "outputs": [],
   "source": [
    "class vehicle:\n",
    "    def __init__ (self,name_of_vehicle, max_speed, average_of_vehicle ):\n",
    "        self.name_of_vehicle=name_of_vehicle\n",
    "        self.max_speed=max_speed\n",
    "        self.average_of_vehicle=average_of_vehicle"
   ]
  },
  {
   "cell_type": "markdown",
   "id": "3370c2e5-eadf-4206-a2b3-36331411d7b7",
   "metadata": {},
   "source": [
    "# Q2. Create a child class car from the vehicle class created in Que 1, which will inherit the vehicle class.\n",
    "# Create a method named seating_capacity which takes capacity as an argument and returns the name of the vehicle and its seating capacity."
   ]
  },
  {
   "cell_type": "code",
   "execution_count": 3,
   "id": "22ee2764-55d3-425a-b6d7-86806b1eadf5",
   "metadata": {},
   "outputs": [],
   "source": [
    "class vehicle:\n",
    "    def __init__ (self,name_of_vehicle, max_speed, average_of_vehicle ):\n",
    "        self.name_of_vehicle=name_of_vehicle\n",
    "        self.max_speed=max_speed\n",
    "        self.average_of_vehicle=average_of_vehicle"
   ]
  },
  {
   "cell_type": "code",
   "execution_count": 4,
   "id": "2b93a1cf-a9cd-40dd-ba3f-7a4142e949af",
   "metadata": {},
   "outputs": [],
   "source": [
    "class car(vehicle):\n",
    "    def seating_capacity(self,capacity):\n",
    "        self.capacity=capacity\n",
    "        return self.capacity,self.name_of_vehicle"
   ]
  },
  {
   "cell_type": "code",
   "execution_count": 5,
   "id": "7014f273-cdfd-412b-8f05-92d0a377c5ab",
   "metadata": {},
   "outputs": [],
   "source": [
    "car_obj=car(\"Honda civic\",180,14)"
   ]
  },
  {
   "cell_type": "code",
   "execution_count": 6,
   "id": "44963f39-846e-4b07-a445-c2c3ebb5cfc4",
   "metadata": {},
   "outputs": [
    {
     "data": {
      "text/plain": [
       "(4, 'Honda civic')"
      ]
     },
     "execution_count": 6,
     "metadata": {},
     "output_type": "execute_result"
    }
   ],
   "source": [
    "car_obj.seating_capacity(4)"
   ]
  },
  {
   "cell_type": "markdown",
   "id": "5f3cf9b0-5590-427a-bd27-8495fcb60d4f",
   "metadata": {},
   "source": [
    "# Q3. What is multiple inheritance? Write a python code to demonstrate multiple inheritance."
   ]
  },
  {
   "cell_type": "markdown",
   "id": "a1779014-529f-4d32-825c-d032c599cb0e",
   "metadata": {},
   "source": [
    "Ans"
   ]
  },
  {
   "cell_type": "markdown",
   "id": "04cf7c35-a0a9-4d9b-a7cc-aacc82880d53",
   "metadata": {},
   "source": [
    "# Multiple inheritance:\n",
    "-When 2 diffrent classes combined to create another class than the created new class is caled multiple inheritance"
   ]
  },
  {
   "cell_type": "code",
   "execution_count": 7,
   "id": "1c816b4e-5f5b-431d-9ea8-d2648f43ed59",
   "metadata": {},
   "outputs": [
    {
     "name": "stdout",
     "output_type": "stream",
     "text": [
      "Eye Color Is Blue : I am Mom Eye\n",
      "Skin Color Is white : I am Dad skin\n"
     ]
    }
   ],
   "source": [
    "class Mom: # Create mom\n",
    "    def eye_color(self):\n",
    "        return (\"Eye Color Is Blue : I am Mom Eye\")\n",
    "    \n",
    "class Dad: # create dad\n",
    "    def skin_color(self):\n",
    "        return \"Skin Color Is white : I am Dad skin\"\n",
    "    \n",
    "class Baby(Mom, Dad): # create baby\n",
    "    pass\n",
    "\n",
    "baby1= Baby()#create baby object\n",
    "\n",
    "print(baby1.eye_color())# see mom gene\n",
    "print(baby1.skin_color()) # see dad gene"
   ]
  },
  {
   "cell_type": "markdown",
   "id": "e94f5e4c-c911-407f-9d11-fd70a2bf0fde",
   "metadata": {},
   "source": [
    "# Q4. What are getter and setter in python? Create a class and create a getter and a setter method in this class."
   ]
  },
  {
   "cell_type": "markdown",
   "id": "7e9d35bd-8e85-41ef-87b1-e34e9dca5e62",
   "metadata": {},
   "source": [
    "Ans"
   ]
  },
  {
   "cell_type": "markdown",
   "id": "f70a39c9-57f7-4f5b-a67f-874561561c7f",
   "metadata": {},
   "source": [
    "Getter: A method that allows you to access an attribute in a given class\n",
    "\n",
    "Setter: A method that allows you to set or mutate the value of an attribute in a class"
   ]
  },
  {
   "cell_type": "markdown",
   "id": "fce5e2be-000a-4ab5-b9c1-98d8bb025cc0",
   "metadata": {},
   "source": [
    "class Getter_Setter:   \n",
    "    def __init__(self, age = 0):   \n",
    "         self._age = age   \n",
    "      # using the getter method   \n",
    "    def get_age(self):   \n",
    "        return self._age   \n",
    "      # using the setter method   \n",
    "    def set_age(self, a):   \n",
    "        self._age = a   \n",
    "    \n",
    "Arun = Getter_Setter()   \n",
    "    \n",
    "#using the setter function  \n",
    "Arun.set_age(27)   \n",
    "    \n",
    "# using the getter function  \n",
    "print(Arun.get_age())   \n",
    "    \n",
    "print(Arun._age)"
   ]
  },
  {
   "cell_type": "markdown",
   "id": "d77953c7-ad08-4ff1-92ab-8f0697264197",
   "metadata": {},
   "source": [
    "# Q5.What is method overriding in python? Write a python code to demonstrate method overriding."
   ]
  },
  {
   "cell_type": "markdown",
   "id": "2658e295-d405-4b16-baa9-87f6139ca072",
   "metadata": {},
   "source": [
    "Ans"
   ]
  },
  {
   "cell_type": "markdown",
   "id": "386979fd-e9b5-40f0-b48c-0b510cc01013",
   "metadata": {},
   "source": [
    "-The method overriding in Python means creating two methods with the same name but differ in the programming logic. The concept of Method overriding allows us to change or override the Parent Class function in the Child Class."
   ]
  },
  {
   "cell_type": "code",
   "execution_count": 10,
   "id": "1ff9483c-496a-4719-aeec-27ae5a99867c",
   "metadata": {},
   "outputs": [
    {
     "name": "stdout",
     "output_type": "stream",
     "text": [
      "Inside Parent\n",
      "Inside Child\n"
     ]
    }
   ],
   "source": [
    "# Defining parent class\n",
    "class Parent():\n",
    "      \n",
    "    # Constructor\n",
    "    def __init__(self):\n",
    "        self.value = \"Inside Parent\"\n",
    "          \n",
    "    # Parent's show method\n",
    "    def show(self):\n",
    "        print(self.value)\n",
    "          \n",
    "# Defining child class\n",
    "class Child(Parent1):\n",
    "      \n",
    "    # Constructor\n",
    "    def __init__(self):\n",
    "        self.value = \"Inside Child\"\n",
    "          \n",
    "    # Child's show method\n",
    "    def show(self):\n",
    "        print(self.value)\n",
    "        \n",
    "# Driver's code\n",
    "obj1 = Parent()\n",
    "obj2 = Child()\n",
    "  \n",
    "obj1.show()\n",
    "obj2.show()"
   ]
  },
  {
   "cell_type": "code",
   "execution_count": null,
   "id": "070d0259-7425-419d-b97d-72c432ecdcd9",
   "metadata": {},
   "outputs": [],
   "source": []
  }
 ],
 "metadata": {
  "kernelspec": {
   "display_name": "Python 3 (ipykernel)",
   "language": "python",
   "name": "python3"
  },
  "language_info": {
   "codemirror_mode": {
    "name": "ipython",
    "version": 3
   },
   "file_extension": ".py",
   "mimetype": "text/x-python",
   "name": "python",
   "nbconvert_exporter": "python",
   "pygments_lexer": "ipython3",
   "version": "3.10.8"
  }
 },
 "nbformat": 4,
 "nbformat_minor": 5
}
